{
 "cells": [
  {
   "cell_type": "markdown",
   "id": "bdddd46a",
   "metadata": {},
   "source": [
    "# Theory Questions"
   ]
  },
  {
   "cell_type": "markdown",
   "id": "0d9c948f",
   "metadata": {},
   "source": [
    "1. What is NumPy, and why is it widely used in Python ?\n",
    "\n",
    "    - NumPy is an open-source Python library used for numerical and scientific computing. It provides a powerful N-dimensional array object called `ndarray`, which is more efficient and convenient than regular Python lists.\n",
    "\n",
    "        It is widely used because:\n",
    "\n",
    "        1. It supports fast, vectorized operations on arrays without explicit loops.\n",
    "        2. It includes a wide range of mathematical, statistical, and linear algebra functions.\n",
    "        3. It is memory-efficient and handles large datasets smoothly.\n",
    "        4. It integrates well with other libraries like Pandas, Matplotlib, and SciPy.\n",
    "        5. It simplifies complex numerical computations in fewer lines of code."
   ]
  },
  {
   "cell_type": "markdown",
   "id": "fd3bf7cc",
   "metadata": {},
   "source": [
    "2. How does broadcasting work in NumPy ?\n",
    "\n",
    "     - **Broadcasting** in NumPy allows arrays with different shapes to be used in arithmetic operations.\n",
    "\n",
    "        - It works by automatically expanding the smaller array’s shape to match the larger one without copying data.\n",
    "        - Dimensions are compared from the end; if they match or one is 1, broadcasting is allowed.\n",
    "        - It avoids manual reshaping and makes operations faster and more memory-efficient."
   ]
  },
  {
   "cell_type": "markdown",
   "id": "53d41c9a",
   "metadata": {},
   "source": [
    "3. What is a Pandas DataFrame ?\n",
    "\n",
    "    - A Pandas DataFrame is a 2-dimensional, tabular data structure with labeled rows and columns, similar to an Excel spreadsheet or SQL table.\n",
    "\n",
    "        - It can hold different data types (int, float, string, etc.) in each column.\n",
    "        - It's built on top of NumPy and is widely used for data manipulation and analysis.\n",
    "\n",
    "        **Example:**\n",
    "\n",
    "        ```python\n",
    "        import pandas as pd\n",
    "\n",
    "        data = {\n",
    "            'Name': ['Alice', 'Bob', 'Charlie'],\n",
    "            'Age': [25, 30, 22],\n",
    "            'City': ['New York', 'Paris', 'London']\n",
    "        }\n",
    "\n",
    "        df = pd.DataFrame(data)\n",
    "        print(df)\n",
    "        ```"
   ]
  },
  {
   "cell_type": "markdown",
   "id": "e0e1e4ff",
   "metadata": {},
   "source": [
    "4. Explain the use of the groupby() method in Pandas.\n",
    "\n",
    "    - The `groupby()` method in Pandas is used to group data based on one or more columns and perform operations on each group separately.\n",
    "\n",
    "        - It splits the data into groups, applies a function (like sum, mean, count), and combines the result.\n",
    "        - Useful for summarizing and analyzing datasets by categories.\n",
    "\n",
    "        **Example:**\n",
    "\n",
    "        ```python\n",
    "        import pandas as pd\n",
    "\n",
    "        data = {'Department': ['HR', 'HR', 'IT', 'IT'],\n",
    "                'Salary': [3000, 3200, 4000, 4200]}\n",
    "        df = pd.DataFrame(data)\n",
    "\n",
    "        grouped = df.groupby('Department')['Salary'].mean()\n",
    "        print(grouped)\n",
    "        ```"
   ]
  },
  {
   "cell_type": "markdown",
   "id": "cd76fbd5",
   "metadata": {},
   "source": [
    "5. Why is Seaborn preferred for statistical visualizations ?\n",
    "\n",
    "    - Seaborn is preferred for statistical visualizations due to the following reasons:\n",
    "\n",
    "        1. **Built on Matplotlib**: It provides a higher-level interface for creating complex visualizations with less code.\n",
    "        \n",
    "        2. **Integrated with Pandas**: Directly works with Pandas DataFrames, making data manipulation and visualization seamless.\n",
    "        \n",
    "        3. **Statistical Plots**: Offers built-in functions for statistical plots like boxplots, violin plots, pair plots, and heatmaps.\n",
    "        \n",
    "        4. **Aesthetics**: It has better default aesthetics, making plots more visually appealing.\n",
    "        \n",
    "        5. **Ease of Use**: Simplifies tasks like plotting relationships between multiple variables, correlation, and distributions."
   ]
  },
  {
   "cell_type": "markdown",
   "id": "872081aa",
   "metadata": {},
   "source": [
    "6. What are the differences between NumPy arrays and Python lists ?\n",
    "\n",
    "    - **Differences between NumPy arrays and Python lists:**\n",
    "\n",
    "        1. **Performance**: NumPy arrays are more efficient in terms of memory and performance for numerical operations, as they are implemented in C. Python lists are slower for large datasets.\n",
    "        \n",
    "        2. **Homogeneity**: NumPy arrays store elements of the same data type, whereas Python lists can store elements of different types.\n",
    "\n",
    "        3. **Functionality**: NumPy arrays support vectorized operations and a wide range of mathematical functions, which Python lists do not.\n",
    "\n",
    "        4. **Memory Consumption**: NumPy arrays consume less memory due to more efficient data storage, while Python lists require more memory.\n",
    "\n",
    "        5. **Size Flexibility**: NumPy arrays have a fixed size after creation, while Python lists can dynamically resize."
   ]
  },
  {
   "cell_type": "markdown",
   "id": "57bf35cc",
   "metadata": {},
   "source": [
    "7. What is a heatmap, and when should it be used ?\n",
    "\n",
    "    - A **heatmap** is a data visualization that uses color to represent the values in a matrix or 2D data. It is particularly useful for visualizing the intensity of values across a grid.\n",
    "\n",
    "        **When to use:**\n",
    "        - **Correlation Analysis**: To show correlations between variables (e.g., a correlation matrix).\n",
    "        - **Pattern Recognition**: When looking for patterns or outliers in data.\n",
    "        - **Large Data Visualization**: To represent complex datasets in a simple, intuitive format.\n",
    "\n",
    "        Heatmaps are commonly used in fields like data science, finance, and biology for visualizing relationships and patterns in large datasets."
   ]
  },
  {
   "cell_type": "markdown",
   "id": "140d2669",
   "metadata": {},
   "source": [
    "8. What does the term “vectorized operation” mean in NumPy ?\n",
    "\n",
    "    - A **vectorized operation** in NumPy refers to performing element-wise operations on entire arrays without the need for explicit loops. \n",
    "\n",
    "        - It allows NumPy to perform operations like addition, multiplication, or logical comparisons on arrays in a highly efficient manner.\n",
    "        - The operations are optimized and executed in compiled C code, which speeds up computation and reduces memory usage.\n",
    "\n",
    "        **Example:**\n",
    "        ```python\n",
    "        import numpy as np\n",
    "        a = np.array([1, 2, 3])\n",
    "        b = np.array([4, 5, 6])\n",
    "        result = a + b  # Vectorized addition\n",
    "        ``` \n",
    "\n",
    "        This is faster than using loops to add corresponding elements in regular Python lists."
   ]
  },
  {
   "cell_type": "markdown",
   "id": "34c8b6f0",
   "metadata": {},
   "source": [
    "9. How does Matplotlib differ from Plotly ?\n",
    "\n",
    "    - **Differences between Matplotlib and Plotly:**\n",
    "\n",
    "        1. **Interactivity**:\n",
    "            - **Matplotlib**: Primarily generates static plots (although some interactivity can be added).\n",
    "            - **Plotly**: Generates interactive plots by default, allowing users to zoom, hover, and pan.\n",
    "\n",
    "        2. **Customization**:\n",
    "            - **Matplotlib**: Offers extensive customization options but requires more code for detailed changes.\n",
    "            - **Plotly**: Provides high-level and easier-to-use customization, especially for interactive features.\n",
    "\n",
    "        3. **Plot Types**:\n",
    "            - **Matplotlib**: Primarily focuses on basic 2D plots (line, bar, scatter, etc.).\n",
    "            - **Plotly**: Supports both 2D and 3D visualizations, including more complex charts like choropleth maps and bubble charts.\n",
    "\n",
    "        4. **Use Cases**:\n",
    "            - **Matplotlib**: Preferred for simple, static visualizations and publication-quality figures.\n",
    "            - **Plotly**: Ideal for creating dashboards and interactive web-based visualizations.\n",
    "\n",
    "        5. **Integration**:\n",
    "            - **Matplotlib**: Easily integrates with other libraries like Pandas and Seaborn.\n",
    "            - **Plotly**: Best used with web frameworks like Dash for interactive visualizations."
   ]
  },
  {
   "cell_type": "markdown",
   "id": "814d0fb6",
   "metadata": {},
   "source": [
    "10. What is the significance of hierarchical indexing in Pandas ?\n",
    "\n",
    "    - Hierarchical indexing in Pandas allows for multiple levels of indexing on a DataFrame or Series, enabling more complex data manipulation and analysis.\n",
    "\n",
    "        **Significance:**\n",
    "        - **Multi-level Indexing**: It allows you to index data using more than one key, improving organization and access to multi-dimensional data.\n",
    "        - **Data Grouping**: Facilitates grouping and aggregation of data based on multiple criteria (e.g., time periods, regions).\n",
    "        - **Efficient Data Selection**: Enables selecting data at different levels, which makes slicing, reshaping, and pivoting easier.\n",
    "        - **Better Representation**: Useful for representing multi-dimensional data (e.g., time-series data with multiple categories).\n",
    "\n",
    "        **Example:**\n",
    "\n",
    "        ```python\n",
    "        import pandas as pd\n",
    "\n",
    "        # Creating a multi-index DataFrame\n",
    "        index = pd.MultiIndex.from_tuples([('A', 1), ('A', 2), ('B', 1)], names=['letter', 'number'])\n",
    "        df = pd.DataFrame({'value': [10, 20, 30]}, index=index)\n",
    "        print(df)\n",
    "        ```"
   ]
  },
  {
   "cell_type": "markdown",
   "id": "23c34a4c",
   "metadata": {},
   "source": [
    "11. What is the role of Seaborn’s pairplot() function ?\n",
    "\n",
    "    - The `pairplot()` function in Seaborn is used to visualize pairwise relationships between multiple numerical variables in a dataset.\n",
    "\n",
    "       **Role:**\n",
    "        1. **Matrix of Plots**: It creates a grid of scatterplots for all possible pairwise combinations of the variables.\n",
    "        \n",
    "        2. **Diagonals**: The diagonal plots typically show the distribution of each individual variable (e.g., histograms or KDEs).\n",
    "        \n",
    "        3. **Exploratory Data Analysis**: Helps in identifying patterns, correlations, and possible outliers across the variables in the dataset.\n",
    "\n",
    "       **Example:**\n",
    "        ```python\n",
    "        import seaborn as sns\n",
    "        import pandas as pd\n",
    "\n",
    "        # Load example dataset\n",
    "        data = sns.load_dataset('iris')\n",
    "\n",
    "        # Plot pairwise relationships\n",
    "        sns.pairplot(data)\n",
    "        ```"
   ]
  },
  {
   "cell_type": "markdown",
   "id": "3c43e28c",
   "metadata": {},
   "source": [
    "12. What is the purpose of the describe() function in Pandas ?\n",
    "\n",
    "    - The `describe()` function in Pandas is used to generate descriptive statistics for numerical columns in a DataFrame.\n",
    "\n",
    "        **Purpose:**\n",
    "        - **Summary Statistics**: It provides key statistical measures such as count, mean, standard deviation, minimum, maximum, and quartiles (25%, 50%, and 75%).\n",
    "        - **Quick Insights**: Helps in quickly understanding the distribution and spread of data.\n",
    "        - **Data Exploration**: Useful for initial exploratory data analysis (EDA) to detect anomalies or patterns.\n",
    "\n",
    "        **Example:**\n",
    "        ```python\n",
    "        import pandas as pd\n",
    "\n",
    "        # Sample DataFrame\n",
    "        data = {'Age': [25, 30, 35, 40, 45], 'Salary': [50000, 55000, 60000, 65000, 70000]}\n",
    "        df = pd.DataFrame(data)\n",
    "\n",
    "        # Describe the data\n",
    "        print(df.describe())\n",
    "        ```"
   ]
  },
  {
   "cell_type": "markdown",
   "id": "d4170b1f",
   "metadata": {},
   "source": [
    "13. Why is handling missing data important in Pandas ?\n",
    "\n",
    "    - Handling missing data in Pandas is crucial because:\n",
    "\n",
    "        1. **Data Integrity**: Missing values can skew analysis, lead to incorrect results, and affect the validity of models.\n",
    "\n",
    "        2. **Accurate Analysis**: Removing or filling missing data ensures the analysis is based on complete and accurate datasets.\n",
    "\n",
    "        3. **Prevent Errors**: Many operations (like calculations, aggregations, or plotting) can fail or give misleading results if missing data is not properly handled.\n",
    "\n",
    "        4. **Model Performance**: In machine learning, missing data can impact model performance if not imputed or handled appropriately."
   ]
  },
  {
   "cell_type": "markdown",
   "id": "2d6cda13",
   "metadata": {},
   "source": [
    "14. What are the benefits of using Plotly for data visualization ?\n",
    "\n",
    "    - The benefits of using Plotly for data visualization include:\n",
    "\n",
    "        - **Interactivity**: Plotly automatically creates interactive plots, allowing users to zoom, pan, and hover over data points for more detailed information.\n",
    "        \n",
    "        - **Wide Range of Visualizations**: It supports a variety of chart types, including 2D and 3D plots, line charts, scatter plots, bar charts, bubble charts, and more.\n",
    "        \n",
    "        - **Web Integration**: Plotly visualizations can easily be embedded in web applications or dashboards, especially with frameworks like Dash.\n",
    "        \n",
    "        - **Aesthetics**: It offers visually appealing and customizable plots with less code compared to other libraries like Matplotlib.\n",
    "        \n",
    "        - **Data Sharing**: Plotly provides cloud services for sharing and collaborating on visualizations in real-time.\n",
    "        \n",
    "        - **Flexible for Complex Data**: It handles complex visualizations like geographic maps, network graphs, and multi-dimensional data."
   ]
  },
  {
   "cell_type": "markdown",
   "id": "9a658568",
   "metadata": {},
   "source": [
    "15. How does NumPy handle multidimensional arrays ?\n",
    "\n",
    "    - NumPy handles multidimensional arrays through its **ndarray** object, which allows for efficient storage and manipulation of data in more than one dimension (e.g., 2D, 3D arrays).\n",
    "\n",
    "        **How NumPy handles multidimensional arrays:**\n",
    "        \n",
    "        1. **ndarray Object**: The `ndarray` is the core structure in NumPy for handling array\n",
    "        s. It can represent arrays with any number of dimensions (1D, 2D, 3D, etc.).\n",
    "        \n",
    "        2. **Indexing**: NumPy supports advanced indexing methods for multidimensional arrays, allowing access to specific rows, columns, or elements using multiple indices.\n",
    "        \n",
    "        3. **Shape and Reshaping**: The `.shape` attribute provides the dimensions of an array, and the `.reshape()` method allows changing the shape of the array without changing its data.\n",
    "        \n",
    "        4. **Element-wise Operations**: NumPy allows element-wise operations on multidimensional arrays (e.g., addition, multiplication) that are vectorized for speed and efficiency.\n",
    "        \n",
    "        5. **Broadcasting**: Broadcasting allows NumPy to perform operations on arrays of different shapes without explicit looping, making it easier to apply operations on arrays with differing dimensions.\n",
    "\n",
    "        **Example:**\n",
    "        ```python\n",
    "        import numpy as np\n",
    "\n",
    "        # Creating a 2D array\n",
    "        arr = np.array([[1, 2, 3], [4, 5, 6]])\n",
    "\n",
    "        # Accessing elements\n",
    "        print(arr[0, 1])  # Output: 2\n",
    "\n",
    "        # Reshaping\n",
    "        reshaped = arr.reshape(3, 2)\n",
    "        print(reshaped)\n",
    "        ```"
   ]
  },
  {
   "cell_type": "markdown",
   "id": "be9b9b1d",
   "metadata": {},
   "source": [
    "16. What is the role of Bokeh in data visualization ?\n",
    "\n",
    "    - **Bokeh** is a powerful Python library used for interactive data visualization. Its primary role is to create visually appealing and highly interactive plots for web-based applications.\n",
    "\n",
    "        **Key Roles of Bokeh:**\n",
    "\n",
    "        1. **Interactive Visualizations**: Bokeh provides interactive features such as zooming, panning, and tooltips, allowing users to explore data dynamically.\n",
    "\n",
    "        2. **Web Integration**: Bokeh visualizations are designed to be easily integrated into web applications, making it ideal for building dashboards and web-based visualizations.\n",
    "\n",
    "        3. **Versatile Plot Types**: It supports a wide range of plot types, including line plots, scatter plots, bar charts, heatmaps, and geographic maps.\n",
    "\n",
    "        4. **Customizable**: Bokeh allows for fine-grained customization of plots, including the styling of axes, tooltips, colors, and more.\n",
    "\n",
    "        5. **Real-time Streaming**: It can handle real-time data streaming and updating of plots, making it suitable for dynamic data sources like financial markets or sensor data.\n",
    "\n",
    "        6. **Compatibility**: Bokeh works well with other Python libraries like Pandas, NumPy, and also integrates with Jupyter Notebooks.\n",
    "\n",
    "        **Example:**\n",
    "        ```python\n",
    "        from bokeh.plotting import figure, show\n",
    "\n",
    "        # Create a simple line plot\n",
    "        p = figure(title=\"Simple Line Plot\", x_axis_label='X-Axis', y_axis_label='Y-Axis')\n",
    "        p.line([1, 2, 3, 4], [10, 20, 30, 40], legend_label=\"Line\", line_width=2)\n",
    "\n",
    "        # Show the plot\n",
    "        show(p)\n",
    "        ```"
   ]
  },
  {
   "cell_type": "markdown",
   "id": "9e5412fb",
   "metadata": {},
   "source": [
    "17. Explain the difference between apply() and map() in Pandas.\n",
    "\n",
    "    - **Difference between `apply()` and `map()` in Pandas:**\n",
    "\n",
    "        **1. Purpose**:\n",
    "\n",
    "        - **`apply()`**: It is used to apply a function along an axis (rows or columns) of a DataFrame or Series. It can be used with both Series and DataFrames.\n",
    "        - **`map()`**: It is used to apply a function element-wise to a Series. It is mainly used for Series objects, and it can handle transformations and replacements.\n",
    "\n",
    "        **2. Type of Input**:\n",
    "\n",
    "        - **`apply()`**: Can accept a function, lambda function, or a NumPy ufunc as an argument. It can also be applied to entire rows or columns in a DataFrame.\n",
    "        - **`map()`**: Typically accepts a function, a dictionary, or a Series. It is specifically designed for element-wise transformations in a Series.\n",
    "\n",
    "        **3. Output**:\n",
    "            \n",
    "        - **`apply()`**: Can return a scalar, Series, or DataFrame, depending on the function being applied. It can also work along rows or columns and handle more complex operations.\n",
    "        - **`map()`**: Always returns a Series after applying the function element-wise to each value.\n",
    "\n",
    "        **4. Flexibility**:\n",
    "            \n",
    "        - **`apply()`**: More flexible, as it can be used for both row-wise and column-wise operations in a DataFrame. It can also apply complex functions involving multiple columns.\n",
    "        - **`map()`**: Less flexible as it works only on a single column (Series), and is generally limited to simple mappings or transformations.\n",
    "\n",
    "        **5. Performance**:\n",
    "            \n",
    "        - **`apply()`**: Tends to be slower than `map()` when working on Series because it can apply complex functions across entire rows or columns, and performs additional overhead for handling DataFrame operations.\n",
    "        - **`map()`**: Generally faster than `apply()` for element-wise transformations as it is optimized for single-column operations.\n",
    "\n",
    "        ### Example:\n",
    "\n",
    "        ```python\n",
    "        import pandas as pd\n",
    "\n",
    "        # Sample data\n",
    "        data = {'A': [1, 2, 3, 4]}\n",
    "        df = pd.DataFrame(data)\n",
    "\n",
    "        # Using apply() to square all elements of column 'A'\n",
    "        df['A'] = df['A'].apply(lambda x: x**2)\n",
    "        print(df)\n",
    "\n",
    "        # Using map() to square elements of column 'A'\n",
    "        df['A'] = df['A'].map(lambda x: x**2)\n",
    "        print(df)\n",
    "        ```"
   ]
  },
  {
   "cell_type": "markdown",
   "id": "0e58a0a8",
   "metadata": {},
   "source": [
    "18. What are some advanced features of NumPy ?\n",
    "\n",
    "    - **Advanced features of NumPy** that make it a powerful tool for numerical computations are:\n",
    "\n",
    "        1. **Broadcasting**:\n",
    "            - Broadcasting allows NumPy to perform element-wise operations on arrays of different shapes, automatically expanding the smaller array to match the dimensions of the larger one, without the need for explicit loops. This makes operations efficient and concise.\n",
    "\n",
    "        2. **Vectorization**:\n",
    "            - Vectorization enables the use of NumPy’s optimized C-based operations, which perform element-wise computations without explicit Python loops. This results in significantly faster execution times, especially for large arrays.\n",
    "\n",
    "        3. **Advanced Indexing**:\n",
    "            - NumPy supports fancy indexing and boolean indexing, allowing you to index and slice arrays using integer arrays or boolean masks. This enables complex operations like selecting non-contiguous elements or performing conditional operations.\n",
    "\n",
    "        4. **Linear Algebra Functions**:\n",
    "            - NumPy provides a suite of linear algebra functions like `dot()`, `cross()`, `eig()`, and `inv()` for matrix multiplication, eigenvalue computation, and inversion. These functions are optimized for performance and ease of use.\n",
    "\n",
    "        5. **Memory Management**:\n",
    "            - NumPy offers control over memory layouts through options like `np.copy()`, `np.view()`, and `np.reshape()`. These allow for efficient data handling without unnecessary copying, which is essential for large datasets.\n",
    "\n",
    "        These advanced features make NumPy not only efficient but also flexible for scientific and mathematical computations."
   ]
  },
  {
   "cell_type": "markdown",
   "id": "267ae2bb",
   "metadata": {},
   "source": [
    "19. How does Pandas simplify time series analysis ?\n",
    "\n",
    "    - Pandas simplifies time series analysis through its rich set of built-in functionalities that make working with dates and times intuitive and efficient:\n",
    "\n",
    "        1. **Datetime Indexing**:  \n",
    "        Pandas allows setting date/time columns as index (`DateTimeIndex`), enabling easy slicing and selection based on dates (e.g., by year, month, day).\n",
    "\n",
    "        2. **Resampling**:  \n",
    "        With the `resample()` method, data can be converted to different frequencies (e.g., daily to monthly) for aggregation or transformation.\n",
    "\n",
    "        3. **Date Ranges & Frequencies**:  \n",
    "        Functions like `pd.date_range()` and `pd.to_datetime()` simplify generating and handling date ranges and converting strings to datetime objects.\n",
    "\n",
    "        4. **Shifting and Lagging**:  \n",
    "        Methods like `shift()` and `tshift()` help in computing lags or leads in time series data, which is useful in forecasting and trend analysis.\n",
    "\n",
    "        5. **Rolling Window Calculations**:  \n",
    "        Pandas provides rolling statistics (`rolling().mean()`, `rolling().sum()`, etc.) that help in smoothing data and analyzing trends over time windows.\n",
    "\n",
    "        These features make Pandas a powerful tool for handling, analyzing, and visualizing time series data."
   ]
  },
  {
   "cell_type": "markdown",
   "id": "aefe3e14",
   "metadata": {},
   "source": [
    "20. What is the role of a pivot table in Pandas ?\n",
    "\n",
    "    - A pivot table in Pandas is used to **summarize and reorganize data** to make it easier to analyze. It helps in creating a new table by **aggregating values** based on one or more keys (rows and columns).\n",
    "\n",
    "        **Key Roles of a Pivot Table:**\n",
    "\n",
    "        1. **Data Summarization**:  \n",
    "        It allows grouping of data and applying aggregation functions like `mean()`, `sum()`, `count()`, etc.\n",
    "\n",
    "        2. **Better Data Representation**:  \n",
    "        It restructures data into a table format that makes trends and patterns easier to spot.\n",
    "\n",
    "        3. **Customizable Aggregations**:  \n",
    "        You can specify which values to aggregate and how (using `aggfunc`).\n",
    "\n",
    "        4. **Handling Multi-Indexing**:  \n",
    "        Pivot tables support hierarchical indexing for rows and columns, offering more detailed breakdowns.\n",
    "\n",
    "        5. **Quick Comparison**:  \n",
    "        Great for comparing data across different categories or time periods.\n",
    "\n",
    "        **Example:**\n",
    "        ```python\n",
    "        import pandas as pd\n",
    "\n",
    "        data = {\n",
    "            'Department': ['Sales', 'Sales', 'HR', 'HR'],\n",
    "            'Month': ['Jan', 'Feb', 'Jan', 'Feb'],\n",
    "            'Revenue': [2000, 2500, 1200, 1300]\n",
    "        }\n",
    "\n",
    "        df = pd.DataFrame(data)\n",
    "\n",
    "        pivot = pd.pivot_table(df, index='Department', columns='Month', values='Revenue', aggfunc='sum')\n",
    "        ```\n",
    "\n",
    "        This creates a clear view of revenue per department per month."
   ]
  },
  {
   "cell_type": "markdown",
   "id": "78f78b86",
   "metadata": {},
   "source": [
    "21. Why is NumPy’s array slicing faster than Python’s list slicing ?\n",
    "\n",
    "    - NumPy’s array slicing is faster than Python’s list slicing due to the following reasons:\n",
    "\n",
    "        1. **Fixed Data Type**:  \n",
    "        NumPy arrays store elements of the same data type in a contiguous block of memory, making access and operations more efficient.\n",
    "\n",
    "        2. **Memory Efficiency**:  \n",
    "        Slicing a NumPy array returns a **view**, not a copy (unless explicitly done), which avoids additional memory allocation and speeds up the process.\n",
    "\n",
    "        3. **Low-Level Optimizations**:  \n",
    "        NumPy is implemented in C under the hood, allowing it to use optimized loops and memory access patterns.\n",
    "\n",
    "        4. **Vectorized Operations**:  \n",
    "        Operations on slices are vectorized in NumPy, which means no explicit Python loops are needed, reducing interpreter overhead.\n",
    "\n",
    "        5. **Better Cache Utilization**:  \n",
    "        Since data in NumPy arrays is stored contiguously, CPU cache usage is more efficient during slicing and computation.\n",
    "\n",
    "        These features collectively make slicing in NumPy arrays much faster and more memory-efficient compared to standard Python lists."
   ]
  },
  {
   "cell_type": "markdown",
   "id": "86f48dca",
   "metadata": {},
   "source": [
    "22. What are some common use cases for Seaborn ?\n",
    "\n",
    "    - Some common use cases for **Seaborn**, a powerful Python data visualization library are:\n",
    "\n",
    "        1. **Statistical Data Visualization**:  \n",
    "        Ideal for visualizing distributions, relationships, and categorical data using plots like `histplot`, `boxplot`, `violinplot`, and `barplot`.\n",
    "\n",
    "        2. **Correlation and Heatmaps**:  \n",
    "        Used to plot correlation matrices using `heatmap()` for understanding relationships between variables.\n",
    "\n",
    "        3. **Exploratory Data Analysis (EDA)**:  \n",
    "        Seaborn is widely used in EDA to quickly explore data patterns and anomalies with high-level functions like `pairplot()` and `catplot()`.\n",
    "\n",
    "        4. **Visualizing Time Series Data**:  \n",
    "        It provides clear and attractive line plots (`lineplot()`) for analyzing trends over time.\n",
    "\n",
    "        5. **Group Comparisons**:  \n",
    "        Helpful for comparing multiple groups through statistical plots such as `pointplot()`, `swarmplot()`, and `stripplot()`.\n",
    "\n",
    "        Seaborn simplifies complex visualizations and integrates well with Pandas DataFrames for efficient analysis."
   ]
  },
  {
   "cell_type": "markdown",
   "id": "e9bf9d1b",
   "metadata": {},
   "source": [
    "---"
   ]
  },
  {
   "cell_type": "markdown",
   "id": "6a9967b0",
   "metadata": {},
   "source": [
    "# Practical Questions"
   ]
  },
  {
   "cell_type": "code",
   "execution_count": 22,
   "id": "211c6cfa",
   "metadata": {},
   "outputs": [
    {
     "name": "stdout",
     "output_type": "stream",
     "text": [
      "Row sums: [ 6 15 24]\n"
     ]
    }
   ],
   "source": [
    "# 1. How do you create a 2D NumPy array and calculate the sum of each row ?\n",
    "\n",
    "# Import NumPy\n",
    "import numpy as np\n",
    "\n",
    "# Create a 2D NumPy array\n",
    "arr = np.array([[1, 2, 3], [4, 5, 6], [7, 8, 9]])\n",
    "\n",
    "# Calculate the sum of each row\n",
    "row_sums = np.sum(arr, axis=1)\n",
    "\n",
    "# Print the result\n",
    "print(\"Row sums:\", row_sums)\n"
   ]
  },
  {
   "cell_type": "code",
   "execution_count": 20,
   "id": "0e77e3b1",
   "metadata": {},
   "outputs": [
    {
     "name": "stdout",
     "output_type": "stream",
     "text": [
      "Mean of Marks: 84.33333333333333\n"
     ]
    }
   ],
   "source": [
    "# 2. Write a Pandas script to find the mean of a specific column in a DataFrame.\n",
    "\n",
    "# Import Pandas\n",
    "import pandas as pd\n",
    "\n",
    "# Create a sample DataFrame\n",
    "data = {'Name': ['Alice', 'Bob', 'Charlie'], 'Marks': [85, 90, 78]}\n",
    "df = pd.DataFrame(data)\n",
    "\n",
    "# Find the mean of the 'Marks' column\n",
    "mean_marks = df['Marks'].mean()\n",
    "\n",
    "# Print the result\n",
    "print(\"Mean of Marks:\", mean_marks)"
   ]
  },
  {
   "cell_type": "code",
   "execution_count": 15,
   "id": "d46104da",
   "metadata": {},
   "outputs": [
    {
     "data": {
      "image/png": "[encoded data removed]",
      "text/plain": [
       "<Figure size 640x480 with 1 Axes>"
      ]
     },
     "metadata": {},
     "output_type": "display_data"
    }
   ],
   "source": [
    "# 3. Create a scatter plot using Matplotlib.\n",
    "\n",
    "# Import Matplotlib\n",
    "import matplotlib.pyplot as plt\n",
    "\n",
    "# Sample data for scatter plot\n",
    "x = [1, 2, 3, 4, 5]\n",
    "y = [10, 20, 25, 30, 40]\n",
    "\n",
    "# Create scatter plot\n",
    "plt.scatter(x, y)\n",
    "\n",
    "# Add labels and title\n",
    "plt.xlabel(\"X-axis\")\n",
    "plt.ylabel(\"Y-axis\")\n",
    "plt.title(\"Simple Scatter Plot\")\n",
    "\n",
    "# Display the plot\n",
    "plt.show()"
   ]
  },
  {
   "cell_type": "code",
   "execution_count": 14,
   "id": "1d33814e",
   "metadata": {},
   "outputs": [
    {
     "data": {
      "image/png": "[encoded data removed]",
      "text/plain": [
       "<Figure size 640x480 with 2 Axes>"
      ]
     },
     "metadata": {},
     "output_type": "display_data"
    }
   ],
   "source": [
    "# 4. How do you calculate the correlation matrix using Seaborn and visualize it with a heatmap ?\n",
    "\n",
    "# Import required libraries\n",
    "import seaborn as sns\n",
    "import pandas as pd\n",
    "import matplotlib.pyplot as plt\n",
    "\n",
    "# Create a sample DataFrame\n",
    "data = {'A': [1, 2, 3, 4, 5], 'B': [5, 4, 3, 2, 1], 'C': [2, 3, 4, 5, 6]}\n",
    "df = pd.DataFrame(data)\n",
    "\n",
    "# Calculate the correlation matrix\n",
    "corr_matrix = df.corr()\n",
    "\n",
    "# Visualize the correlation matrix using a heatmap\n",
    "sns.heatmap(corr_matrix, annot=True, cmap='coolwarm')\n",
    "\n",
    "# Show the plot\n",
    "plt.title(\"Correlation Heatmap\")\n",
    "plt.show()\n"
   ]
  },
  {
   "cell_type": "code",
   "execution_count": 12,
   "id": "4eb3fb3f",
   "metadata": {},
   "outputs": [
    {
     "data": {
      "application/vnd.plotly.v1+json": {
       "config": {
        "plotlyServerURL": "https://plot.ly"
       },
       "data": [
        {
         "alignmentgroup": "True",
         "hovertemplate": "Fruits=%{x}<br>Quantity=%{y}<extra></extra>",
         "legendgroup": "",
         "marker": {
          "color": "#636efa",
          "pattern": {
           "shape": ""
          }
         },
         "name": "",
         "offsetgroup": "",
         "orientation": "v",
         "showlegend": false,
         "textposition": "auto",
         "type": "bar",
         "x": [
          "Apple",
          "Banana",
          "Cherry",
          "Date"
         ],
         "xaxis": "x",
         "y": [
          10,
          15,
          7,
          12
         ],
         "yaxis": "y"
        }
       ],
       "layout": {
        "barmode": "relative",
        "legend": {
         "tracegroupgap": 0
        },
        "template": {
         "data": {
          "bar": [
           {
            "error_x": {
             "color": "#2a3f5f"
            },
            "error_y": {
             "color": "#2a3f5f"
            },
            "marker": {
             "line": {
              "color": "#E5ECF6",
              "width": 0.5
             },
             "pattern": {
              "fillmode": "overlay",
              "size": 10,
              "solidity": 0.2
             }
            },
            "type": "bar"
           }
          ],
          "barpolar": [
           {
            "marker": {
             "line": {
              "color": "#E5ECF6",
              "width": 0.5
             },
             "pattern": {
              "fillmode": "overlay",
              "size": 10,
              "solidity": 0.2
             }
            },
            "type": "barpolar"
           }
          ],
          "carpet": [
           {
            "aaxis": {
             "endlinecolor": "#2a3f5f",
             "gridcolor": "white",
             "linecolor": "white",
             "minorgridcolor": "white",
             "startlinecolor": "#2a3f5f"
            },
            "baxis": {
             "endlinecolor": "#2a3f5f",
             "gridcolor": "white",
             "linecolor": "white",
             "minorgridcolor": "white",
             "startlinecolor": "#2a3f5f"
            },
            "type": "carpet"
           }
          ],
          "choropleth": [
           {
            "colorbar": {
             "outlinewidth": 0,
             "ticks": ""
            },
            "type": "choropleth"
           }
          ],
          "contour": [
           {
            "colorbar": {
             "outlinewidth": 0,
             "ticks": ""
            },
            "colorscale": [
             [
              0,
              "#0d0887"
             ],
             [
              0.1111111111111111,
              "#46039f"
             ],
             [
              0.2222222222222222,
              "#7201a8"
             ],
             [
              0.3333333333333333,
              "#9c179e"
             ],
             [
              0.4444444444444444,
              "#bd3786"
             ],
             [
              0.5555555555555556,
              "#d8576b"
             ],
             [
              0.6666666666666666,
              "#ed7953"
             ],
             [
              0.7777777777777778,
              "#fb9f3a"
             ],
             [
              0.8888888888888888,
              "#fdca26"
             ],
             [
              1,
              "#f0f921"
             ]
            ],
            "type": "contour"
           }
          ],
          "contourcarpet": [
           {
            "colorbar": {
             "outlinewidth": 0,
             "ticks": ""
            },
            "type": "contourcarpet"
           }
          ],
          "heatmap": [
           {
            "colorbar": {
             "outlinewidth": 0,
             "ticks": ""
            },
            "colorscale": [
             [
              0,
              "#0d0887"
             ],
             [
              0.1111111111111111,
              "#46039f"
             ],
             [
              0.2222222222222222,
              "#7201a8"
             ],
             [
              0.3333333333333333,
              "#9c179e"
             ],
             [
              0.4444444444444444,
              "#bd3786"
             ],
             [
              0.5555555555555556,
              "#d8576b"
             ],
             [
              0.6666666666666666,
              "#ed7953"
             ],
             [
              0.7777777777777778,
              "#fb9f3a"
             ],
             [
              0.8888888888888888,
              "#fdca26"
             ],
             [
              1,
              "#f0f921"
             ]
            ],
            "type": "heatmap"
           }
          ],
          "heatmapgl": [
           {
            "colorbar": {
             "outlinewidth": 0,
             "ticks": ""
            },
            "colorscale": [
             [
              0,
              "#0d0887"
             ],
             [
              0.1111111111111111,
              "#46039f"
             ],
             [
              0.2222222222222222,
              "#7201a8"
             ],
             [
              0.3333333333333333,
              "#9c179e"
             ],
             [
              0.4444444444444444,
              "#bd3786"
             ],
             [
              0.5555555555555556,
              "#d8576b"
             ],
             [
              0.6666666666666666,
              "#ed7953"
             ],
             [
              0.7777777777777778,
              "#fb9f3a"
             ],
             [
              0.8888888888888888,
              "#fdca26"
             ],
             [
              1,
              "#f0f921"
             ]
            ],
            "type": "heatmapgl"
           }
          ],
          "histogram": [
           {
            "marker": {
             "pattern": {
              "fillmode": "overlay",
              "size": 10,
              "solidity": 0.2
             }
            },
            "type": "histogram"
           }
          ],
          "histogram2d": [
           {
            "colorbar": {
             "outlinewidth": 0,
             "ticks": ""
            },
            "colorscale": [
             [
              0,
              "#0d0887"
             ],
             [
              0.1111111111111111,
              "#46039f"
             ],
             [
              0.2222222222222222,
              "#7201a8"
             ],
             [
              0.3333333333333333,
              "#9c179e"
             ],
             [
              0.4444444444444444,
              "#bd3786"
             ],
             [
              0.5555555555555556,
              "#d8576b"
             ],
             [
              0.6666666666666666,
              "#ed7953"
             ],
             [
              0.7777777777777778,
              "#fb9f3a"
             ],
             [
              0.8888888888888888,
              "#fdca26"
             ],
             [
              1,
              "#f0f921"
             ]
            ],
            "type": "histogram2d"
           }
          ],
          "histogram2dcontour": [
           {
            "colorbar": {
             "outlinewidth": 0,
             "ticks": ""
            },
            "colorscale": [
             [
              0,
              "#0d0887"
             ],
             [
              0.1111111111111111,
              "#46039f"
             ],
             [
              0.2222222222222222,
              "#7201a8"
             ],
             [
              0.3333333333333333,
              "#9c179e"
             ],
             [
              0.4444444444444444,
              "#bd3786"
             ],
             [
              0.5555555555555556,
              "#d8576b"
             ],
             [
              0.6666666666666666,
              "#ed7953"
             ],
             [
              0.7777777777777778,
              "#fb9f3a"
             ],
             [
              0.8888888888888888,
              "#fdca26"
             ],
             [
              1,
              "#f0f921"
             ]
            ],
            "type": "histogram2dcontour"
           }
          ],
          "mesh3d": [
           {
            "colorbar": {
             "outlinewidth": 0,
             "ticks": ""
            },
            "type": "mesh3d"
           }
          ],
          "parcoords": [
           {
            "line": {
             "colorbar": {
              "outlinewidth": 0,
              "ticks": ""
             }
            },
            "type": "parcoords"
           }
          ],
          "pie": [
           {
            "automargin": true,
            "type": "pie"
           }
          ],
          "scatter": [
           {
            "fillpattern": {
             "fillmode": "overlay",
             "size": 10,
             "solidity": 0.2
            },
            "type": "scatter"
           }
          ],
          "scatter3d": [
           {
            "line": {
             "colorbar": {
              "outlinewidth": 0,
              "ticks": ""
             }
            },
            "marker": {
             "colorbar": {
              "outlinewidth": 0,
              "ticks": ""
             }
            },
            "type": "scatter3d"
           }
          ],
          "scattercarpet": [
           {
            "marker": {
             "colorbar": {
              "outlinewidth": 0,
              "ticks": ""
             }
            },
            "type": "scattercarpet"
           }
          ],
          "scattergeo": [
           {
            "marker": {
             "colorbar": {
              "outlinewidth": 0,
              "ticks": ""
             }
            },
            "type": "scattergeo"
           }
          ],
          "scattergl": [
           {
            "marker": {
             "colorbar": {
              "outlinewidth": 0,
              "ticks": ""
             }
            },
            "type": "scattergl"
           }
          ],
          "scattermapbox": [
           {
            "marker": {
             "colorbar": {
              "outlinewidth": 0,
              "ticks": ""
             }
            },
            "type": "scattermapbox"
           }
          ],
          "scatterpolar": [
           {
            "marker": {
             "colorbar": {
              "outlinewidth": 0,
              "ticks": ""
             }
            },
            "type": "scatterpolar"
           }
          ],
          "scatterpolargl": [
           {
            "marker": {
             "colorbar": {
              "outlinewidth": 0,
              "ticks": ""
             }
            },
            "type": "scatterpolargl"
           }
          ],
          "scatterternary": [
           {
            "marker": {
             "colorbar": {
              "outlinewidth": 0,
              "ticks": ""
             }
            },
            "type": "scatterternary"
           }
          ],
          "surface": [
           {
            "colorbar": {
             "outlinewidth": 0,
             "ticks": ""
            },
            "colorscale": [
             [
              0,
              "#0d0887"
             ],
             [
              0.1111111111111111,
              "#46039f"
             ],
             [
              0.2222222222222222,
              "#7201a8"
             ],
             [
              0.3333333333333333,
              "#9c179e"
             ],
             [
              0.4444444444444444,
              "#bd3786"
             ],
             [
              0.5555555555555556,
              "#d8576b"
             ],
             [
              0.6666666666666666,
              "#ed7953"
             ],
             [
              0.7777777777777778,
              "#fb9f3a"
             ],
             [
              0.8888888888888888,
              "#fdca26"
             ],
             [
              1,
              "#f0f921"
             ]
            ],
            "type": "surface"
           }
          ],
          "table": [
           {
            "cells": {
             "fill": {
              "color": "#EBF0F8"
             },
             "line": {
              "color": "white"
             }
            },
            "header": {
             "fill": {
              "color": "#C8D4E3"
             },
             "line": {
              "color": "white"
             }
            },
            "type": "table"
           }
          ]
         },
         "layout": {
          "annotationdefaults": {
           "arrowcolor": "#2a3f5f",
           "arrowhead": 0,
           "arrowwidth": 1
          },
          "autotypenumbers": "strict",
          "coloraxis": {
           "colorbar": {
            "outlinewidth": 0,
            "ticks": ""
           }
          },
          "colorscale": {
           "diverging": [
            [
             0,
             "#8e0152"
            ],
            [
             0.1,
             "#c51b7d"
            ],
            [
             0.2,
             "#de77ae"
            ],
            [
             0.3,
             "#f1b6da"
            ],
            [
             0.4,
             "#fde0ef"
            ],
            [
             0.5,
             "#f7f7f7"
            ],
            [
             0.6,
             "#e6f5d0"
            ],
            [
             0.7,
             "#b8e186"
            ],
            [
             0.8,
             "#7fbc41"
            ],
            [
             0.9,
             "#4d9221"
            ],
            [
             1,
             "#276419"
            ]
           ],
           "sequential": [
            [
             0,
             "#0d0887"
            ],
            [
             0.1111111111111111,
             "#46039f"
            ],
            [
             0.2222222222222222,
             "#7201a8"
            ],
            [
             0.3333333333333333,
             "#9c179e"
            ],
            [
             0.4444444444444444,
             "#bd3786"
            ],
            [
             0.5555555555555556,
             "#d8576b"
            ],
            [
             0.6666666666666666,
             "#ed7953"
            ],
            [
             0.7777777777777778,
             "#fb9f3a"
            ],
            [
             0.8888888888888888,
             "#fdca26"
            ],
            [
             1,
             "#f0f921"
            ]
           ],
           "sequentialminus": [
            [
             0,
             "#0d0887"
            ],
            [
             0.1111111111111111,
             "#46039f"
            ],
            [
             0.2222222222222222,
             "#7201a8"
            ],
            [
             0.3333333333333333,
             "#9c179e"
            ],
            [
             0.4444444444444444,
             "#bd3786"
            ],
            [
             0.5555555555555556,
             "#d8576b"
            ],
            [
             0.6666666666666666,
             "#ed7953"
            ],
            [
             0.7777777777777778,
             "#fb9f3a"
            ],
            [
             0.8888888888888888,
             "#fdca26"
            ],
            [
             1,
             "#f0f921"
            ]
           ]
          },
          "colorway": [
           "#636efa",
           "#EF553B",
           "#00cc96",
           "#ab63fa",
           "#FFA15A",
           "#19d3f3",
           "#FF6692",
           "#B6E880",
           "#FF97FF",
           "#FECB52"
          ],
          "font": {
           "color": "#2a3f5f"
          },
          "geo": {
           "bgcolor": "white",
           "lakecolor": "white",
           "landcolor": "#E5ECF6",
           "showlakes": true,
           "showland": true,
           "subunitcolor": "white"
          },
          "hoverlabel": {
           "align": "left"
          },
          "hovermode": "closest",
          "mapbox": {
           "style": "light"
          },
          "paper_bgcolor": "white",
          "plot_bgcolor": "#E5ECF6",
          "polar": {
           "angularaxis": {
            "gridcolor": "white",
            "linecolor": "white",
            "ticks": ""
           },
           "bgcolor": "#E5ECF6",
           "radialaxis": {
            "gridcolor": "white",
            "linecolor": "white",
            "ticks": ""
           }
          },
          "scene": {
           "xaxis": {
            "backgroundcolor": "#E5ECF6",
            "gridcolor": "white",
            "gridwidth": 2,
            "linecolor": "white",
            "showbackground": true,
            "ticks": "",
            "zerolinecolor": "white"
           },
           "yaxis": {
            "backgroundcolor": "#E5ECF6",
            "gridcolor": "white",
            "gridwidth": 2,
            "linecolor": "white",
            "showbackground": true,
            "ticks": "",
            "zerolinecolor": "white"
           },
           "zaxis": {
            "backgroundcolor": "#E5ECF6",
            "gridcolor": "white",
            "gridwidth": 2,
            "linecolor": "white",
            "showbackground": true,
            "ticks": "",
            "zerolinecolor": "white"
           }
          },
          "shapedefaults": {
           "line": {
            "color": "#2a3f5f"
           }
          },
          "ternary": {
           "aaxis": {
            "gridcolor": "white",
            "linecolor": "white",
            "ticks": ""
           },
           "baxis": {
            "gridcolor": "white",
            "linecolor": "white",
            "ticks": ""
           },
           "bgcolor": "#E5ECF6",
           "caxis": {
            "gridcolor": "white",
            "linecolor": "white",
            "ticks": ""
           }
          },
          "title": {
           "x": 0.05
          },
          "xaxis": {
           "automargin": true,
           "gridcolor": "white",
           "linecolor": "white",
           "ticks": "",
           "title": {
            "standoff": 15
           },
           "zerolinecolor": "white",
           "zerolinewidth": 2
          },
          "yaxis": {
           "automargin": true,
           "gridcolor": "white",
           "linecolor": "white",
           "ticks": "",
           "title": {
            "standoff": 15
           },
           "zerolinecolor": "white",
           "zerolinewidth": 2
          }
         }
        },
        "title": {
         "text": "Fruit Quantity Bar Plot"
        },
        "xaxis": {
         "anchor": "y",
         "domain": [
          0,
          1
         ],
         "title": {
          "text": "Fruits"
         }
        },
        "yaxis": {
         "anchor": "x",
         "domain": [
          0,
          1
         ],
         "title": {
          "text": "Quantity"
         }
        }
       }
      }
     },
     "metadata": {},
     "output_type": "display_data"
    }
   ],
   "source": [
    "# 5. Generate a bar plot using Plotly.\n",
    "\n",
    "# Import Plotly\n",
    "import plotly.express as px\n",
    "\n",
    "# Create sample data\n",
    "data = {'Fruits': ['Apple', 'Banana', 'Cherry', 'Date'], 'Quantity': [10, 15, 7, 12]}\n",
    "\n",
    "# Generate a bar plot\n",
    "fig = px.bar(data, x='Fruits', y='Quantity', title='Fruit Quantity Bar Plot')\n",
    "\n",
    "# Show the plot\n",
    "fig.show()\n"
   ]
  },
  {
   "cell_type": "code",
   "execution_count": 10,
   "id": "1cb57573",
   "metadata": {},
   "outputs": [
    {
     "name": "stdout",
     "output_type": "stream",
     "text": [
      "      Name  Marks Grade\n",
      "0    Alice     80     B\n",
      "1      Bob     90     A\n",
      "2  Charlie     70     B\n"
     ]
    }
   ],
   "source": [
    "# 6. Create a DataFrame and add a new column based on an existing column.\n",
    "\n",
    "# Import Pandas\n",
    "import pandas as pd\n",
    "\n",
    "# Create a sample DataFrame\n",
    "df = pd.DataFrame({'Name': ['Alice', 'Bob', 'Charlie'], 'Marks': [80, 90, 70]})\n",
    "\n",
    "# Add a new column 'Grade' based on 'Marks'\n",
    "df['Grade'] = ['A' if mark >= 85 else 'B' for mark in df['Marks']]\n",
    "\n",
    "# Display the DataFrame\n",
    "print(df)\n"
   ]
  },
  {
   "cell_type": "code",
   "execution_count": 9,
   "id": "bac6b011",
   "metadata": {},
   "outputs": [
    {
     "name": "stdout",
     "output_type": "stream",
     "text": [
      "Element-wise multiplication result: [ 4 10 18]\n"
     ]
    }
   ],
   "source": [
    "# 7. Write a program to perform element-wise multiplication of two NumPy arrays.\n",
    "\n",
    "# Import NumPy\n",
    "import numpy as np\n",
    "\n",
    "# Create two NumPy arrays\n",
    "array1 = np.array([1, 2, 3])\n",
    "array2 = np.array([4, 5, 6])\n",
    "\n",
    "# Perform element-wise multiplication\n",
    "result = array1 * array2\n",
    "\n",
    "# Print the result\n",
    "print(\"Element-wise multiplication result:\", result)\n"
   ]
  },
  {
   "cell_type": "code",
   "execution_count": 8,
   "id": "088b1be9",
   "metadata": {},
   "outputs": [
    {
     "data": {
      "image/png": "[encoded data removed]",
      "text/plain": [
       "<Figure size 640x480 with 1 Axes>"
      ]
     },
     "metadata": {},
     "output_type": "display_data"
    }
   ],
   "source": [
    "# 8. Create a line plot with multiple lines using Matplotlib.\n",
    "\n",
    "# Import Matplotlib\n",
    "import matplotlib.pyplot as plt\n",
    "\n",
    "# Sample data for line plot\n",
    "x = [1, 2, 3, 4, 5]\n",
    "y1 = [10, 20, 25, 30, 40]\n",
    "y2 = [5, 15, 20, 25, 35]\n",
    "\n",
    "# Create a line plot with multiple lines\n",
    "plt.plot(x, y1, label='Line 1', color='blue')\n",
    "plt.plot(x, y2, label='Line 2', color='red')\n",
    "\n",
    "# Add labels and title\n",
    "plt.xlabel(\"X-axis\")\n",
    "plt.ylabel(\"Y-axis\")\n",
    "plt.title(\"Multiple Lines Line Plot\")\n",
    "\n",
    "# Add legend\n",
    "plt.legend()\n",
    "\n",
    "# Display the plot\n",
    "plt.show()\n"
   ]
  },
  {
   "cell_type": "code",
   "execution_count": 7,
   "id": "a2fca23a",
   "metadata": {},
   "outputs": [
    {
     "name": "stdout",
     "output_type": "stream",
     "text": [
      "      Name  Age\n",
      "2  Charlie   35\n",
      "3    David   40\n"
     ]
    }
   ],
   "source": [
    "# 9. Generate a Pandas DataFrame and filter rows where a column value is greater than a threshold.\n",
    "\n",
    "# Import Pandas\n",
    "import pandas as pd\n",
    "\n",
    "# Create a sample DataFrame\n",
    "df = pd.DataFrame({'Name': ['Alice', 'Bob', 'Charlie', 'David'], 'Age': [25, 30, 35, 40]})\n",
    "\n",
    "# Define the threshold\n",
    "threshold = 30\n",
    "\n",
    "# Filter rows where 'Age' is greater than the threshold\n",
    "filtered_df = df[df['Age'] > threshold]\n",
    "\n",
    "# Display the filtered DataFrame\n",
    "print(filtered_df)\n"
   ]
  },
  {
   "cell_type": "code",
   "execution_count": 10,
   "id": "a77e22ae",
   "metadata": {},
   "outputs": [
    {
     "data": {
      "image/png": "[encoded data removed]",
      "text/plain": [
       "<Figure size 640x480 with 1 Axes>"
      ]
     },
     "metadata": {},
     "output_type": "display_data"
    }
   ],
   "source": [
    "# 10. Create a histogram using Seaborn to visualize a distribution.\n",
    "\n",
    "# Import Seaborn and Matplotlib\n",
    "import seaborn as sns\n",
    "import matplotlib.pyplot as plt\n",
    "\n",
    "# Sample data for histogram\n",
    "data = [12, 15, 14, 18, 20, 23, 25, 27, 30, 32, 35, 37, 40, 42, 45]\n",
    "\n",
    "# Create a histogram to visualize the distribution\n",
    "sns.histplot(data, kde=True, bins=10, color='blue')\n",
    "\n",
    "# Add title and labels\n",
    "plt.title(\"Histogram of Sample Data\")\n",
    "plt.xlabel(\"Value\")\n",
    "plt.ylabel(\"Frequency\")\n",
    "\n",
    "# Show the plot\n",
    "plt.show()\n"
   ]
  },
  {
   "cell_type": "code",
   "execution_count": 6,
   "id": "9eb100ba",
   "metadata": {},
   "outputs": [
    {
     "name": "stdout",
     "output_type": "stream",
     "text": [
      "Matrix multiplication result:\n",
      "[[19 22]\n",
      " [43 50]]\n"
     ]
    }
   ],
   "source": [
    "# 11. Perform matrix multiplication using NumPy.\n",
    "\n",
    "# Import NumPy\n",
    "import numpy as np\n",
    "\n",
    "# Create two 2D NumPy arrays (matrices)\n",
    "matrix1 = np.array([[1, 2], [3, 4]])\n",
    "matrix2 = np.array([[5, 6], [7, 8]])\n",
    "\n",
    "# Perform matrix multiplication\n",
    "result = np.matmul(matrix1, matrix2)\n",
    "\n",
    "# Print the result\n",
    "print(\"Matrix multiplication result:\")\n",
    "print(result)\n"
   ]
  },
  {
   "cell_type": "code",
   "execution_count": 5,
   "id": "5b355663",
   "metadata": {},
   "outputs": [
    {
     "name": "stdout",
     "output_type": "stream",
     "text": [
      "      Name  Age         City\n",
      "0    Alice   25     New York\n",
      "1      Bob   30  Los Angeles\n",
      "2  Charlie   35      Chicago\n",
      "3    David   40      Houston\n",
      "4      Eva   45      Phoenix\n"
     ]
    }
   ],
   "source": [
    "# 12. Use Pandas to load a CSV file and display its first 5 rows.\n",
    "\n",
    "# Import Pandas\n",
    "import pandas as pd\n",
    "\n",
    "# Load a CSV file into a DataFrame\n",
    "df = pd.read_csv('sample_data.csv')\n",
    "\n",
    "# Display the first 5 rows of the DataFrame\n",
    "print(df.head())"
   ]
  },
  {
   "cell_type": "code",
   "execution_count": 4,
   "id": "c5543e83",
   "metadata": {},
   "outputs": [
    {
     "data": {
      "application/vnd.plotly.v1+json": {
       "config": {
        "plotlyServerURL": "https://plot.ly"
       },
       "data": [
        {
         "hovertemplate": "Label=A<br>X=%{x}<br>Y=%{y}<br>Z=%{z}<extra></extra>",
         "legendgroup": "A",
         "marker": {
          "color": "#636efa",
          "symbol": "circle"
         },
         "mode": "markers",
         "name": "A",
         "scene": "scene",
         "showlegend": true,
         "type": "scatter3d",
         "x": [
          1
         ],
         "y": [
          10
         ],
         "z": [
          20
         ]
        },
        {
         "hovertemplate": "Label=B<br>X=%{x}<br>Y=%{y}<br>Z=%{z}<extra></extra>",
         "legendgroup": "B",
         "marker": {
          "color": "#EF553B",
          "symbol": "circle"
         },
         "mode": "markers",
         "name": "B",
         "scene": "scene",
         "showlegend": true,
         "type": "scatter3d",
         "x": [
          2
         ],
         "y": [
          11
         ],
         "z": [
          21
         ]
        },
        {
         "hovertemplate": "Label=C<br>X=%{x}<br>Y=%{y}<br>Z=%{z}<extra></extra>",
         "legendgroup": "C",
         "marker": {
          "color": "#00cc96",
          "symbol": "circle"
         },
         "mode": "markers",
         "name": "C",
         "scene": "scene",
         "showlegend": true,
         "type": "scatter3d",
         "x": [
          3
         ],
         "y": [
          12
         ],
         "z": [
          22
         ]
        },
        {
         "hovertemplate": "Label=D<br>X=%{x}<br>Y=%{y}<br>Z=%{z}<extra></extra>",
         "legendgroup": "D",
         "marker": {
          "color": "#ab63fa",
          "symbol": "circle"
         },
         "mode": "markers",
         "name": "D",
         "scene": "scene",
         "showlegend": true,
         "type": "scatter3d",
         "x": [
          4
         ],
         "y": [
          13
         ],
         "z": [
          23
         ]
        },
        {
         "hovertemplate": "Label=E<br>X=%{x}<br>Y=%{y}<br>Z=%{z}<extra></extra>",
         "legendgroup": "E",
         "marker": {
          "color": "#FFA15A",
          "symbol": "circle"
         },
         "mode": "markers",
         "name": "E",
         "scene": "scene",
         "showlegend": true,
         "type": "scatter3d",
         "x": [
          5
         ],
         "y": [
          14
         ],
         "z": [
          24
         ]
        }
       ],
       "layout": {
        "legend": {
         "title": {
          "text": "Label"
         },
         "tracegroupgap": 0
        },
        "scene": {
         "domain": {
          "x": [
           0,
           1
          ],
          "y": [
           0,
           1
          ]
         },
         "xaxis": {
          "title": {
           "text": "X"
          }
         },
         "yaxis": {
          "title": {
           "text": "Y"
          }
         },
         "zaxis": {
          "title": {
           "text": "Z"
          }
         }
        },
        "template": {
         "data": {
          "bar": [
           {
            "error_x": {
             "color": "#2a3f5f"
            },
            "error_y": {
             "color": "#2a3f5f"
            },
            "marker": {
             "line": {
              "color": "#E5ECF6",
              "width": 0.5
             },
             "pattern": {
              "fillmode": "overlay",
              "size": 10,
              "solidity": 0.2
             }
            },
            "type": "bar"
           }
          ],
          "barpolar": [
           {
            "marker": {
             "line": {
              "color": "#E5ECF6",
              "width": 0.5
             },
             "pattern": {
              "fillmode": "overlay",
              "size": 10,
              "solidity": 0.2
             }
            },
            "type": "barpolar"
           }
          ],
          "carpet": [
           {
            "aaxis": {
             "endlinecolor": "#2a3f5f",
             "gridcolor": "white",
             "linecolor": "white",
             "minorgridcolor": "white",
             "startlinecolor": "#2a3f5f"
            },
            "baxis": {
             "endlinecolor": "#2a3f5f",
             "gridcolor": "white",
             "linecolor": "white",
             "minorgridcolor": "white",
             "startlinecolor": "#2a3f5f"
            },
            "type": "carpet"
           }
          ],
          "choropleth": [
           {
            "colorbar": {
             "outlinewidth": 0,
             "ticks": ""
            },
            "type": "choropleth"
           }
          ],
          "contour": [
           {
            "colorbar": {
             "outlinewidth": 0,
             "ticks": ""
            },
            "colorscale": [
             [
              0,
              "#0d0887"
             ],
             [
              0.1111111111111111,
              "#46039f"
             ],
             [
              0.2222222222222222,
              "#7201a8"
             ],
             [
              0.3333333333333333,
              "#9c179e"
             ],
             [
              0.4444444444444444,
              "#bd3786"
             ],
             [
              0.5555555555555556,
              "#d8576b"
             ],
             [
              0.6666666666666666,
              "#ed7953"
             ],
             [
              0.7777777777777778,
              "#fb9f3a"
             ],
             [
              0.8888888888888888,
              "#fdca26"
             ],
             [
              1,
              "#f0f921"
             ]
            ],
            "type": "contour"
           }
          ],
          "contourcarpet": [
           {
            "colorbar": {
             "outlinewidth": 0,
             "ticks": ""
            },
            "type": "contourcarpet"
           }
          ],
          "heatmap": [
           {
            "colorbar": {
             "outlinewidth": 0,
             "ticks": ""
            },
            "colorscale": [
             [
              0,
              "#0d0887"
             ],
             [
              0.1111111111111111,
              "#46039f"
             ],
             [
              0.2222222222222222,
              "#7201a8"
             ],
             [
              0.3333333333333333,
              "#9c179e"
             ],
             [
              0.4444444444444444,
              "#bd3786"
             ],
             [
              0.5555555555555556,
              "#d8576b"
             ],
             [
              0.6666666666666666,
              "#ed7953"
             ],
             [
              0.7777777777777778,
              "#fb9f3a"
             ],
             [
              0.8888888888888888,
              "#fdca26"
             ],
             [
              1,
              "#f0f921"
             ]
            ],
            "type": "heatmap"
           }
          ],
          "heatmapgl": [
           {
            "colorbar": {
             "outlinewidth": 0,
             "ticks": ""
            },
            "colorscale": [
             [
              0,
              "#0d0887"
             ],
             [
              0.1111111111111111,
              "#46039f"
             ],
             [
              0.2222222222222222,
              "#7201a8"
             ],
             [
              0.3333333333333333,
              "#9c179e"
             ],
             [
              0.4444444444444444,
              "#bd3786"
             ],
             [
              0.5555555555555556,
              "#d8576b"
             ],
             [
              0.6666666666666666,
              "#ed7953"
             ],
             [
              0.7777777777777778,
              "#fb9f3a"
             ],
             [
              0.8888888888888888,
              "#fdca26"
             ],
             [
              1,
              "#f0f921"
             ]
            ],
            "type": "heatmapgl"
           }
          ],
          "histogram": [
           {
            "marker": {
             "pattern": {
              "fillmode": "overlay",
              "size": 10,
              "solidity": 0.2
             }
            },
            "type": "histogram"
           }
          ],
          "histogram2d": [
           {
            "colorbar": {
             "outlinewidth": 0,
             "ticks": ""
            },
            "colorscale": [
             [
              0,
              "#0d0887"
             ],
             [
              0.1111111111111111,
              "#46039f"
             ],
             [
              0.2222222222222222,
              "#7201a8"
             ],
             [
              0.3333333333333333,
              "#9c179e"
             ],
             [
              0.4444444444444444,
              "#bd3786"
             ],
             [
              0.5555555555555556,
              "#d8576b"
             ],
             [
              0.6666666666666666,
              "#ed7953"
             ],
             [
              0.7777777777777778,
              "#fb9f3a"
             ],
             [
              0.8888888888888888,
              "#fdca26"
             ],
             [
              1,
              "#f0f921"
             ]
            ],
            "type": "histogram2d"
           }
          ],
          "histogram2dcontour": [
           {
            "colorbar": {
             "outlinewidth": 0,
             "ticks": ""
            },
            "colorscale": [
             [
              0,
              "#0d0887"
             ],
             [
              0.1111111111111111,
              "#46039f"
             ],
             [
              0.2222222222222222,
              "#7201a8"
             ],
             [
              0.3333333333333333,
              "#9c179e"
             ],
             [
              0.4444444444444444,
              "#bd3786"
             ],
             [
              0.5555555555555556,
              "#d8576b"
             ],
             [
              0.6666666666666666,
              "#ed7953"
             ],
             [
              0.7777777777777778,
              "#fb9f3a"
             ],
             [
              0.8888888888888888,
              "#fdca26"
             ],
             [
              1,
              "#f0f921"
             ]
            ],
            "type": "histogram2dcontour"
           }
          ],
          "mesh3d": [
           {
            "colorbar": {
             "outlinewidth": 0,
             "ticks": ""
            },
            "type": "mesh3d"
           }
          ],
          "parcoords": [
           {
            "line": {
             "colorbar": {
              "outlinewidth": 0,
              "ticks": ""
             }
            },
            "type": "parcoords"
           }
          ],
          "pie": [
           {
            "automargin": true,
            "type": "pie"
           }
          ],
          "scatter": [
           {
            "fillpattern": {
             "fillmode": "overlay",
             "size": 10,
             "solidity": 0.2
            },
            "type": "scatter"
           }
          ],
          "scatter3d": [
           {
            "line": {
             "colorbar": {
              "outlinewidth": 0,
              "ticks": ""
             }
            },
            "marker": {
             "colorbar": {
              "outlinewidth": 0,
              "ticks": ""
             }
            },
            "type": "scatter3d"
           }
          ],
          "scattercarpet": [
           {
            "marker": {
             "colorbar": {
              "outlinewidth": 0,
              "ticks": ""
             }
            },
            "type": "scattercarpet"
           }
          ],
          "scattergeo": [
           {
            "marker": {
             "colorbar": {
              "outlinewidth": 0,
              "ticks": ""
             }
            },
            "type": "scattergeo"
           }
          ],
          "scattergl": [
           {
            "marker": {
             "colorbar": {
              "outlinewidth": 0,
              "ticks": ""
             }
            },
            "type": "scattergl"
           }
          ],
          "scattermapbox": [
           {
            "marker": {
             "colorbar": {
              "outlinewidth": 0,
              "ticks": ""
             }
            },
            "type": "scattermapbox"
           }
          ],
          "scatterpolar": [
           {
            "marker": {
             "colorbar": {
              "outlinewidth": 0,
              "ticks": ""
             }
            },
            "type": "scatterpolar"
           }
          ],
          "scatterpolargl": [
           {
            "marker": {
             "colorbar": {
              "outlinewidth": 0,
              "ticks": ""
             }
            },
            "type": "scatterpolargl"
           }
          ],
          "scatterternary": [
           {
            "marker": {
             "colorbar": {
              "outlinewidth": 0,
              "ticks": ""
             }
            },
            "type": "scatterternary"
           }
          ],
          "surface": [
           {
            "colorbar": {
             "outlinewidth": 0,
             "ticks": ""
            },
            "colorscale": [
             [
              0,
              "#0d0887"
             ],
             [
              0.1111111111111111,
              "#46039f"
             ],
             [
              0.2222222222222222,
              "#7201a8"
             ],
             [
              0.3333333333333333,
              "#9c179e"
             ],
             [
              0.4444444444444444,
              "#bd3786"
             ],
             [
              0.5555555555555556,
              "#d8576b"
             ],
             [
              0.6666666666666666,
              "#ed7953"
             ],
             [
              0.7777777777777778,
              "#fb9f3a"
             ],
             [
              0.8888888888888888,
              "#fdca26"
             ],
             [
              1,
              "#f0f921"
             ]
            ],
            "type": "surface"
           }
          ],
          "table": [
           {
            "cells": {
             "fill": {
              "color": "#EBF0F8"
             },
             "line": {
              "color": "white"
             }
            },
            "header": {
             "fill": {
              "color": "#C8D4E3"
             },
             "line": {
              "color": "white"
             }
            },
            "type": "table"
           }
          ]
         },
         "layout": {
          "annotationdefaults": {
           "arrowcolor": "#2a3f5f",
           "arrowhead": 0,
           "arrowwidth": 1
          },
          "autotypenumbers": "strict",
          "coloraxis": {
           "colorbar": {
            "outlinewidth": 0,
            "ticks": ""
           }
          },
          "colorscale": {
           "diverging": [
            [
             0,
             "#8e0152"
            ],
            [
             0.1,
             "#c51b7d"
            ],
            [
             0.2,
             "#de77ae"
            ],
            [
             0.3,
             "#f1b6da"
            ],
            [
             0.4,
             "#fde0ef"
            ],
            [
             0.5,
             "#f7f7f7"
            ],
            [
             0.6,
             "#e6f5d0"
            ],
            [
             0.7,
             "#b8e186"
            ],
            [
             0.8,
             "#7fbc41"
            ],
            [
             0.9,
             "#4d9221"
            ],
            [
             1,
             "#276419"
            ]
           ],
           "sequential": [
            [
             0,
             "#0d0887"
            ],
            [
             0.1111111111111111,
             "#46039f"
            ],
            [
             0.2222222222222222,
             "#7201a8"
            ],
            [
             0.3333333333333333,
             "#9c179e"
            ],
            [
             0.4444444444444444,
             "#bd3786"
            ],
            [
             0.5555555555555556,
             "#d8576b"
            ],
            [
             0.6666666666666666,
             "#ed7953"
            ],
            [
             0.7777777777777778,
             "#fb9f3a"
            ],
            [
             0.8888888888888888,
             "#fdca26"
            ],
            [
             1,
             "#f0f921"
            ]
           ],
           "sequentialminus": [
            [
             0,
             "#0d0887"
            ],
            [
             0.1111111111111111,
             "#46039f"
            ],
            [
             0.2222222222222222,
             "#7201a8"
            ],
            [
             0.3333333333333333,
             "#9c179e"
            ],
            [
             0.4444444444444444,
             "#bd3786"
            ],
            [
             0.5555555555555556,
             "#d8576b"
            ],
            [
             0.6666666666666666,
             "#ed7953"
            ],
            [
             0.7777777777777778,
             "#fb9f3a"
            ],
            [
             0.8888888888888888,
             "#fdca26"
            ],
            [
             1,
             "#f0f921"
            ]
           ]
          },
          "colorway": [
           "#636efa",
           "#EF553B",
           "#00cc96",
           "#ab63fa",
           "#FFA15A",
           "#19d3f3",
           "#FF6692",
           "#B6E880",
           "#FF97FF",
           "#FECB52"
          ],
          "font": {
           "color": "#2a3f5f"
          },
          "geo": {
           "bgcolor": "white",
           "lakecolor": "white",
           "landcolor": "#E5ECF6",
           "showlakes": true,
           "showland": true,
           "subunitcolor": "white"
          },
          "hoverlabel": {
           "align": "left"
          },
          "hovermode": "closest",
          "mapbox": {
           "style": "light"
          },
          "paper_bgcolor": "white",
          "plot_bgcolor": "#E5ECF6",
          "polar": {
           "angularaxis": {
            "gridcolor": "white",
            "linecolor": "white",
            "ticks": ""
           },
           "bgcolor": "#E5ECF6",
           "radialaxis": {
            "gridcolor": "white",
            "linecolor": "white",
            "ticks": ""
           }
          },
          "scene": {
           "xaxis": {
            "backgroundcolor": "#E5ECF6",
            "gridcolor": "white",
            "gridwidth": 2,
            "linecolor": "white",
            "showbackground": true,
            "ticks": "",
            "zerolinecolor": "white"
           },
           "yaxis": {
            "backgroundcolor": "#E5ECF6",
            "gridcolor": "white",
            "gridwidth": 2,
            "linecolor": "white",
            "showbackground": true,
            "ticks": "",
            "zerolinecolor": "white"
           },
           "zaxis": {
            "backgroundcolor": "#E5ECF6",
            "gridcolor": "white",
            "gridwidth": 2,
            "linecolor": "white",
            "showbackground": true,
            "ticks": "",
            "zerolinecolor": "white"
           }
          },
          "shapedefaults": {
           "line": {
            "color": "#2a3f5f"
           }
          },
          "ternary": {
           "aaxis": {
            "gridcolor": "white",
            "linecolor": "white",
            "ticks": ""
           },
           "baxis": {
            "gridcolor": "white",
            "linecolor": "white",
            "ticks": ""
           },
           "bgcolor": "#E5ECF6",
           "caxis": {
            "gridcolor": "white",
            "linecolor": "white",
            "ticks": ""
           }
          },
          "title": {
           "x": 0.05
          },
          "xaxis": {
           "automargin": true,
           "gridcolor": "white",
           "linecolor": "white",
           "ticks": "",
           "title": {
            "standoff": 15
           },
           "zerolinecolor": "white",
           "zerolinewidth": 2
          },
          "yaxis": {
           "automargin": true,
           "gridcolor": "white",
           "linecolor": "white",
           "ticks": "",
           "title": {
            "standoff": 15
           },
           "zerolinecolor": "white",
           "zerolinewidth": 2
          }
         }
        },
        "title": {
         "text": "3D Scatter Plot"
        }
       }
      }
     },
     "metadata": {},
     "output_type": "display_data"
    }
   ],
   "source": [
    "# 13. Create a 3D scatter plot using Plotly.\n",
    "\n",
    "# Import Plotly\n",
    "import plotly.express as px\n",
    "import pandas as pd\n",
    "\n",
    "# Create sample data for a 3D scatter plot\n",
    "data = {\n",
    "    'X': [1, 2, 3, 4, 5],\n",
    "    'Y': [10, 11, 12, 13, 14],\n",
    "    'Z': [20, 21, 22, 23, 24],\n",
    "    'Label': ['A', 'B', 'C', 'D', 'E']\n",
    "}\n",
    "\n",
    "df = pd.DataFrame(data)\n",
    "\n",
    "# Create a 3D scatter plot\n",
    "fig = px.scatter_3d(df, x='X', y='Y', z='Z', color='Label', title='3D Scatter Plot')\n",
    "\n",
    "# Show the plot\n",
    "fig.show()"
   ]
  }
 ],
 "metadata": {
  "kernelspec": {
   "display_name": "base",
   "language": "python",
   "name": "python3"
  },
  "language_info": {
   "codemirror_mode": {
    "name": "ipython",
    "version": 3
   },
   "file_extension": ".py",
   "mimetype": "text/x-python",
   "name": "python",
   "nbconvert_exporter": "python",
   "pygments_lexer": "ipython3",
   "version": "3.12.7"
  }
 },
 "nbformat": 4,
 "nbformat_minor": 5
}
