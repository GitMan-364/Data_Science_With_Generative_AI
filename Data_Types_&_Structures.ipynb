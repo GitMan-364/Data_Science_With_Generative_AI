{
 "cells": [
  {
   "cell_type": "markdown",
   "metadata": {},
   "source": [
    "# Theory Questions"
   ]
  },
  {
   "cell_type": "markdown",
   "metadata": {},
   "source": [
    "1. What are data structures ? And why are they important ?\n",
    "\n",
    "    - A **data structure** is a way of organizing, storing, and managing data efficiently to enable easy access, modification, and processing. It defines the relationship between data elements and provides operations to manipulate them.  \n",
    "\n",
    "        **Importance:**  \n",
    "        - They help to store and organize data systematically for quick access and modification.  \n",
    "        - They enhance the efficiency of algorithms by reducing time and space complexity.  \n",
    "        - They enable effective implementation of solutions in programming, such as searching, sorting, and indexing."
   ]
  },
  {
   "cell_type": "markdown",
   "metadata": {},
   "source": [
    "2.  Explain the difference between mutable and immutable data types with examples.\n",
    "  \n",
    "    - **Mutable Data Types:** Can be modified after creation without changing their identity.  \n",
    "    **Immutable Data Types:** Cannot be changed once created; any modification creates a new object.  \n",
    "\n",
    "        **Examples (Mutable Data Types):**  \n",
    "            \n",
    "        - List :-  lst = [1, 2, 3]; lst[0] = 10  # Modifies the list  \n",
    "        - Dictionary :-  d = {'a': 1, 'b': 2}; d['a'] = 10  # Updates a value  \n",
    "\n",
    "        **Examples (Immutable Data Types):**\n",
    "            \n",
    "        - Tuple :-  tup = (1, 2, 3); tup[0] = 10  # Error: Cannot modify  \n",
    "        - String :-  s = \"hello\"; s[0] = 'H'  # Error: Strings are immutable"
   ]
  },
  {
   "cell_type": "markdown",
   "metadata": {},
   "source": [
    "3.  What are the main differences between lists and tuples in Python ?\n",
    "\n",
    "    - **Lists:**  \n",
    "        - **Mutable:** Can be modified after creation (add, remove, or update elements).  \n",
    "        - **Slower:** Operations are slightly slower due to dynamic resizing and flexibility.  \n",
    "        - **Uses More Memory:** Requires extra space for handling modifications.  \n",
    "\n",
    "        **Tuples:**  \n",
    "        - **Immutable:** Cannot be changed after creation, ensuring data integrity.  \n",
    "        - **Faster:** Access and iteration are quicker due to fixed size.  \n",
    "        - **Uses Less Memory:** More memory-efficient as it doesn't allow modifications."
   ]
  },
  {
   "cell_type": "markdown",
   "metadata": {},
   "source": [
    "4. Describe how dictionaries store data.\n",
    "\n",
    "    - **Dictionaries Store Data as:**  \n",
    "       \n",
    "        - Data is stored in the form of key-value pairs, where each key is unique, and it maps to a specific value.  \n",
    "        - A dictionary uses a hash table internally, allowing fast lookup, insertion, and deletion operations.  \n",
    "\n",
    "        **Example:**  \n",
    "        ```python\n",
    "        student = {\"name\": \"Alice\", \"age\": 20, \"course\": \"BCA\"}\n",
    "        print(student[\"name\"])  # Output: Alice\n",
    "        ```  \n",
    "        Here, \"name\", \"age\", and \"course\" are **keys**, while \"Alice\", 20, and \"BCA\" are their respective **values**."
   ]
  },
  {
   "cell_type": "markdown",
   "metadata": {},
   "source": [
    "5.  Why might you use a set instead of a list in Python ?\n",
    "\n",
    "    - **Reasons :-** \n",
    "        - Sets automatically remove duplicate values, ensuring all elements are distinct.  \n",
    "        - Membership tests (x in set) are faster in sets due to hashing, while lists require a linear search.  \n",
    "        - Set supports quick mathematical operations like union, intersection, and difference."
   ]
  },
  {
   "cell_type": "markdown",
   "metadata": {},
   "source": [
    "6. What is a string in Python, and how is it different from a list ?\n",
    "\n",
    "    - A **string** in Python is an immutable sequence of characters enclosed in single, double, or triple quotes.  \n",
    "\n",
    "        **Example:**  \n",
    "        ```python\n",
    "        text = \"Hello, World!\"\n",
    "        print(text[0])  # Output: H\n",
    "        ```  \n",
    "\n",
    "        **Differences Between String and List:**  \n",
    "        - Strings are immutable (cannot be changed), while lists are mutable (can be modified).  \n",
    "        - Strings contain only characters, whereas lists can hold different data types (int, float, string, etc.).  \n",
    "        - Strings support text-specific operations like concatenation and slicing, while lists support insertion, deletion, and sorting."
   ]
  },
  {
   "cell_type": "markdown",
   "metadata": {},
   "source": [
    "7. How do tuples ensure data integrity in Python ?\n",
    "\n",
    "    - **How Tuples Ensure Data Integrity:**\n",
    "        - **Immutability:** Once created, tuples cannot be modified, preventing accidental changes.  \n",
    "        - **Hashability:** Tuples can be used as dictionary keys and set elements, ensuring reliable data storage.  \n",
    "        - **Fixed Structure:** The fixed order and content of tuples help maintain consistent data representation.  \n",
    "\n",
    "        **Example:**  \n",
    "        ```python\n",
    "        coordinates = (10.5, 20.8)  \n",
    "        # coordinates[0] = 15  # This will cause an error since tuples are immutable\n",
    "        ```  "
   ]
  },
  {
   "cell_type": "markdown",
   "metadata": {},
   "source": [
    "8.  What is a hash table, and how does it relate to dictionaries in Python ?\n",
    "\n",
    "    - A **hash table** is a data structure that stores key-value pairs and uses a **hashing function** to map keys to unique indices, enabling fast data retrieval.  \n",
    "\n",
    "        **Relation to Dictionaries in Python:**  \n",
    "        - **Uses Hashing:** Python dictionaries use a hash table internally to store key-value pairs efficiently.  \n",
    "        - **Fast Lookups:** Keys are hashed to unique indices, allowing quick access in **O(1) average time complexity**.  \n",
    "        - **Handles Collisions:** Uses techniques like **open addressing** or **chaining** to resolve hash collisions when multiple keys map to the same index.  \n",
    "\n",
    "        **Example:**  \n",
    "        ```python\n",
    "        data = {\"name\": \"Alice\", \"age\": 25, \"city\": \"New York\"}\n",
    "        print(data[\"age\"])  # Output: 25 (Fast lookup using hashing)\n",
    "        ```  \n",
    "        Here, \"age\" is hashed to find its corresponding value quickly in memory."
   ]
  },
  {
   "cell_type": "markdown",
   "metadata": {},
   "source": [
    "9.  Can lists contain different data types in Python ?\n",
    "\n",
    "    - Yes, **lists can contain different data types** in Python because they are heterogeneous data structures. A single list can store integers, floats, strings, booleans, or even other lists and objects.  \n",
    "\n",
    "        **Example:**  \n",
    "        ```python\n",
    "        mixed_list = [10, 3.14, \"Hello\", True, [1, 2, 3]]\n",
    "        print(mixed_list)  # Output: [10, 3.14, 'Hello', True, [1, 2, 3]]\n",
    "        ```  \n",
    "        Here, the list contains an **integer, float, string, boolean,** and **another list**, demonstrating its ability to store multiple data types."
   ]
  },
  {
   "cell_type": "markdown",
   "metadata": {},
   "source": [
    "10. Explain why strings are immutable in Python.\n",
    "\n",
    "    - **Strings are immutable because:**\n",
    "\n",
    "        - **Memory Efficiency:** Since strings are widely used, immutability allows Python to optimize memory by reusing the same string objects.  \n",
    "        - **Security & Integrity:** Prevents accidental modification of critical data, ensuring consistency and reliability.  \n",
    "        - **Hashability:** Immutable strings can be used as dictionary keys and set elements, enabling efficient lookups.  \n",
    "\n",
    "        **Example:**  \n",
    "        ```python\n",
    "        text = \"Hello\"\n",
    "        text[0] = \"h\"  # Error: Strings cannot be modified\n",
    "        ```  \n",
    "        Here, trying to change the first character results in an error, proving string immutability."
   ]
  },
  {
   "cell_type": "markdown",
   "metadata": {},
   "source": [
    "11. What advantages do dictionaries offer over lists for certain tasks ?\n",
    "\n",
    "    - **Advantages of Dictionaries Over Lists:**  \n",
    "\n",
    "        - Dictionaries provide **O(1) average time complexity** for key-based lookups, while lists require **O(n) linear search**.  \n",
    "        - Dictionaries allow data to be stored with meaningful keys, making retrieval more intuitive (e.g., person[\"name\"] instead of person[0]).  \n",
    "        - Dictionaries allow Modifying values or deleting elements in dictionaries is faster compared to lists, where shifting elements may be required.  \n",
    "\n",
    "        **Example:**  \n",
    "        ```python\n",
    "        # Using a dictionary for quick access\n",
    "        person = {\"name\": \"Alice\", \"age\": 25, \"city\": \"New York\"}\n",
    "        print(person[\"age\"])  # Output: 25 (Fast lookup)\n",
    "        ```  \n",
    "        Here, accessing \"age\" is direct and efficient, unlike lists where we would need to find the index first."
   ]
  },
  {
   "cell_type": "markdown",
   "metadata": {},
   "source": [
    "12. Describe a scenario where using a tuple would be preferable over a list.\n",
    "\n",
    "    - **Scenario:** When storing **fixed, unchangeable data**, a tuple is preferable over a list to ensure data integrity.  \n",
    "\n",
    "        **Example:** Storing geographic coordinates (latitude, longitude) which should remain constant.  \n",
    "\n",
    "        ```python\n",
    "        coordinates = (40.7128, -74.0060)  # Tuple ensures the values remain unchanged\n",
    "        # coordinates[0] = 41.0000  # This would cause an error since tuples are immutable\n",
    "        ```  \n",
    "\n",
    "        Here, using a **tuple** prevents accidental modification of the coordinates, ensuring the data remains reliable throughout the program."
   ]
  },
  {
   "cell_type": "markdown",
   "metadata": {},
   "source": [
    "13. How do sets handle duplicate values in Python ?\n",
    "\n",
    "    - **Sets Handle Duplicates in Python as:**  \n",
    "        - **Automatic Removal:** When elements are added to a set, duplicates are automatically removed.  \n",
    "        - **Unique Storage:** Each element in a set is stored only once, ensuring all values are distinct.  \n",
    "        - **Hashing Mechanism:** Sets use hashing to store elements, which prevents duplicate entries.  \n",
    "\n",
    "        **Example:**  \n",
    "        ```python\n",
    "        numbers = {1, 2, 2, 3, 4, 4, 5}\n",
    "        print(numbers)  # Output: {1, 2, 3, 4, 5}\n",
    "        ```  \n",
    "        Here, duplicate values 2 and 4 are automatically removed, leaving only unique elements in the set."
   ]
  },
  {
   "cell_type": "markdown",
   "metadata": {},
   "source": [
    "14. How does the “in” keyword work differently for lists and dictionaries ?\n",
    "\n",
    "    - **In Lists:** Checks if a **value** exists in the list by iterating through elements (**O(n) time complexity**).  \n",
    "    - **In Dictionaries:** Checks if a **key** exists in the dictionary using \"hashing\" (**O(1) average time complexity**).  \n",
    "\n",
    "        **Example with List:**  \n",
    "        ```python\n",
    "        numbers = [10, 20, 30, 40]\n",
    "        print(20 in numbers)  # Output: True (Checks for value)\n",
    "        ```  \n",
    "\n",
    "        **Example with Dictionary:**  \n",
    "        ```python\n",
    "        person = {\"name\": \"Alice\", \"age\": 25}\n",
    "        print(\"age\" in person)  # Output: True (Checks for key, not value)\n",
    "        print(25 in person)  # Output: False (Values are not checked directly)\n",
    "        ```  \n",
    "\n",
    "        In lists, \"in\" searches through values, while in dictionaries, it checks for **keys**, making dictionary lookups much faster. "
   ]
  },
  {
   "cell_type": "markdown",
   "metadata": {},
   "source": [
    "15. Can you modify the elements of a tuple ? Explain why or why not.\n",
    "\n",
    "    - **No, tuples are immutable**, meaning their elements cannot be modified after creation.  \n",
    "\n",
    "        **Example:**  \n",
    "        ```python\n",
    "        tup = (1, 2, 3)\n",
    "        tup[0] = 10  # Error: Tuples do not support item assignment\n",
    "        ```  \n",
    "        Here, attempting to modify \"tup[0]\" results in an error because tuples **do not allow changes** to their elements."
   ]
  },
  {
   "cell_type": "markdown",
   "metadata": {},
   "source": [
    "16. What is a nested dictionary ? Give an example of its use case.\n",
    "\n",
    "    - A **nested dictionary** is a dictionary that contains another dictionary as a value, allowing hierarchical data storage.  \n",
    "\n",
    "        **Use Case Example:** Storing student details with multiple attributes.  \n",
    "        ```python\n",
    "        students = {\n",
    "            \"101\": {\"name\": \"Alice\", \"age\": 20, \"course\": \"BCA\"},\n",
    "            \"102\": {\"name\": \"Bob\", \"age\": 22, \"course\": \"B.Sc\"}\n",
    "        }\n",
    "        print(students[\"101\"][\"name\"])  # Output: Alice\n",
    "        ```  \n",
    "        Here, a **nested dictionary** helps organize multiple students’ data efficiently, making retrieval structured and easy."
   ]
  },
  {
   "cell_type": "markdown",
   "metadata": {},
   "source": [
    "17. Describe the time complexity of accessing elements in a dictionary.\n",
    "\n",
    "    - **Average Case:** **O(1)** (Constant time) – Uses **hashing** to locate keys quickly.  \n",
    "    - **Worst Case:** **O(n)** (Linear time) – Occurs when multiple keys have hash collisions, requiring a scan.  \n",
    "\n",
    "        **Example:**  \n",
    "        ```python\n",
    "        data = {\"name\": \"Alice\", \"age\": 25}\n",
    "        print(data[\"age\"])  # O(1) in average case\n",
    "        ```  \n",
    "        In most cases, dictionary lookups are **very fast** due to hashing, making them ideal for quick data retrieval."
   ]
  },
  {
   "cell_type": "markdown",
   "metadata": {},
   "source": [
    "18. In what situations are lists preferred over dictionaries ?\n",
    "\n",
    "    - **Situations Where Lists Are Preferred Over Dictionaries are:**  \n",
    "\n",
    "        - **Ordered Data Storage:** Lists maintain the order of elements, making them ideal for sequential data processing.  \n",
    "        - **Index-Based Access:** When elements need to be accessed by position rather than by a key.  \n",
    "        - **Memory Efficiency:** Lists consume less memory than dictionaries when storing simple collections of values.  \n",
    "\n",
    "        **Example:**  \n",
    "        ```python\n",
    "        fruits = [\"apple\", \"banana\", \"cherry\"]\n",
    "        print(fruits[1])  # Output: banana (Access by index)\n",
    "        ```  \n",
    "        Here, a **list** is preferred because elements are accessed by index, and key-value mapping is unnecessary."
   ]
  },
  {
   "cell_type": "markdown",
   "metadata": {},
   "source": [
    "19. Why are dictionaries considered unordered, and how does that affect data retrieval ?\n",
    "\n",
    "    - **Dictionaries Are Considered Unordered bacause of:**  \n",
    "        - **Hashing Mechanism:** Dictionaries use **hash tables** to store keys, meaning elements are placed based on their hash values, not in a sequential order.  \n",
    "        - **Python Versions (<3.7):** Before Python 3.7, dictionaries did not maintain insertion order. From **Python 3.7+**, they **preserve order**, but their internal working remains based on hashing.  \n",
    "\n",
    "        **Effect on Data Retrieval:**  \n",
    "        - **No Positional Access:** Items cannot be accessed using an index like lists (\"dict[0]\" is invalid).  \n",
    "        - **Key-Based Lookup:** Retrieval is based on **keys**, making lookups efficient but unordered.  \n",
    "\n",
    "        **Example:**  \n",
    "        ```python\n",
    "        data = {\"name\": \"Alice\", \"age\": 25, \"city\": \"NY\"}\n",
    "        print(data[0])  # Error: Dictionary keys, not indexes, are used for retrieval\n",
    "        print(data[\"age\"])  # Output: 25 (Key-based lookup)\n",
    "        ```  \n",
    "        Thus, dictionaries are **optimized for fast key-based lookups**, not for maintaining a strict order like lists. "
   ]
  },
  {
   "cell_type": "markdown",
   "metadata": {},
   "source": [
    "20. Explain the difference between a list and a dictionary in terms of data retrieval.\n",
    "\n",
    "    - **Difference Between List & Dictionary (based on Data Retrieval):**  \n",
    "\n",
    "        - **Access Method:**  \n",
    "            - **List:** Elements are accessed by **index** (\"list[index]\").  \n",
    "            - **Dictionary:** Elements are accessed by **key** (\"dict[key]\").  \n",
    "\n",
    "        - **Time Complexity:**  \n",
    "            - **List:** **O(n) (linear time)** for searching a value, **O(1)** for index-based access.  \n",
    "            - **Dictionary:** **O(1) (constant time)** on average for key-based lookups using hashing.  \n",
    "\n",
    "         **Example:**  \n",
    "        ```python\n",
    "        # List retrieval (index-based)\n",
    "        fruits = [\"apple\", \"banana\", \"cherry\"]\n",
    "        print(fruits[1])  # Output: banana\n",
    "\n",
    "        # Dictionary retrieval (key-based)\n",
    "        student = {\"name\": \"Alice\", \"age\": 25}\n",
    "        print(student[\"age\"])  # Output: 25\n",
    "        ```  \n",
    "        Thus, **lists are efficient for ordered, index-based retrieval**, while **dictionaries excel at fast key-based lookups**."
   ]
  },
  {
   "cell_type": "markdown",
   "metadata": {},
   "source": [
    "---"
   ]
  },
  {
   "cell_type": "markdown",
   "metadata": {},
   "source": [
    "# Practical Questions"
   ]
  },
  {
   "cell_type": "code",
   "execution_count": 3,
   "metadata": {},
   "outputs": [
    {
     "name": "stdout",
     "output_type": "stream",
     "text": [
      "Adarsh Kumar\n"
     ]
    }
   ],
   "source": [
    "# 1. Write a code to create a string with your name and print it.\n",
    "\n",
    "name = \"Adarsh Kumar\"\n",
    "print(name)"
   ]
  },
  {
   "cell_type": "code",
   "execution_count": null,
   "metadata": {},
   "outputs": [
    {
     "name": "stdout",
     "output_type": "stream",
     "text": [
      "Length of string 'Hello World' = 11\n"
     ]
    }
   ],
   "source": [
    "# 2. Write a code to find the length of the string \"Hello World\".\n",
    "\n",
    "given_string = \"Hello World\"\n",
    "length = len(given_string)        # using 'len()' function\n",
    "\n",
    "print(f\"Length of string '{given_string}' = {length}\")"
   ]
  },
  {
   "cell_type": "code",
   "execution_count": 6,
   "metadata": {},
   "outputs": [
    {
     "name": "stdout",
     "output_type": "stream",
     "text": [
      "Sliced String : Pyt\n"
     ]
    }
   ],
   "source": [
    "# 3. Write a code to slice the first 3 characters from the string \"Python Programming\".\n",
    "\n",
    "given_string = \"Python Programming\"\n",
    "\n",
    "print(\"Sliced String :\", given_string[:3])     # given_string[:3] ->  prints characters from index '0' to '2' i.e. first three chracters"
   ]
  },
  {
   "cell_type": "code",
   "execution_count": 14,
   "metadata": {},
   "outputs": [
    {
     "name": "stdout",
     "output_type": "stream",
     "text": [
      "Given String : hello\n",
      "After conversion : HELLO\n"
     ]
    }
   ],
   "source": [
    "# 4. Write a code to convert the string \"hello\" to uppercase.\n",
    "\n",
    "given_string = \"hello\"\n",
    "\n",
    "print(\"Given String :\", given_string)\n",
    "print(\"After conversion :\", given_string.upper())      # using 'upper()' string method "
   ]
  },
  {
   "cell_type": "code",
   "execution_count": 17,
   "metadata": {},
   "outputs": [
    {
     "name": "stdout",
     "output_type": "stream",
     "text": [
      "Given String : I like apple\n",
      "After updation : I like orange\n"
     ]
    }
   ],
   "source": [
    "# 5. Write a code to replace the word \"apple\" with \"orange\" in the string \"I like apple\".\n",
    "\n",
    "given_string = \"I like apple\"\n",
    "print(\"Given String :\", given_string)\n",
    "\n",
    "updated_string = given_string.replace(\"apple\", \"orange\")         # using 'replace()' string method to replace 'apple' with 'orange'\n",
    "print(\"After updation :\", updated_string)"
   ]
  },
  {
   "cell_type": "code",
   "execution_count": 17,
   "metadata": {},
   "outputs": [
    {
     "name": "stdout",
     "output_type": "stream",
     "text": [
      "[1, 2, 3, 4, 5]\n"
     ]
    }
   ],
   "source": [
    "# 6. Write a code to create a list with numbers 1 to 5 and print it.\n",
    "\n",
    "numbers = [1, 2, 3, 4, 5]\n",
    "\n",
    "print(numbers)"
   ]
  },
  {
   "cell_type": "code",
   "execution_count": 18,
   "metadata": {},
   "outputs": [
    {
     "name": "stdout",
     "output_type": "stream",
     "text": [
      "Given List : [1, 2, 3, 4]\n",
      "After updation : [1, 2, 3, 4, 10]\n"
     ]
    }
   ],
   "source": [
    "# 7. Write a code to append the number 10 to the list [1, 2, 3, 4].\n",
    "\n",
    "given_list = [1, 2, 3, 4]\n",
    "print(\"Given List :\", given_list)\n",
    "\n",
    "given_list.append(10)      # using 'append()' list method\n",
    "print(\"After updation :\", given_list)"
   ]
  },
  {
   "cell_type": "code",
   "execution_count": null,
   "metadata": {},
   "outputs": [
    {
     "name": "stdout",
     "output_type": "stream",
     "text": [
      "Given List : [1, 2, 3, 4, 5]\n",
      "After updation : [1, 2, 4, 5]\n"
     ]
    }
   ],
   "source": [
    "# 8. Write a code to remove the number 3 from the list [1, 2, 3, 4, 5].\n",
    "\n",
    "given_list = [1, 2, 3, 4, 5]\n",
    "print(\"Given List :\", given_list)\n",
    "\n",
    "given_list.remove(3)    # using 'remove()' list method\n",
    "print(\"After updation :\", given_list)"
   ]
  },
  {
   "cell_type": "code",
   "execution_count": null,
   "metadata": {},
   "outputs": [
    {
     "name": "stdout",
     "output_type": "stream",
     "text": [
      "b\n"
     ]
    }
   ],
   "source": [
    "# 9. Write a code to access the second element in the list ['a', 'b', 'c', 'd'].\n",
    "\n",
    "given_list = ['a', 'b', 'c', 'd']\n",
    "second_element = given_list[1]      # accessed using index '1'\n",
    "\n",
    "print(second_element) "
   ]
  },
  {
   "cell_type": "code",
   "execution_count": 20,
   "metadata": {},
   "outputs": [
    {
     "name": "stdout",
     "output_type": "stream",
     "text": [
      "Given List : [10, 20, 30, 40, 50]\n",
      "After updation : [50, 40, 30, 20, 10]\n"
     ]
    }
   ],
   "source": [
    "# 10. Write a code to reverse the list [10, 20, 30, 40, 50].\n",
    "\n",
    "given_list = [10, 20, 30, 40, 50]\n",
    "print(\"Given List :\", given_list)\n",
    "\n",
    "given_list.reverse()         # using 'reverse()' list method\n",
    "print(\"After updation :\", given_list)"
   ]
  },
  {
   "cell_type": "code",
   "execution_count": 25,
   "metadata": {},
   "outputs": [
    {
     "name": "stdout",
     "output_type": "stream",
     "text": [
      "(100, 200, 300)\n"
     ]
    }
   ],
   "source": [
    "# 11. Write a code to create a tuple with the elements 100, 200, 300 and print it.\n",
    "\n",
    "nums = (100, 200, 300)\n",
    "\n",
    "print(nums)"
   ]
  },
  {
   "cell_type": "code",
   "execution_count": 11,
   "metadata": {},
   "outputs": [
    {
     "name": "stdout",
     "output_type": "stream",
     "text": [
      "blue\n"
     ]
    }
   ],
   "source": [
    "# 12. Write a code to access the second-to-last element of the tuple ('red', 'green', 'blue', 'yellow').\n",
    "\n",
    "given_tuple = ('red', 'green', 'blue', 'yellow')\n",
    "second_last_element = given_tuple[-2]                # accesse using index '-2'\n",
    "\n",
    "print(second_last_element)"
   ]
  },
  {
   "cell_type": "code",
   "execution_count": 23,
   "metadata": {},
   "outputs": [
    {
     "name": "stdout",
     "output_type": "stream",
     "text": [
      "The minimum number in (10, 20, 5, 15) is : 5\n"
     ]
    }
   ],
   "source": [
    "# 13. Write a code to find the minimum number in the tuple (10, 20, 5, 15).\n",
    "\n",
    "given_tuple = (10, 20, 5, 15)\n",
    "minimum_number = min(given_tuple)     # using 'min()' function \n",
    "\n",
    "print(f\"The minimum number in {given_tuple} is : {minimum_number}\")"
   ]
  },
  {
   "cell_type": "code",
   "execution_count": 22,
   "metadata": {},
   "outputs": [
    {
     "name": "stdout",
     "output_type": "stream",
     "text": [
      "The index of the element 'cat' is : 1\n"
     ]
    }
   ],
   "source": [
    "# 14. Write a code to find the index of the element \"cat\" in the tuple ('dog', 'cat', 'rabbit').\n",
    "\n",
    "given_tuple = ('dog', 'cat', 'rabbit')\n",
    "required_index = given_tuple.index('cat')           # using 'index()' tuple method\n",
    "\n",
    "print(\"The index of the element 'cat' is :\",  required_index) "
   ]
  },
  {
   "cell_type": "code",
   "execution_count": 21,
   "metadata": {},
   "outputs": [
    {
     "name": "stdout",
     "output_type": "stream",
     "text": [
      "Yes! 'kiwi' is there in ('apple', 'mango', 'kiwi', 'orange', 'cherry')\n"
     ]
    }
   ],
   "source": [
    "# 15. Write a code to create a tuple containing three different fruits and check if \"kiwi\" is in it.\n",
    "\n",
    "fruits = ('apple', 'mango', 'kiwi', 'orange', 'cherry')\n",
    "\n",
    "if \"kiwi\" in fruits:                                                # using 'in' membership operator \n",
    "    print(f\"Yes! 'kiwi' is there in {fruits}\")\n",
    "else:\n",
    "    print(f\"No! 'kiwi' is no there in {fruits}\")"
   ]
  },
  {
   "cell_type": "code",
   "execution_count": 37,
   "metadata": {},
   "outputs": [
    {
     "name": "stdout",
     "output_type": "stream",
     "text": [
      "{'a', 'b', 'c'}\n"
     ]
    }
   ],
   "source": [
    "# 16. Write a code to create a set with the elements 'a', 'b', 'c' and print it.\n",
    "\n",
    "letters = {'a', 'b', 'c'}\n",
    "\n",
    "print(letters)"
   ]
  },
  {
   "cell_type": "code",
   "execution_count": 24,
   "metadata": {},
   "outputs": [
    {
     "name": "stdout",
     "output_type": "stream",
     "text": [
      "Given set : {1, 2, 3, 4, 5}\n",
      "After updation : set()\n"
     ]
    }
   ],
   "source": [
    "# 17. Write a code to clear all elements from the set {1, 2, 3, 4, 5}.\n",
    "\n",
    "given_set = {1, 2, 3, 4, 5}\n",
    "print(\"Given set :\", given_set)\n",
    "\n",
    "given_set.clear()       # using 'clear()' set method\n",
    "print(\"After updation :\", given_set)"
   ]
  },
  {
   "cell_type": "code",
   "execution_count": null,
   "metadata": {},
   "outputs": [
    {
     "name": "stdout",
     "output_type": "stream",
     "text": [
      "{1, 2, 3, 4}\n"
     ]
    }
   ],
   "source": [
    "# 18. Write a code to remove the element 4 from the set {1, 2, 3, 4}. \n",
    "\n",
    "given_set = {1, 2, 3, 4}\n",
    "print(\"Given set :\", given_set)\n",
    "\n",
    "given_set.remove(4)    # using 'remove()' set method\n",
    "print(\"After updation\",given_set)"
   ]
  },
  {
   "cell_type": "code",
   "execution_count": null,
   "metadata": {},
   "outputs": [
    {
     "name": "stdout",
     "output_type": "stream",
     "text": [
      "Union of {1, 2, 3} and {3, 4, 5} is : {1, 2, 3, 4, 5}\n"
     ]
    }
   ],
   "source": [
    "# 19. Write a code to find the union of two sets {1, 2, 3} and {3, 4, 5}.\n",
    "\n",
    "set1 = {1, 2, 3}\n",
    "set2 = {3, 4, 5}\n",
    "\n",
    "set3 = set1 | set2      # using '|' for doing union of two sets\n",
    "print(f\"Union of {set1} and {set2} is : {set3}\")"
   ]
  },
  {
   "cell_type": "code",
   "execution_count": 28,
   "metadata": {},
   "outputs": [
    {
     "name": "stdout",
     "output_type": "stream",
     "text": [
      "Intersection of {1, 2, 3} and {2, 3, 4} is : {2, 3}\n"
     ]
    }
   ],
   "source": [
    "# 20. Write a code to find the intersection of two sets {1, 2, 3} and {2, 3, 4}.\n",
    "\n",
    "set1 = {1, 2, 3}\n",
    "set2 = {2, 3, 4}\n",
    "\n",
    "set3 = set1 & set2      # using '&' for doing intersection of two sets\n",
    "print(f\"Intersection of {set1} and {set2} is : {set3}\")"
   ]
  },
  {
   "cell_type": "code",
   "execution_count": null,
   "metadata": {},
   "outputs": [],
   "source": [
    "# 21. Write a code to create a dictionary with the keys \"name\", \"age\", and \"city\", and print it.\n",
    "\n",
    "d = {\"name\": \"Adarsh\", \"age\": 20, \"city\": \"Bilaspur\"}\n",
    "print(d)"
   ]
  },
  {
   "cell_type": "code",
   "execution_count": 29,
   "metadata": {},
   "outputs": [
    {
     "name": "stdout",
     "output_type": "stream",
     "text": [
      "Given dictionary : {'name': 'John', 'age': 25}\n",
      "After updation : {'name': 'John', 'age': 25, 'country': 'USA'}\n"
     ]
    }
   ],
   "source": [
    "# 22. Write a code to add a new key-value pair \"country\": \"USA\" to the dictionary {'name': 'John', 'age': 25}.\n",
    "\n",
    "given_dct = {'name': 'John', 'age': 25}\n",
    "print(\"Given dictionary :\", given_dct)\n",
    "\n",
    "given_dct.update({'country': 'USA'})        # using 'update()' dictionary method\n",
    "print(\"After updation :\", given_dct)\n"
   ]
  },
  {
   "cell_type": "code",
   "execution_count": 30,
   "metadata": {},
   "outputs": [
    {
     "name": "stdout",
     "output_type": "stream",
     "text": [
      "Value of the key 'name' is : Alice\n"
     ]
    }
   ],
   "source": [
    "# 23. Write a code to access the value associated with the key \"name\" in the dictionary {'name': 'Alice', 'age': 30}.\n",
    "\n",
    "given_dct = {'name': 'Alice', 'age': 30}\n",
    "required_value = given_dct.get(\"name\")      # using 'get()' dictionary method\n",
    "\n",
    "print(\"Value of the key 'name' is :\", required_value)"
   ]
  },
  {
   "cell_type": "code",
   "execution_count": 31,
   "metadata": {},
   "outputs": [
    {
     "name": "stdout",
     "output_type": "stream",
     "text": [
      "Given dictionary : {'name': 'Bob', 'age': 22, 'city': 'New York'}\n",
      "After updation : {'name': 'Bob', 'city': 'New York'}\n"
     ]
    }
   ],
   "source": [
    "# 24. Write a code to remove the key \"age\" from the dictionary {'name': 'Bob', 'age': 22, 'city': 'New York'}.\n",
    "\n",
    "given_dct = {'name': 'Bob', 'age': 22, 'city': 'New York'}\n",
    "print(\"Given dictionary :\", given_dct)\n",
    "\n",
    "given_dct.pop(\"age\")        # using 'pop()' dictionary method\n",
    "print(\"After updation :\", given_dct)"
   ]
  },
  {
   "cell_type": "code",
   "execution_count": 32,
   "metadata": {},
   "outputs": [
    {
     "name": "stdout",
     "output_type": "stream",
     "text": [
      "Yes! the key 'city' exists in {'name': 'Alice', 'city': 'Paris'}\n"
     ]
    }
   ],
   "source": [
    "# 25. Write a code to check if the key \"city\" exists in the dictionary {'name': 'Alice', 'city': 'Paris'}.\n",
    "\n",
    "given_dct = {'name': 'Alice', 'city': 'Paris'}\n",
    "onlyKeys = given_dct.keys()    # accessing all keys\n",
    "\n",
    "if \"city\" in onlyKeys:          # using 'in' membership operator\n",
    "    print(f\"Yes! the key 'city' exists in {given_dct}\")\n",
    "else:\n",
    "    print(f\"No! the key 'city' doesn't exist in {given_dct}\")"
   ]
  },
  {
   "cell_type": "code",
   "execution_count": 47,
   "metadata": {},
   "outputs": [
    {
     "name": "stdout",
     "output_type": "stream",
     "text": [
      "List : ['Aadi', 20, True, 3.14]    --->    Type : <class 'list'>\n",
      "Tuple : ('Shubu', 18, 5.12)   --->    Type : <class 'tuple'>\n",
      "Dictionary : {'name': 'Bob', 'age': 22, 'city': 'New York'}   --->   Type : <class 'dict'>\n"
     ]
    }
   ],
   "source": [
    "# 26. Write a code to create a list, a tuple, and a dictionary, and print them all.\n",
    "\n",
    "lst = ['Aadi',  20, True, 3.14]\n",
    "tpl = ('Shubu', 18, 5.12)\n",
    "dct = {'name': 'Bob', 'age': 22, 'city': 'New York'}\n",
    "\n",
    "print(f\"List : {lst}    --->    Type : {type(lst)}\")\n",
    "print(f\"Tuple : {tpl}   --->    Type : {type(tpl)}\")\n",
    "print(f\"Dictionary : {dct}   --->   Type : {type(dct)}\")"
   ]
  },
  {
   "cell_type": "code",
   "execution_count": 43,
   "metadata": {},
   "outputs": [
    {
     "name": "stdout",
     "output_type": "stream",
     "text": [
      "List (Before updation) : [14, 24, 67, 6, 6]\n",
      "List (After updation) : [6, 6, 14, 24, 67]\n"
     ]
    }
   ],
   "source": [
    "# 27. Write a code to create a list of 5 random numbers between 1 and 100, sort it in ascending order, and print the  result.(replaced)\n",
    "\n",
    "import random\n",
    "\n",
    "lst = [random.randint(1, 100) for _ in range(5)]     # creates a list of 5 random numbers between 1 and 100\n",
    "print(\"List (Before updation) :\", lst)\n",
    "\n",
    "lst.sort()      # using 'sort()' list method to sort the list in ascending order\n",
    "print(\"List (After updation) :\", lst)"
   ]
  },
  {
   "cell_type": "code",
   "execution_count": null,
   "metadata": {},
   "outputs": [
    {
     "name": "stdout",
     "output_type": "stream",
     "text": [
      "litchi\n"
     ]
    }
   ],
   "source": [
    "# 28. Write a code to create a list with strings and print the element at the third index.\n",
    "\n",
    "fruits = ['apple', 'mango', 'litchi', 'cherry', 'orange', 'kiwi']\n",
    "print(fruits[2])    # printing using index '2'"
   ]
  },
  {
   "cell_type": "code",
   "execution_count": 40,
   "metadata": {},
   "outputs": [
    {
     "name": "stdout",
     "output_type": "stream",
     "text": [
      "Dictionary 1 : {'name': 'Abhishek', 'age': 25, 'city': 'New York'}\n",
      "Dictionary 2 : {'a': 1, 'b': 4, 'c': 7}\n",
      "Combined dictionary : {'name': 'Abhishek', 'age': 25, 'city': 'New York', 'a': 1, 'b': 4, 'c': 7}\n"
     ]
    }
   ],
   "source": [
    "# 29. Write a code to combine two dictionaries into one and print the result.\n",
    "\n",
    "dct1 = {'name': 'Abhishek', 'age': 25, 'city': 'New York'}\n",
    "dct2 = {'a': 1, 'b': 4, 'c': 7 }\n",
    "\n",
    "combined_dct = dct1.copy()         # copy to avoid modifying the 'dic1'\n",
    "combined_dct.update(dct2)       # combining using 'update()' dictionary operator\n",
    "\n",
    "print(\"Dictionary 1 :\", dct1)\n",
    "print(\"Dictionary 2 :\", dct2)\n",
    "print(\"Combined dictionary :\", combined_dct)\n"
   ]
  },
  {
   "cell_type": "code",
   "execution_count": 38,
   "metadata": {},
   "outputs": [
    {
     "name": "stdout",
     "output_type": "stream",
     "text": [
      "List : ['apple', 'mango', 'banana', 'litchi', 'cherry', 'banana', 'orange', 'kiwi']\n",
      "Set : {'mango', 'litchi', 'cherry', 'apple', 'kiwi', 'banana', 'orange'}\n"
     ]
    }
   ],
   "source": [
    "# 30. Write a code to convert a list of strings into a set.\n",
    "\n",
    "fruits = ['apple', 'mango', 'banana', 'litchi', 'cherry', 'banana',  'orange', 'kiwi']\n",
    "print(\"List :\", fruits)\n",
    "\n",
    "fruitSet = set(fruits)   # converting into set using 'set()'\n",
    "print(\"Set :\", fruitSet)"
   ]
  }
 ],
 "metadata": {
  "kernelspec": {
   "display_name": "base",
   "language": "python",
   "name": "python3"
  },
  "language_info": {
   "codemirror_mode": {
    "name": "ipython",
    "version": 3
   },
   "file_extension": ".py",
   "mimetype": "text/x-python",
   "name": "python",
   "nbconvert_exporter": "python",
   "pygments_lexer": "ipython3",
   "version": "3.12.7"
  }
 },
 "nbformat": 4,
 "nbformat_minor": 2
}
