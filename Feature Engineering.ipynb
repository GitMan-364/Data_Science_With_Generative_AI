{
 "cells": [
  {
   "cell_type": "markdown",
   "id": "77b5533a",
   "metadata": {},
   "source": [
    "# Theory Questions"
   ]
  },
  {
   "cell_type": "markdown",
   "id": "5caea98d",
   "metadata": {},
   "source": [
    "1. What is a parameter ?\n",
    "\n",
    "    - In Machine Learning, a parameter is an internal variable that a model learns from the training data. For example, in linear regression, the slope (m) and intercept (b) in the equation y = mx + b are parameters. The model adjusts these during training to best fit the data."
   ]
  },
  {
   "cell_type": "markdown",
   "id": "1a4240a1",
   "metadata": {},
   "source": [
    "2. What is correlation ?\n",
    "    What does negative correlation mean ?\n",
    "\n",
    "    - ***Correlation*** measures the relationship between two variables—how they move in relation to each other. It ranges from -1 to +1. A value close to +1 means strong positive correlation, while close to -1 means strong negative correlation.\n",
    "\n",
    "        ***Negative correlation*** means that as one variable increases, the other decreases. For example, if more hours of study reduce the number of mistakes in a test, they have a negative correlation."
   ]
  },
  {
   "cell_type": "markdown",
   "id": "ef5242e3",
   "metadata": {},
   "source": [
    "3. Define Machine Learning. What are the main components in Machine Learning ? \n",
    "\n",
    "    - ***Machine Learning (ML)*** is a branch of AI where computers learn patterns from data to make decisions. Its main components are:\n",
    "\n",
    "        - Data\n",
    "\n",
    "        - Features (input variables)\n",
    "\n",
    "        - Model/Algorithm\n",
    "\n",
    "        - Loss function\n",
    "\n",
    "        - Optimizer (for improving the model)\n",
    "\n",
    "        - Training and testing process"
   ]
  },
  {
   "cell_type": "markdown",
   "id": "8effa15d",
   "metadata": {},
   "source": [
    "4. How does loss value help in determining whether the model is good or not ?\n",
    "\n",
    "    - The loss value tells us how far the model's predictions are from the actual values. A low loss means better accuracy. During training, the model tries to minimize this value using optimizers."
   ]
  },
  {
   "cell_type": "markdown",
   "id": "fa93f916",
   "metadata": {},
   "source": [
    "5. What are continuous and categorical variables ? \n",
    "\n",
    "    - ***Continuous variables*** can take any numeric value (e.g., height, weight).\n",
    "\n",
    "        ***Categorical variables*** represent categories or groups (e.g., gender: male/female, color: red/blue)."
   ]
  },
  {
   "cell_type": "markdown",
   "id": "b247d570",
   "metadata": {},
   "source": [
    "6. How do we handle categorical variables in Machine Learning? What are the common techniques ?\n",
    "\n",
    "    - Categorical variables must be converted into numbers. Common techniques include:\n",
    "\n",
    "        - *Label Encoding* (assigning numbers to categories)\n",
    "\n",
    "        - *One-Hot Encoding* (creating binary columns for each category)\n",
    "\n",
    "        **Example using One-Hot Encoding :-**\n",
    "        Color = Red, Blue, Green → becomes → Red: [1,0,0], Blue: [0,1,0], Green: [0,0,1]"
   ]
  },
  {
   "cell_type": "markdown",
   "id": "6b085074",
   "metadata": {},
   "source": [
    "7. What do you mean by training and testing a dataset ?\n",
    "\n",
    "    - ***Training dataset*** is used to teach the model patterns in the data.\n",
    "\n",
    "        ***Testing dataset*** is used to check how well the model performs on new, unseen data."
   ]
  },
  {
   "cell_type": "markdown",
   "id": "8bd1f236",
   "metadata": {},
   "source": [
    "8. What is sklearn.preprocessing ?\n",
    "\n",
    "    - It is a module in Scikit-learn that provides functions to preprocess data, such as:\n",
    "\n",
    "        - Scaling features\n",
    "\n",
    "        - Encoding categorical variables\n",
    "\n",
    "        - Handling missing values\n",
    "\n",
    "        **Example :** `from sklearn.preprocessing import StandardScaler`"
   ]
  },
  {
   "cell_type": "markdown",
   "id": "0a1c10e4",
   "metadata": {},
   "source": [
    "9. What is a Test set ?\n",
    "\n",
    "    - A test set is a portion of the dataset that is ***not*** used during training. It helps evaluate how well the model generalizes to new data."
   ]
  },
  {
   "cell_type": "markdown",
   "id": "282f9d70",
   "metadata": {},
   "source": [
    "10. How do we split data for model fitting (training and testing) in Python ?\n",
    "     How do you approach a Machine Learning problem?\n",
    "\n",
    "     -  We use train_test_split() from sklearn.model_selection:\n",
    "\n",
    "          ```python\n",
    "          from sklearn.model_selection import train_test_split\n",
    "          X_train, X_test, y_train, y_test = train_test_split(X, y, test_size=0.2)\n",
    "          \n",
    "          ```\n",
    "\n",
    "          Steps include:\n",
    "\n",
    "          ***1.*** Understanding the problem and data\n",
    "\n",
    "          ***2.*** Performing EDA (Exploratory Data Analysis)\n",
    "\n",
    "          ***3.*** Preprocessing data (handling nulls, encoding, scaling)\n",
    "\n",
    "          ***4.*** Splitting data\n",
    "\n",
    "          ***5.*** Choosing and training a model\n",
    "\n",
    "          ***6.*** Evaluating model performance\n",
    "\n",
    "          ***7.*** Tuning and improving"
   ]
  },
  {
   "cell_type": "markdown",
   "id": "b0c95cdf",
   "metadata": {},
   "source": [
    "11. Why do we have to perform EDA before fitting a model to the data ?\n",
    "\n",
    "    - EDA helps understand the dataset's structure, patterns, and anomalies. It reveals:\n",
    "\n",
    "        - Missing values\n",
    "\n",
    "        - Outliers\n",
    "\n",
    "        - Variable relationships (via plots). This improves feature selection and model accuracy."
   ]
  },
  {
   "cell_type": "markdown",
   "id": "19c5a4d5",
   "metadata": {},
   "source": [
    "12. What is correlation ?\n",
    "\n",
    "    - Correlation measures the relationship between two variables—how they move in relation to each other. It ranges from -1 to +1. A value close to +1 means strong positive correlation, while close to -1 means strong negative correlation."
   ]
  },
  {
   "cell_type": "markdown",
   "id": "00bdfd8d",
   "metadata": {},
   "source": [
    "13. What does negative correlation mean ?\n",
    "\n",
    "    - Negative correlation means that as one variable increases, the other decreases. For example, if more hours of study reduce the number of mistakes in a test, they have a negative correlation."
   ]
  },
  {
   "cell_type": "markdown",
   "id": "2599f680",
   "metadata": {},
   "source": [
    "14. How can you find correlation between variables in Python ?\n",
    "\n",
    "    - Use `.corr() `method in pandas:\n",
    "\n",
    "        ```python\n",
    "        import pandas as pd\n",
    "        df.corr()\n",
    "        ```\n",
    "        You can visualize it using a heatmap with Seaborn:\n",
    "\n",
    "        ```python\n",
    "        import seaborn as sns\n",
    "        sns.heatmap(df.corr(), annot=True)\n",
    "        ```"
   ]
  },
  {
   "cell_type": "markdown",
   "id": "643529c5",
   "metadata": {},
   "source": [
    "15. What is causation? Explain difference between correlation and causation with an example.\n",
    "\n",
    "    - ***Causation*** means one variable directly affects another.\n",
    "        ***Correlation*** means two variables move together but may not affect each other.\n",
    "\n",
    "        **Example :-**\n",
    "\n",
    "        - *Correlation*: Ice cream sales and drowning cases (both rise in summer)\n",
    "\n",
    "        - *Causation*: Smoking causes lung disease"
   ]
  },
  {
   "cell_type": "markdown",
   "id": "0c4c6f94",
   "metadata": {},
   "source": [
    "16. What is an Optimizer? What are different types of optimizers? Explain each with an example.\n",
    "\n",
    "    - Optimizers adjust the model’s parameters to reduce loss.\n",
    "        Common optimizers:\n",
    "\n",
    "         - ***SGD (Stochastic Gradient Descent)***: Updates weights using a small batch of data.\n",
    "\n",
    "         - ***Adam***: Combines momentum and RMSProp; adapts learning rate.\n",
    "\n",
    "        **Example:**\n",
    "\n",
    "        ```python\n",
    "        optimizer = tf.keras.optimizers.Adam()\n",
    "        ```"
   ]
  },
  {
   "cell_type": "markdown",
   "id": "0c248aab",
   "metadata": {},
   "source": [
    "17. What is sklearn.linear_model ?\n",
    "\n",
    "    - It is a Scikit-learn module for applying linear models like:\n",
    "\n",
    "        - LinearRegression()\n",
    "\n",
    "        - LogisticRegression()\n",
    "\n",
    "        Used to build simple regression or classification models."
   ]
  },
  {
   "cell_type": "markdown",
   "id": "f7072df3",
   "metadata": {},
   "source": [
    "18. What does model.fit() do ? What arguments must be given ?\n",
    "\n",
    "    - `model.fit()` trains the model using the training data.\n",
    "\n",
    "        **Example:**\n",
    "\n",
    "        ```python\n",
    "        model.fit(X_train, y_train)\n",
    "        ```\n",
    "        \n",
    "        **Arguments:**\n",
    "\n",
    "        - X_train: input features\n",
    "\n",
    "        - y_train: target values"
   ]
  },
  {
   "cell_type": "markdown",
   "id": "f7e36f0e",
   "metadata": {},
   "source": [
    "19. What does model.predict() do ? What arguments must be given ?\n",
    "\n",
    "    - `model.predict()` makes predictions on new data using the trained model.\n",
    "\n",
    "      **Example:**\n",
    "\n",
    "      ```python\n",
    "      predictions = model.predict(X_test)\n",
    "      ```  \n",
    "\n",
    "      **Argument:**\n",
    "\n",
    "        - `X_test`: test feature set"
   ]
  },
  {
   "cell_type": "markdown",
   "id": "1d9bda61",
   "metadata": {},
   "source": [
    "20. What are continuous and categorical variables ?\n",
    "\n",
    "    - ***Continuous variables*** can take any numeric value (e.g., height, weight).\n",
    "\n",
    "        ***Categorical variables*** represent categories or groups (e.g., gender: male/female, color: red/blue)."
   ]
  },
  {
   "cell_type": "markdown",
   "id": "ce933f85",
   "metadata": {},
   "source": [
    "21. What is feature scaling ? How does it help in Machine Learning ?\n",
    "\n",
    "    - Feature scaling standardizes data to bring all features to the same scale. It helps algorithms like KNN, SVM, and gradient descent to perform better and converge faster."
   ]
  },
  {
   "cell_type": "markdown",
   "id": "7cd64e2d",
   "metadata": {},
   "source": [
    "22. How do we perform scaling in Python ?\n",
    "\n",
    "    - Using `StandardScaler` or `MinMaxScaler` from `sklearn.preprocessing`:\n",
    "\n",
    "        **Example:**\n",
    "\n",
    "        ```python\n",
    "        from sklearn.preprocessing import StandardScaler\n",
    "        scaler = StandardScaler()\n",
    "        X_scaled = scaler.fit_transform(X)\n",
    "        ```"
   ]
  },
  {
   "cell_type": "markdown",
   "id": "92350380",
   "metadata": {},
   "source": [
    "23. What is sklearn.preprocessing ?\n",
    "\n",
    "    - It’s a Scikit-learn module used for preparing data before modeling. It includes:\n",
    "\n",
    "        - Encoding (Label, One-Hot)\n",
    "\n",
    "        - Scaling (Standard, MinMax)\n",
    "\n",
    "        - Imputing missing values"
   ]
  },
  {
   "cell_type": "markdown",
   "id": "dc34a42f",
   "metadata": {},
   "source": [
    "24. How do we split data for model fitting (training and testing) in Python ?\n",
    "\n",
    "    -  We use train_test_split() from sklearn.model_selection:\n",
    "\n",
    "          ```python\n",
    "          from sklearn.model_selection import train_test_split\n",
    "          X_train, X_test, y_train, y_test = train_test_split(X, y, test_size=0.2)\n",
    "          \n",
    "          ```"
   ]
  },
  {
   "cell_type": "markdown",
   "id": "61b64817",
   "metadata": {},
   "source": [
    "25. Explain data encoding ?\n",
    "\n",
    "    - Data encoding transforms categorical values into numeric format so models can understand them.\n",
    "\n",
    "        **Types:**\n",
    "\n",
    "        - ***Label Encoding***: Converts categories to integers.\n",
    "\n",
    "        - ***One-Hot Encoding***: Creates binary columns for each category.\n",
    "\n",
    "        **Example:**\n",
    "        ```python\n",
    "        from sklearn.preprocessing import OneHotEncoder\n",
    "        ```"
   ]
  }
 ],
 "metadata": {
  "kernelspec": {
   "display_name": "base",
   "language": "python",
   "name": "python3"
  },
  "language_info": {
   "name": "python",
   "version": "3.12.7"
  }
 },
 "nbformat": 4,
 "nbformat_minor": 5
}
