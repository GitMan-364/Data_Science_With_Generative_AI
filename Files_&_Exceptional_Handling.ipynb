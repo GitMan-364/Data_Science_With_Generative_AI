{
 "cells": [
  {
   "cell_type": "markdown",
   "id": "2d7d503b",
   "metadata": {},
   "source": [
    "# Theory Questions"
   ]
  },
  {
   "cell_type": "markdown",
   "id": "cd47771e",
   "metadata": {},
   "source": [
    "1. What is the difference between interpreted and compiled languages ?\n",
    "\n",
    "    - **Interpreted Languages:-**\n",
    "        - Code is executed **line-by-line** by an interpreter.\n",
    "        - **Slower** in execution due to real-time interpretation.\n",
    "        - Easier to **debug and test**, great for scripting (e.g., Python, JavaScript).\n",
    "\n",
    "        **Compiled Languages:-**\n",
    "        - Code is **translated entirely** into machine code before execution.\n",
    "        - **Faster** execution after compilation.\n",
    "        - Errors are caught **during compilation**, not at runtime (e.g., C, C++)."
   ]
  },
  {
   "cell_type": "markdown",
   "id": "84ed8f02",
   "metadata": {},
   "source": [
    "2. What is exception handling in Python ?\n",
    "\n",
    "    - **Exception handling** in Python is a way to manage errors that occur during program execution, without crashing the program.\n",
    "\n",
    "        **Key Points:**\n",
    "        - It uses **`try`**, **`except`**, **`else`**, and **`finally`** blocks.\n",
    "        - Helps in handling **runtime errors** like division by zero, file not found, etc.\n",
    "        - Ensures the program runs **smoothly**, even when unexpected events occur.\n",
    "\n",
    "        **Example:**\n",
    "        ```python\n",
    "        try:\n",
    "            result = 10 / 0\n",
    "        except ZeroDivisionError:\n",
    "            print(\"Cannot divide by zero!\")\n",
    "        ```"
   ]
  },
  {
   "cell_type": "markdown",
   "id": "ef9c9e7c",
   "metadata": {},
   "source": [
    "3. What is the purpose of the finally block in exception handling ?\n",
    "\n",
    "    - The **`finally` block** in Python is used to define code that **always executes**, whether an exception occurs or not.\n",
    "\n",
    "        **Purpose of `finally` block:**\n",
    "        - To perform **cleanup actions**, like closing files or releasing resources.\n",
    "        - Ensures that **important code runs** no matter what happens in `try` or `except`.\n",
    "        - Useful for maintaining the **stability** of your program.\n",
    "\n",
    "        **Example:**\n",
    "        ```python\n",
    "        try:\n",
    "            file = open(\"data.txt\", \"r\")\n",
    "            # Some file operations\n",
    "        except FileNotFoundError:\n",
    "            print(\"File not found!\")\n",
    "        finally:\n",
    "            file.close()  # This will always execute\n",
    "        ```\n"
   ]
  },
  {
   "cell_type": "markdown",
   "id": "992cc2cd",
   "metadata": {},
   "source": [
    "4. What is logging in Python ?\n",
    "\n",
    "    - **Logging** in Python is the process of recording messages about a program’s execution, used mainly for **debugging and monitoring**.\n",
    "\n",
    "        **Key Points:**\n",
    "        - Helps track **events, errors**, or **info** while the program runs.\n",
    "        - More flexible and powerful than `print()` statements.\n",
    "        - Uses the built-in **`logging` module**.\n",
    "\n",
    "        **Example:**\n",
    "        ```python\n",
    "        import logging\n",
    "        logging.basicConfig(level=logging.INFO)\n",
    "        logging.info(\"This is an info message.\")\n",
    "        ```"
   ]
  },
  {
   "cell_type": "markdown",
   "id": "4caa474d",
   "metadata": {},
   "source": [
    "5. What is the significance of the ` __del__` method in Python ?\n",
    "\n",
    "    - The `__del__` method in Python is a **destructor** used to define actions when an object is about to be **destroyed** (i.e., garbage collected).\n",
    "\n",
    "        **Significance:**\n",
    "        - Automatically called when an object is **deleted** or goes out of scope.\n",
    "        - Useful for **cleanup tasks** like closing files or releasing resources.\n",
    "        - Defined as a **special method** inside a class.\n",
    "\n",
    "        **Example:**\n",
    "        ```python\n",
    "        class MyClass:\n",
    "            def __del__(self):\n",
    "                print(\"Object is being destroyed.\")\n",
    "        ```\n"
   ]
  },
  {
   "cell_type": "markdown",
   "id": "93ce0330",
   "metadata": {},
   "source": [
    "6. What is the difference between import and from ... import in Python ?\n",
    "\n",
    "    - **`import`**:\n",
    "        - Imports the **whole module**.\n",
    "        - You access functions or classes using **module name**.\n",
    "\n",
    "        ```python\n",
    "        import math\n",
    "        print(math.sqrt(16))  # Access using module name\n",
    "        ```\n",
    "\n",
    "        **`from ... import`**:\n",
    "        - Imports **specific parts** (functions, classes) from a module.\n",
    "        - You can use them **directly without module name**.\n",
    "\n",
    "        ```python\n",
    "        from math import sqrt\n",
    "        print(sqrt(16))  # Direct access\n",
    "        ```"
   ]
  },
  {
   "cell_type": "markdown",
   "id": "664e5e45",
   "metadata": {},
   "source": [
    "7. How can you handle multiple exceptions in Python ?\n",
    "\n",
    "    - We can handle **multiple exceptions** in Python using either:\n",
    "\n",
    "        1. **Multiple `except` blocks**:\n",
    "        Handle different exceptions separately.\n",
    "\n",
    "            ```python\n",
    "            try:\n",
    "                num = int(\"abc\")\n",
    "            except ValueError:\n",
    "                print(\"Value error occurred.\")\n",
    "            except TypeError:\n",
    "                print(\"Type error occurred.\")\n",
    "            ```\n",
    "\n",
    "        2. **Single `except` block with tuple**:\n",
    "        Handle multiple exceptions with the same response.\n",
    "\n",
    "            ```python\n",
    "            try:\n",
    "                result = 10 + \"5\"\n",
    "            except (TypeError, ValueError):\n",
    "                print(\"An error occurred.\")\n",
    "            ```\n"
   ]
  },
  {
   "cell_type": "markdown",
   "id": "162c954d",
   "metadata": {},
   "source": [
    "8. What is the purpose of the with statement when handling files in Python ?\n",
    "\n",
    "    - The **`with` statement** in Python is used for **automatic resource management**, especially when working with files.\n",
    "\n",
    "        **Purpose:**\n",
    "        - Ensures that the file is **automatically closed** after the block is executed.\n",
    "        - Makes the code **cleaner and safer**.\n",
    "        - Helps prevent **resource leaks** or forgotten `file.close()` calls.\n",
    "\n",
    "        **Example:**\n",
    "        ```python\n",
    "        with open(\"data.txt\", \"r\") as file:\n",
    "            content = file.read()\n",
    "        # File is automatically closed here\n",
    "        ```"
   ]
  },
  {
   "cell_type": "markdown",
   "id": "dee42821",
   "metadata": {},
   "source": [
    "9. What is the difference between multithreading and multiprocessing ?\n",
    "\n",
    "    - **Multithreading**:\n",
    "        - Runs **multiple threads** (lightweight units) within a **single process**.\n",
    "        - Best for **I/O-bound tasks** (like file operations, web requests).\n",
    "        - Shares the same **memory space**.\n",
    "\n",
    "        **Multiprocessing**:\n",
    "        - Runs **multiple processes**, each with its own Python interpreter.\n",
    "        - Best for **CPU-bound tasks** (like heavy calculations).\n",
    "        - Each process has **separate memory**, reducing shared-state issues.\n",
    "\n"
   ]
  },
  {
   "cell_type": "markdown",
   "id": "e8f7c9a5",
   "metadata": {},
   "source": [
    "10. What are the advantages of using logging in a program ?\n",
    "\n",
    "    - Here are the **advantages of using logging** in a Python program:\n",
    "\n",
    "        1. **Tracks program execution**: Helps monitor what the program is doing.\n",
    "        2. **Debugging aid**: Makes it easier to identify and fix issues.\n",
    "        3. **Persistent records**: Logs can be saved to files for later analysis.\n",
    "        4. **Customizable levels**: You can set log levels like DEBUG, INFO, WARNING, ERROR, CRITICAL.\n",
    "        5. **Better than print()**: More flexible, organized, and can be turned off in production.\n"
   ]
  },
  {
   "cell_type": "markdown",
   "id": "6d1fbc4e",
   "metadata": {},
   "source": [
    "11. What is memory management in Python ?\n",
    "\n",
    "    - **Memory management** in Python refers to how Python handles the **allocation and deallocation of memory** to objects during program execution.\n",
    "\n",
    "        **Key Points:**\n",
    "        - Uses **automatic garbage collection** to free unused memory.\n",
    "        - Memory is managed using **reference counting** and **generational garbage collection**.\n",
    "        - Python’s memory manager takes care of **object creation, storage, and cleanup**.\n",
    "        - The `gc` module can be used for **manual garbage collection control**.\n"
   ]
  },
  {
   "cell_type": "markdown",
   "id": "877fec70",
   "metadata": {},
   "source": [
    "12. What are the basic steps involved in exception handling in Python ?\n",
    "\n",
    "    - The **basic steps involved in exception handling** in Python are :-\n",
    "\n",
    "        1. **Try Block**: Wrap the risky code inside a `try` block.\n",
    "        2. **Except Block**: Catch and handle specific exceptions using `except`.\n",
    "        3. **Else Block (optional)**: Runs if no exception occurs in the `try` block.\n",
    "        4. **Finally Block (optional)**: Executes code regardless of whether an exception occurred or not.\n",
    "\n",
    "        **Example:**\n",
    "        ```python\n",
    "        try:\n",
    "            x = 10 / 0\n",
    "        except ZeroDivisionError:\n",
    "            print(\"Cannot divide by zero.\")\n",
    "        else:\n",
    "            print(\"No error occurred.\")\n",
    "        finally:\n",
    "            print(\"This always runs.\")\n",
    "        ```\n"
   ]
  },
  {
   "cell_type": "markdown",
   "id": "9a8a62c0",
   "metadata": {},
   "source": [
    "13. Why is memory management important in Python ?\n",
    "\n",
    "    - **Memory management** is important in Python because it ensures the program runs **efficiently and reliably**.\n",
    "\n",
    "        **Reasons why it’s important:-**\n",
    "        \n",
    "        1. **Prevents memory leaks** by freeing unused objects automatically.\n",
    "        \n",
    "        2. **Optimizes performance** by managing memory resources efficiently.\n",
    "        \n",
    "        3. **Improves stability** of applications, especially long-running ones.\n",
    "        \n",
    "        4. **Simplifies development**, as Python handles most memory tasks behind the scenes.\n",
    "        \n",
    "        5. **Supports scalability** by managing memory even in large and complex programs.\n"
   ]
  },
  {
   "cell_type": "markdown",
   "id": "325a9009",
   "metadata": {},
   "source": [
    "14. What is the role of try and except in exception handling ?\n",
    "\n",
    "    - The **`try`** and **`except`** blocks are the core of exception handling in Python.\n",
    "\n",
    "        **Role of `try`:**\n",
    "        - Used to wrap code that **might raise an exception**.\n",
    "        - If no exception occurs, code runs **normally**.\n",
    "\n",
    "        **Role of `except`:**\n",
    "        - Catches and **handles the exception** if it occurs in the `try` block.\n",
    "        - Prevents the program from **crashing** and allows a **custom response**.\n",
    "\n",
    "        **Example:**\n",
    "        ```python\n",
    "        try:\n",
    "            num = int(\"abc\")\n",
    "        except ValueError:\n",
    "            print(\"Invalid input!\")\n",
    "        ```"
   ]
  },
  {
   "cell_type": "markdown",
   "id": "8830a2c2",
   "metadata": {},
   "source": [
    "15. How does Python's garbage collection system work ?\n",
    "\n",
    "    - Python’s **garbage collection system** automatically reclaims memory by deleting objects that are **no longer in use**.\n",
    "\n",
    "        **How it works:**\n",
    "        1. **Reference Counting**: Each object keeps track of how many references point to it. When the count reaches zero, it’s deleted.\n",
    "        2. **Garbage Collector**: Python’s `gc` module handles **cyclic references** (when objects reference each other).\n",
    "        3. **Generational Approach**: Objects are grouped into generations (0, 1, 2) — newer objects are checked more frequently, older ones less.\n",
    "\n",
    "        **Example (manual collection):**\n",
    "        ```python\n",
    "        import gc\n",
    "        gc.collect()  # Triggers garbage collection manually\n",
    "        ```"
   ]
  },
  {
   "cell_type": "markdown",
   "id": "b1be9358",
   "metadata": {},
   "source": [
    "16. What is the purpose of the else block in exception handling ?\n",
    "\n",
    "    - The **`else` block** in exception handling is used to define code that should run **only if no exception occurs** in the `try` block.\n",
    "\n",
    "        **Purpose:**\n",
    "        - Keeps the code **clean and readable** by separating error-free logic from error-handling logic.\n",
    "        - Helps to **execute safe code** after the `try` block.\n",
    "\n",
    "        **Example:**\n",
    "        ```python\n",
    "        try:\n",
    "            x = int(\"10\")\n",
    "        except ValueError:\n",
    "            print(\"Invalid input.\")\n",
    "        else:\n",
    "            print(\"Conversion successful.\")  # Runs only if no exception\n",
    "        ```"
   ]
  },
  {
   "cell_type": "markdown",
   "id": "d7c21bc4",
   "metadata": {},
   "source": [
    "17. What are the common logging levels in Python ?\n",
    "\n",
    "    - The **common logging levels** in Python, from lowest to highest severity, are :-\n",
    "\n",
    "        1. **DEBUG** – Detailed information, useful for diagnosing problems.\n",
    "        2. **INFO** – General events confirming things are working as expected.\n",
    "        3. **WARNING** – Indicates a potential issue or unexpected situation.\n",
    "        4. **ERROR** – A serious problem that prevents part of the program from working.\n",
    "        5. **CRITICAL** – A severe error that may cause the program to stop.\n",
    "\n",
    "        **Example:**\n",
    "        ```python\n",
    "        import logging\n",
    "        logging.basicConfig(level=logging.DEBUG)\n",
    "        logging.warning(\"This is a warning.\")\n",
    "        ```"
   ]
  },
  {
   "cell_type": "markdown",
   "id": "58032fb6",
   "metadata": {},
   "source": [
    "18. What is the difference between os.fork() and multiprocessing in Python ?\n",
    "\n",
    "    - Here’s the **difference between `os.fork()` and `multiprocessing`** in Python:\n",
    "\n",
    "        **`os.fork()`**:\n",
    "        - Creates a **child process** by duplicating the current process.\n",
    "        - Works **only on Unix/Linux** systems (not available on Windows).\n",
    "        - Lower-level and **less portable**.\n",
    "\n",
    "        **`multiprocessing` module**:\n",
    "        - Provides a **cross-platform** way to create and manage processes.\n",
    "        - Easier to use and includes tools like **Process**, **Queue**, and **Pool**.\n",
    "        - Recommended for **writing portable, high-level concurrent programs**.\n",
    "\n",
    "        **Example using `multiprocessing`**:\n",
    "        ```python\n",
    "        from multiprocessing import Process\n",
    "\n",
    "        def show():\n",
    "            print(\"Hello from child process\")\n",
    "\n",
    "        p = Process(target=show)\n",
    "        p.start()\n",
    "        p.join()\n",
    "        ```"
   ]
  },
  {
   "cell_type": "markdown",
   "id": "a21b0201",
   "metadata": {},
   "source": [
    "19. What is the importance of closing a file in Python ?\n",
    "\n",
    "    - **Closing a file** in Python is important to ensure proper resource management and data integrity.\n",
    "\n",
    "        **Importance:**\n",
    "        1. **Frees system resources** like memory and file handles.\n",
    "        2. **Ensures data is saved** correctly, especially when writing to a file.\n",
    "        3. **Prevents file corruption** or unexpected behavior.\n",
    "        4. Allows other programs or processes to **access the file**.\n",
    "        5. Signals that you're **done using the file**.\n",
    "\n",
    "        **Example:**\n",
    "        ```python\n",
    "        file = open(\"data.txt\", \"r\")\n",
    "        # File operations\n",
    "        file.close()  # Always close after use\n",
    "        ```\n",
    "\n",
    "        Or use `with` for automatic closing."
   ]
  },
  {
   "cell_type": "markdown",
   "id": "86329994",
   "metadata": {},
   "source": [
    "20. What is the difference between file.read() and file.readline() in Python ?\n",
    "\n",
    "    - **`file.read()`**:\n",
    "        - Reads the **entire file** content as a single string.\n",
    "        - Useful when you need the **whole file** in memory.\n",
    "        - Example:\n",
    "            ```python\n",
    "            with open(\"data.txt\", \"r\") as file:\n",
    "                content = file.read()\n",
    "            ```\n",
    "\n",
    "        **`file.readline()`**:\n",
    "        - Reads the **next line** of the file.\n",
    "        - Returns each line one by one, useful for reading large files line by line.\n",
    "        - Example:\n",
    "            ```python\n",
    "            with open(\"data.txt\", \"r\") as file:\n",
    "                line = file.readline()\n",
    "                print(line)  # Reads first line\n",
    "            ```"
   ]
  },
  {
   "cell_type": "markdown",
   "id": "6e00cec4",
   "metadata": {},
   "source": [
    "21. What is the logging module in Python used for ?\n",
    "\n",
    "    - The **`logging` module** in Python is used for tracking and recording events that happen during the execution of a program.\n",
    "\n",
    "        **Purpose:**\n",
    "        1. Provides a **flexible framework** for logging messages from your program.\n",
    "        2. Helps in **debugging**, **monitoring**, and tracking **errors** or events.\n",
    "        3. Allows the logging of messages to various outputs, like the **console**, **files**, or **remote servers**.\n",
    "        4. Supports different **log levels** (DEBUG, INFO, WARNING, ERROR, CRITICAL).\n",
    "        5. Ensures that logs can be **customized** and **formatted** to suit specific needs."
   ]
  },
  {
   "cell_type": "markdown",
   "id": "ae5ea7cf",
   "metadata": {},
   "source": [
    "22. What is the os module in Python used for in file handling ?\n",
    "\n",
    "    - The **`os` module** in Python provides a way to interact with the **operating system** and handle file and directory operations.\n",
    "\n",
    "        **Key Uses in File Handling:**\n",
    "        1. **File and Directory Management**:\n",
    "            - Create, remove, or change directories (e.g., `os.mkdir()`, `os.rmdir()`, `os.chdir()`).\n",
    "        2. **Path Operations**:\n",
    "            - Work with file paths, such as checking if a file exists or getting its absolute path (e.g., `os.path.exists()`, `os.path.abspath()`).\n",
    "        3. **File Permissions**:\n",
    "            - Change file permissions (e.g., `os.chmod()`).\n",
    "        4. **Environment and Process Management**:\n",
    "            - Work with environment variables or execute system commands (e.g., `os.environ`, `os.system()`).\n",
    "\n",
    "        **Example:**\n",
    "        ```python\n",
    "        import os\n",
    "\n",
    "        # Check if file exists\n",
    "        if os.path.exists(\"data.txt\"):\n",
    "            print(\"File found.\")\n",
    "        else:\n",
    "            print(\"File not found.\")\n",
    "        ```"
   ]
  },
  {
   "cell_type": "markdown",
   "id": "005d057d",
   "metadata": {},
   "source": [
    "23. What are the challenges associated with memory management in Python ?\n",
    "\n",
    "    - Here are the **challenges associated with memory management in Python**:\n",
    "\n",
    "        1. **Garbage Collection Overhead**: The automatic garbage collection can cause performance overhead, especially in memory-intensive programs.\n",
    "        \n",
    "        2. **Circular References**: Objects that reference each other in a cycle might not be cleaned up immediately, leading to memory leaks if not handled properly.\n",
    "        \n",
    "        3. **Reference Counting Limitations**: Python’s reference counting might not immediately release memory, leading to higher memory usage in some cases.\n",
    "        \n",
    "        4. **Fragmentation**: Python’s memory management can cause fragmentation in long-running applications, where memory is not used optimally.\n",
    "        \n",
    "        5. **Large Objects**: Managing large data structures or objects can consume substantial memory, potentially causing issues in low-memory environments.\n"
   ]
  },
  {
   "cell_type": "markdown",
   "id": "57995579",
   "metadata": {},
   "source": [
    "24. How do you raise an exception manually in Python ?\n",
    "\n",
    "    - You can manually raise an exception in Python using the **`raise`** keyword.\n",
    "\n",
    "        **Syntax:**\n",
    "        ```python\n",
    "        raise ExceptionType(\"Error message\")\n",
    "        ```\n",
    "\n",
    "        **Example:**\n",
    "        ```python\n",
    "        raise ValueError(\"This is a custom error!\")\n",
    "        ```\n",
    "\n",
    "        You can also raise **built-in exceptions or define your own custom exceptions** by subclassing the `Exception` class.\n",
    "\n",
    "        **Example with custom exception:**\n",
    "        ```python\n",
    "        class CustomError(Exception):\n",
    "            pass\n",
    "\n",
    "        raise CustomError(\"This is a custom exception!\")\n",
    "        ```"
   ]
  },
  {
   "cell_type": "markdown",
   "id": "feba5528",
   "metadata": {},
   "source": [
    "25. Why is it important to use multithreading in certain applications ?\n",
    "\n",
    "    - **Multithreading** is important in certain applications because it allows the program to perform **multiple tasks simultaneously**, leading to improved efficiency and better resource utilization.\n",
    "\n",
    "        **Key Benefits:**\n",
    "        1. **Improves Performance**: Especially for **I/O-bound** tasks, like reading from a file or making network requests, as threads can work while others wait.\n",
    "\n",
    "        2. **Better Resource Utilization**: Leverages the **multiple cores** of a CPU, improving the overall throughput of the application.\n",
    "\n",
    "        3. **Responsiveness**: Makes applications more **responsive** by allowing the main thread to remain active even if other threads are waiting for I/O operations.\n",
    "\n",
    "        4. **Concurrency**: Helps manage **concurrent tasks**, improving user experience in interactive applications.\n",
    "\n",
    "        **Example:**\n",
    "        - Web servers use multithreading to handle multiple user requests simultaneously."
   ]
  },
  {
   "cell_type": "markdown",
   "id": "8b735d7f",
   "metadata": {},
   "source": [
    "---"
   ]
  },
  {
   "cell_type": "markdown",
   "id": "0df67f41",
   "metadata": {},
   "source": [
    "# Practical Questions"
   ]
  },
  {
   "cell_type": "code",
   "execution_count": 1,
   "id": "ed28e17e",
   "metadata": {},
   "outputs": [],
   "source": [
    "# 1. How can you open a file for writing in Python and write a string to it ?\n",
    "\n",
    "# Open a file in write mode ('w') which creates a new file or overwrites an existing one\n",
    "with open(\"example.txt\", \"w\") as file:\n",
    "    # Write a string to the file\n",
    "    file.write(\"Hello, this is a sample text.\")"
   ]
  },
  {
   "cell_type": "code",
   "execution_count": 2,
   "id": "1badd32a",
   "metadata": {},
   "outputs": [
    {
     "name": "stdout",
     "output_type": "stream",
     "text": [
      "Hello, this is a sample text.\n"
     ]
    }
   ],
   "source": [
    "# 2. Write a Python program to read the contents of a file and print each line.\n",
    "\n",
    "# Open the file in read mode ('r')\n",
    "with open(\"example.txt\", \"r\") as file:\n",
    "    # Read and print each line one by one\n",
    "    for line in file:\n",
    "        print(line.strip())  # .strip() removes extra newline characters"
   ]
  },
  {
   "cell_type": "code",
   "execution_count": 3,
   "id": "39ab9b1d",
   "metadata": {},
   "outputs": [
    {
     "name": "stdout",
     "output_type": "stream",
     "text": [
      "The file does not exist.\n"
     ]
    }
   ],
   "source": [
    "# 3. How would you handle a case where the file doesn't exist while trying to open it for reading ?\n",
    "\n",
    "# Use try-except block to handle the case where the file might not exist\n",
    "try:\n",
    "    with open(\"nonexistent.txt\", \"r\") as file:\n",
    "        print(file.read())\n",
    "except FileNotFoundError:\n",
    "    print(\"The file does not exist.\")"
   ]
  },
  {
   "cell_type": "code",
   "execution_count": 4,
   "id": "f88210f5",
   "metadata": {},
   "outputs": [],
   "source": [
    "# 4. Write a Python script that reads from one file and writes its content to another file.\n",
    "\n",
    "# Open the source file in read mode and destination file in write mode\n",
    "with open(\"source.txt\", \"r\") as source_file:\n",
    "    content = source_file.read()\n",
    "\n",
    "with open(\"destination.txt\", \"w\") as destination_file:\n",
    "    destination_file.write(content)"
   ]
  },
  {
   "cell_type": "code",
   "execution_count": 5,
   "id": "2a019993",
   "metadata": {},
   "outputs": [
    {
     "name": "stdout",
     "output_type": "stream",
     "text": [
      "Cannot divide by zero.\n"
     ]
    }
   ],
   "source": [
    "# 5. How would you catch and handle division by zero error in Python ?\n",
    "\n",
    "# Use try-except block to catch and handle division by zero\n",
    "try:\n",
    "    result = 10 / 0\n",
    "except ZeroDivisionError:\n",
    "    print(\"Cannot divide by zero.\")"
   ]
  },
  {
   "cell_type": "code",
   "execution_count": 6,
   "id": "c134a005",
   "metadata": {},
   "outputs": [],
   "source": [
    "# 6. Write a Python program that logs an error message to a log file when a division by zero exception occurs.\n",
    "\n",
    "# Import the logging module and configure it to write logs to a file\n",
    "import logging\n",
    "\n",
    "logging.basicConfig(filename=\"error.log\", level=logging.ERROR)\n",
    "\n",
    "# Use try-except to handle and log the division by zero error\n",
    "try:\n",
    "    result = 10 / 0\n",
    "except ZeroDivisionError as e:\n",
    "    logging.error(f\"Division by zero error occurred: {e}\")"
   ]
  },
  {
   "cell_type": "code",
   "execution_count": 8,
   "id": "6ec5e272",
   "metadata": {},
   "outputs": [],
   "source": [
    "# 7. How do you log information at different levels (INFO, ERROR, WARNING) in Python using the logging module ?\n",
    "\n",
    "# Import the logging module and configure basic settings\n",
    "import logging\n",
    "\n",
    "logging.basicConfig(level=logging.DEBUG, filename=\"app.log\", filemode=\"w\", format=\"%(levelname)s - %(message)s\")\n",
    "\n",
    "# Log messages at different levels\n",
    "logging.info(\"This is an info message.\")\n",
    "logging.warning(\"This is a warning message.\")\n",
    "logging.error(\"This is an error message.\")"
   ]
  },
  {
   "cell_type": "code",
   "execution_count": 11,
   "id": "0f28ef62",
   "metadata": {},
   "outputs": [
    {
     "name": "stdout",
     "output_type": "stream",
     "text": [
      "Error: [Errno 2] No such file or directory: 'not_existing_file.txt'. The file could not be found.\n"
     ]
    }
   ],
   "source": [
    "# 8. Write a program to handle a file opening error using exception handling.\n",
    "\n",
    "# Use try-except block to handle file opening errors\n",
    "try:\n",
    "    with open(\"not_existing_file.txt\", \"r\") as file:\n",
    "        content = file.read()\n",
    "except FileNotFoundError as e:\n",
    "    print(f\"Error: {e}. The file could not be found.\")\n",
    "except IOError as e:\n",
    "    print(f\"Error: {e}. An I/O error occurred.\")"
   ]
  },
  {
   "cell_type": "code",
   "execution_count": 13,
   "id": "886f8248",
   "metadata": {},
   "outputs": [
    {
     "name": "stdout",
     "output_type": "stream",
     "text": [
      "['Hello, this is a sample text.']\n"
     ]
    }
   ],
   "source": [
    "# 9. How can you read a file line by line and store its content in a list in Python ?\n",
    "\n",
    "# Open the file in read mode and read line by line\n",
    "with open(\"example.txt\", \"r\") as file:\n",
    "    # Read each line and store it in a list\n",
    "    lines = file.readlines()\n",
    "\n",
    "# Optionally, strip newlines if needed\n",
    "lines = [line.strip() for line in lines]\n",
    "\n",
    "# Print the list of lines\n",
    "print(lines)"
   ]
  },
  {
   "cell_type": "code",
   "execution_count": 18,
   "id": "20837144",
   "metadata": {},
   "outputs": [],
   "source": [
    "# 10. How can you append data to an existing file in Python ?\n",
    "\n",
    "# Open the file in append mode ('a') to add data to the end of the file\n",
    "with open(\"example.txt\", \"a\") as file:\n",
    "    # Append a new line of text to the file\n",
    "    file.write(\"This is an appended line of text.\\n\")"
   ]
  },
  {
   "cell_type": "code",
   "execution_count": 14,
   "id": "158e651c",
   "metadata": {},
   "outputs": [
    {
     "name": "stdout",
     "output_type": "stream",
     "text": [
      "Error: The key 'address' does not exist in the dictionary.\n"
     ]
    }
   ],
   "source": [
    "# 11. Write a Python program that uses a try-except block to handle an error when attempting to access a dictionary key that doesn't exist.\n",
    "\n",
    "# Define a sample dictionary\n",
    "my_dict = {\"name\": \"Alice\", \"age\": 25}\n",
    "\n",
    "# Use try-except block to handle missing key error\n",
    "try:\n",
    "    value = my_dict[\"address\"]\n",
    "except KeyError as e:\n",
    "    print(f\"Error: The key {e} does not exist in the dictionary.\")"
   ]
  },
  {
   "cell_type": "code",
   "execution_count": 15,
   "id": "d9bde694",
   "metadata": {},
   "outputs": [
    {
     "name": "stdout",
     "output_type": "stream",
     "text": [
      "Error: Invalid input! Please enter a valid number.\n"
     ]
    }
   ],
   "source": [
    "# 12. Write a program that demonstrates using multiple except blocks to handle different types of exceptions.\n",
    "\n",
    "# Using try-except block to handle different types of exceptions\n",
    "try:\n",
    "    x = int(input(\"Enter a number: \"))\n",
    "    y = int(input(\"Enter another number: \"))\n",
    "    result = x / y\n",
    "except ZeroDivisionError:\n",
    "    print(\"Error: Cannot divide by zero.\")\n",
    "except ValueError:\n",
    "    print(\"Error: Invalid input! Please enter a valid number.\")\n",
    "except Exception as e:\n",
    "    print(f\"An unexpected error occurred: {e}\")"
   ]
  },
  {
   "cell_type": "code",
   "execution_count": 19,
   "id": "f0cfd348",
   "metadata": {},
   "outputs": [
    {
     "name": "stdout",
     "output_type": "stream",
     "text": [
      "Hello, this is a sample text.This is an appended line of text.\n",
      "\n"
     ]
    }
   ],
   "source": [
    "# 13. How would you check if a file exists before attempting to read it in Python ?\n",
    "\n",
    "# Import os module to check if the file exists\n",
    "import os\n",
    "\n",
    "# Check if the file exists before opening it\n",
    "file_path = \"example.txt\"\n",
    "if os.path.exists(file_path):\n",
    "    with open(file_path, \"r\") as file:\n",
    "        content = file.read()\n",
    "        print(content)\n",
    "else:\n",
    "    print(f\"The file {file_path} does not exist.\")"
   ]
  },
  {
   "cell_type": "code",
   "execution_count": 38,
   "id": "7c1db59a",
   "metadata": {},
   "outputs": [],
   "source": [
    "# 14. Write a program that uses the logging module to log both informational and error messages.\n",
    "\n",
    "# Import the logging module and configure basic settings\n",
    "import logging\n",
    "\n",
    "# Set up logging to log both informational and error messages\n",
    "logging.basicConfig(level=logging.DEBUG, filename=\"app.log\", filemode=\"w\", format=\"%(asctime)s - %(levelname)s - %(message)s\")\n",
    "\n",
    "# Log an informational message\n",
    "logging.info(\"This is an informational message.\")\n",
    "\n",
    "# Log an error message\n",
    "logging.error(\"This is an error message.\")"
   ]
  },
  {
   "cell_type": "code",
   "execution_count": 20,
   "id": "57fd83d0",
   "metadata": {},
   "outputs": [
    {
     "name": "stdout",
     "output_type": "stream",
     "text": [
      "Hello, this is a sample text.This is an appended line of text.\n",
      "\n"
     ]
    }
   ],
   "source": [
    "# 15. Write a Python program that prints the content of a file and handles the case when the file is empty.\n",
    "\n",
    "# Open the file in read mode\n",
    "file_path = \"example.txt\"\n",
    "\n",
    "try:\n",
    "    with open(file_path, \"r\") as file:\n",
    "        content = file.read()\n",
    "        if content:\n",
    "            print(content)\n",
    "        else:\n",
    "            print(\"The file is empty.\")\n",
    "except FileNotFoundError:\n",
    "    print(f\"The file {file_path} does not exist.\")"
   ]
  },
  {
   "cell_type": "code",
   "execution_count": 39,
   "id": "8338418b",
   "metadata": {},
   "outputs": [
    {
     "name": "stdout",
     "output_type": "stream",
     "text": [
      "Requirement already satisfied: memory-profiler in c:\\users\\adarsh kumar\\anaconda3\\lib\\site-packages (0.61.0)\n",
      "Requirement already satisfied: psutil in c:\\users\\adarsh kumar\\anaconda3\\lib\\site-packages (from memory-profiler) (5.9.0)\n",
      "Note: you may need to restart the kernel to use updated packages.\n",
      "The memory_profiler extension is already loaded. To reload it, use:\n",
      "  %reload_ext memory_profiler\n",
      "\n"
     ]
    },
    {
     "name": "stdout",
     "output_type": "stream",
     "text": [
      "Filename: c:\\Users\\ADARSH KUMAR\\Desktop\\Course Assignments\\Ans\\my_script.py\n",
      "\n",
      "Line #    Mem usage    Increment  Occurrences   Line Contents\n",
      "=============================================================\n",
      "     2     75.8 MiB     75.8 MiB           1   def my_function():\n",
      "     3     75.9 MiB      0.0 MiB       10001       a = [i for i in range(10000)]       # Creates a list of 10,000 integers\n",
      "     4     76.1 MiB      0.3 MiB       10001       b = [i**2 for i in range(10000)]    # Creates a list of their squares\n",
      "     5     76.1 MiB      0.0 MiB           1       return a, b"
     ]
    }
   ],
   "source": [
    "# 16. Demonstrate how to use memory profiling to check the memory usage of a small program.\n",
    "\n",
    "# Step 1: Save the function to a separate file\n",
    "code = \"\"\"\n",
    "def my_function():\n",
    "    a = [i for i in range(10000)]       # Creates a list of 10,000 integers\n",
    "    b = [i**2 for i in range(10000)]    # Creates a list of their squares\n",
    "    return a, b\n",
    "\"\"\"\n",
    "with open(\"my_script.py\", \"w\") as f:\n",
    "    f.write(code)\n",
    "\n",
    "# Step 2: Install memory profiler  (in case not already installed)\n",
    "%pip install memory-profiler   \n",
    "\n",
    "# Step 3: Load memory profiler extension\n",
    "%load_ext memory_profiler\n",
    "\n",
    "# Step 4: Import the function from the script\n",
    "from my_script import my_function\n",
    "\n",
    "# Step 5: Run the memory profiler\n",
    "%mprun -f my_function my_function()"
   ]
  },
  {
   "cell_type": "code",
   "execution_count": 26,
   "id": "31205939",
   "metadata": {},
   "outputs": [],
   "source": [
    "# 17. Write a Python program to create and write a list of numbers to a file, one number per line.\n",
    "\n",
    "# Define a list of numbers\n",
    "numbers = [1, 2, 3, 4, 5, 6, 7, 8, 9, 10]\n",
    "\n",
    "# Open the file in write mode and write each number on a new line\n",
    "with open(\"numbers.txt\", \"w\") as file:\n",
    "    for number in numbers:\n",
    "        file.write(f\"{number}\\n\")"
   ]
  },
  {
   "cell_type": "code",
   "execution_count": 25,
   "id": "7dc85b60",
   "metadata": {},
   "outputs": [],
   "source": [
    "# 18. How would you implement a basic logging setup that logs to a file with rotation after 1MB ?\n",
    "\n",
    "\n",
    "# To implement a basic logging setup with log rotation after the file size reaches 1MB, you can use the 'RotatingFileHandler' from the 'logging handlers' module.\n",
    "\n",
    "import logging\n",
    "from logging.handlers import RotatingFileHandler\n",
    "\n",
    "# Set up a RotatingFileHandler to log messages to a file with rotation\n",
    "log_handler = RotatingFileHandler(\"app.log\", maxBytes=1e6, backupCount=3)  # 1MB = 1e6 bytes\n",
    "log_handler.setLevel(logging.DEBUG)\n",
    "\n",
    "# Define a formatter for the log messages\n",
    "formatter = logging.Formatter('%(asctime)s - %(levelname)s - %(message)s')\n",
    "log_handler.setFormatter(formatter)\n",
    "\n",
    "# Set up logging configuration\n",
    "logging.basicConfig(level=logging.DEBUG, handlers=[log_handler])\n",
    "\n",
    "# Log messages at different levels\n",
    "logging.info(\"This is an info message.\")\n",
    "logging.error(\"This is an error message.\")\n",
    "logging.debug(\"This is a debug message.\")\n"
   ]
  },
  {
   "cell_type": "code",
   "execution_count": 24,
   "id": "1c53d574",
   "metadata": {},
   "outputs": [
    {
     "name": "stdout",
     "output_type": "stream",
     "text": [
      "Error: The index is out of range in the list.\n"
     ]
    }
   ],
   "source": [
    "# 19. Write a program that handles both IndexError and KeyError using a try-except block.\n",
    "\n",
    "# Sample list and dictionary to demonstrate IndexError and KeyError\n",
    "my_list = [1, 2, 3]\n",
    "my_dict = {\"name\": \"Alice\", \"age\": 25}\n",
    "\n",
    "try:\n",
    "    # Trying to access an index that doesn't exist in the list\n",
    "    print(my_list[5])\n",
    "    \n",
    "    # Trying to access a key that doesn't exist in the dictionary\n",
    "    print(my_dict[\"address\"])\n",
    "\n",
    "except IndexError:\n",
    "    print(\"Error: The index is out of range in the list.\")\n",
    "except KeyError:\n",
    "    print(\"Error: The key does not exist in the dictionary.\")"
   ]
  },
  {
   "cell_type": "code",
   "execution_count": 23,
   "id": "7af591fa",
   "metadata": {},
   "outputs": [
    {
     "name": "stdout",
     "output_type": "stream",
     "text": [
      "Hello, this is a sample text.This is an appended line of text.\n",
      "\n"
     ]
    }
   ],
   "source": [
    "# 20. How would you open a file and read its contents using a context manager in Python ?\n",
    "\n",
    "# Use the 'with' statement to open a file and automatically handle closing the file\n",
    "with open(\"example.txt\", \"r\") as file:\n",
    "    # Read the content of the file\n",
    "    content = file.read()\n",
    "\n",
    "# Print the content\n",
    "print(content)"
   ]
  },
  {
   "cell_type": "code",
   "execution_count": 22,
   "id": "69beac77",
   "metadata": {},
   "outputs": [
    {
     "name": "stdout",
     "output_type": "stream",
     "text": [
      "The word 'text' appears 2 times in the file.\n"
     ]
    }
   ],
   "source": [
    "# 21. Write a Python program that reads a file and prints the number of occurrences of a specific word.\n",
    "\n",
    "# Define the word to search for\n",
    "word_to_search = \"text\"\n",
    "\n",
    "# Initialize a counter for word occurrences\n",
    "word_count = 0\n",
    "\n",
    "# Open the file in read mode\n",
    "with open(\"example.txt\", \"r\") as file:\n",
    "    # Read the content of the file\n",
    "    content = file.read()\n",
    "\n",
    "    # Count the occurrences of the specific word (case-sensitive)\n",
    "    word_count = content.lower().count(word_to_search.lower())\n",
    "\n",
    "# Print the result\n",
    "print(f\"The word '{word_to_search}' appears {word_count} times in the file.\")\n"
   ]
  },
  {
   "cell_type": "code",
   "execution_count": 40,
   "id": "a8d4217a",
   "metadata": {},
   "outputs": [
    {
     "name": "stdout",
     "output_type": "stream",
     "text": [
      "Hello, this is a sample text.This is an appended line of text.\n",
      "\n"
     ]
    }
   ],
   "source": [
    "# 22. How can you check if a file is empty before attempting to read its contents ?\n",
    "\n",
    "# Check if the file is empty before attempting to read its contents\n",
    "file_path = \"example.txt\"\n",
    "\n",
    "try:\n",
    "    with open(file_path, \"r\") as file:\n",
    "        # Check if the file is empty\n",
    "        content = file.read()\n",
    "        if not content:\n",
    "            print(\"The file is empty.\")\n",
    "        else:\n",
    "            print(content)\n",
    "except FileNotFoundError:\n",
    "    print(f\"The file {file_path} does not exist.\")"
   ]
  },
  {
   "cell_type": "code",
   "execution_count": 41,
   "id": "5dc90875",
   "metadata": {},
   "outputs": [],
   "source": [
    "# 23. Write a Python program that writes to a log file when an error occurs during file handling.\n",
    "\n",
    "import logging\n",
    "\n",
    "# Set up logging to log errors to a file\n",
    "logging.basicConfig(filename=\"error_log.txt\", level=logging.ERROR, format=\"%(asctime)s - %(levelname)s - %(message)s\")\n",
    "\n",
    "try:\n",
    "    # Attempting to open a non-existent file to simulate an error\n",
    "    with open(\"non_existent_file.txt\", \"r\") as file:\n",
    "        content = file.read()\n",
    "except Exception as e:\n",
    "    # Log the error message to the log file\n",
    "    logging.error(f\"Error occurred: {e}\")"
   ]
  }
 ],
 "metadata": {
  "kernelspec": {
   "display_name": "base",
   "language": "python",
   "name": "python3"
  },
  "language_info": {
   "codemirror_mode": {
    "name": "ipython",
    "version": 3
   },
   "file_extension": ".py",
   "mimetype": "text/x-python",
   "name": "python",
   "nbconvert_exporter": "python",
   "pygments_lexer": "ipython3",
   "version": "3.12.7"
  }
 },
 "nbformat": 4,
 "nbformat_minor": 5
}
