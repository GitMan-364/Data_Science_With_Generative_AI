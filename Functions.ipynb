{
 "cells": [
  {
   "cell_type": "markdown",
   "metadata": {},
   "source": [
    "# Theory Questions"
   ]
  },
  {
   "cell_type": "markdown",
   "metadata": {},
   "source": [
    "1. What is the difference between a function and a method in Python ?\n",
    "\n",
    "    - A **function** is an independent block of reusable code defined using `def`, while a **method** is a function associated with an object and is called on that object.\n",
    "\n",
    "        **Example**:\n",
    "        ```python\n",
    "        # Function (independent)\n",
    "        def greet(name):\n",
    "            return f\"Hello, {name}!\"\n",
    "\n",
    "        print(greet(\"Alice\"))  # Output: Hello, Alice!\n",
    "\n",
    "        # Method (called on an object)\n",
    "        class Person:\n",
    "            def greet(self):\n",
    "                return \"Hello!\"\n",
    "\n",
    "        p = Person()\n",
    "        print(p.greet())  # Output: Hello!\n",
    "        ```"
   ]
  },
  {
   "cell_type": "markdown",
   "metadata": {},
   "source": [
    "2. Explain the concept of function arguments and parameters in Python.\n",
    "\n",
    "    - **Parameters** are variables listed in a function definition, while **arguments** are the actual values passed to a function when calling it.  \n",
    "\n",
    "        **Example**:\n",
    "        ```python\n",
    "        def add(a, b):  # 'a' and 'b' are parameters\n",
    "            return a + b\n",
    "\n",
    "        result = add(5, 3)  # '5' and '3' are arguments\n",
    "        print(result)  # Output: 8\n",
    "        ```"
   ]
  },
  {
   "cell_type": "markdown",
   "metadata": {},
   "source": [
    "3. What are the different ways to define and call a function in Python ?\n",
    "\n",
    "    - In Python, functions can be defined and called in various ways, these are:  \n",
    "\n",
    "        1. **Regular Function**  \n",
    "            ```python\n",
    "            def greet(name):\n",
    "                return f\"Hello, {name}!\"\n",
    "            \n",
    "            print(greet(\"Alice\"))  # Output: Hello, Alice!\n",
    "            ```\n",
    "\n",
    "        2. **Function with Default Arguments**  \n",
    "            ```python\n",
    "            def greet(name=\"Guest\"):\n",
    "                return f\"Hello, {name}!\"\n",
    "            \n",
    "            print(greet())  # Output: Hello, Guest!\n",
    "            ```\n",
    "\n",
    "        3. **Lambda Function** (Anonymous function)  \n",
    "            ```python\n",
    "            add = lambda a, b: a + b\n",
    "            print(add(3, 5))  # Output: 8\n",
    "            ```\n",
    "\n",
    "        4. **Function with `*args` (Multiple Arguments)**  \n",
    "            ```python\n",
    "            def total(*numbers):\n",
    "                return sum(numbers)\n",
    "            \n",
    "            print(total(1, 2, 3, 4))  # Output: 10\n",
    "            ```\n",
    "\n",
    "        5. **Function with `**kwargs` (Keyword Arguments)**  \n",
    "            ```python\n",
    "            def details(**info):\n",
    "                return info\n",
    "            \n",
    "            print(details(name=\"Alice\", age=25))  \n",
    "            # Output: {'name': 'Alice', 'age': 25}\n",
    "            ```"
   ]
  },
  {
   "cell_type": "markdown",
   "metadata": {},
   "source": [
    "4. What is the purpose of the `return` statement in a Python function ?\n",
    "\n",
    "    - The `return` statement is used to send a value back from a function to the caller. It terminates the function execution and provides the specified result.  \n",
    "\n",
    "        **Example**:  \n",
    "        ```python\n",
    "        def square(num):\n",
    "            return num * num\n",
    "\n",
    "        result = square(4)\n",
    "        print(result)  # Output: 16\n",
    "        ```"
   ]
  },
  {
   "cell_type": "markdown",
   "metadata": {},
   "source": [
    "5. What are iterators in Python and how do they differ from iterables ?\n",
    "\n",
    "    - An **iterable** is an object that can be looped over (e.g., lists, tuples, strings), while an **iterator** is an object that produces values one at a time using `__next__()`. Iterators are created using `iter(iterable)`.  \n",
    "\n",
    "        **Example**:  \n",
    "        ```python\n",
    "        nums = [1, 2, 3]  # Iterable\n",
    "        it = iter(nums)   # Iterator\n",
    "\n",
    "        print(next(it))  # Output: 1\n",
    "        print(next(it))  # Output: 2\n",
    "        ```"
   ]
  },
  {
   "cell_type": "markdown",
   "metadata": {},
   "source": [
    "6. Explain the concept of generators in Python and how they are defined.\n",
    "\n",
    "    - A **generator** is a special type of iterator that yields values one at a time using the `yield` keyword, instead of returning all values at once. This makes them memory-efficient.  \n",
    "\n",
    "        **Example**:  \n",
    "        ```python\n",
    "        def count_up(n):\n",
    "            for i in range(1, n+1):\n",
    "                yield i  # Yields values one by one\n",
    "\n",
    "        gen = count_up(3)\n",
    "        print(next(gen))  # Output: 1\n",
    "        print(next(gen))  # Output: 2\n",
    "        ```"
   ]
  },
  {
   "cell_type": "markdown",
   "metadata": {},
   "source": [
    "7. What are the advantages of using generators over regular functions ?\n",
    "\n",
    "    - Generators are more **memory-efficient** as they produce values one at a time instead of storing them all in memory. They also allow **lazy evaluation**, meaning execution is paused and resumed when needed.  \n",
    "\n",
    "        **Example**:  \n",
    "        ```python\n",
    "        def gen_numbers():\n",
    "            for i in range(3):\n",
    "                yield i  # Generates values lazily\n",
    "\n",
    "        g = gen_numbers()\n",
    "        print(next(g))  # Output: 0\n",
    "        print(next(g))  # Output: 1\n",
    "        ```"
   ]
  },
  {
   "cell_type": "markdown",
   "metadata": {},
   "source": [
    "8. What is a lambda function in Python and when is it typically used ?\n",
    "\n",
    "    - A **lambda function** is an anonymous, single-expression function defined using the `lambda` keyword. It is typically used for short, throwaway functions where a full function definition is unnecessary.  \n",
    "\n",
    "        **Example**:  \n",
    "        ```python\n",
    "        square = lambda x: x * x\n",
    "        print(square(5))  # Output: 25\n",
    "        ```"
   ]
  },
  {
   "cell_type": "markdown",
   "metadata": {},
   "source": [
    "9. Explain the purpose and usage of the `map()` function in Python.\n",
    "\n",
    "    - The `map()` function applies a given function to all items in an iterable and returns a map object (an iterator). It is useful for transforming data efficiently.  \n",
    "\n",
    "        **Example**:  \n",
    "        ```python\n",
    "        nums = [1, 2, 3]\n",
    "        squared = map(lambda x: x**2, nums)\n",
    "        print(list(squared))  # Output: [1, 4, 9]\n",
    "        ```"
   ]
  },
  {
   "cell_type": "markdown",
   "metadata": {},
   "source": [
    "10. What is the difference between `map()`, `reduce()`, and `filter()` functions in Python ?\n",
    "\n",
    "    -   **map()**: It applies a function to all elements in an iterable and returns a new iterable.  \n",
    "        **filter()**: It filters elements based on a condition and returns only those that satisfy it.  \n",
    "        **reduce()**: It (from `functools`) applies a function cumulatively to reduce an iterable to a single value.  \n",
    "\n",
    "        **Example**:  \n",
    "        ```python\n",
    "        from functools import reduce\n",
    "\n",
    "        nums = [1, 2, 3, 4]\n",
    "\n",
    "        print(list(map(lambda x: x * 2, nums)))  # map(): [2, 4, 6, 8]\n",
    "        print(list(filter(lambda x: x % 2 == 0, nums)))  # filter(): [2, 4]\n",
    "        print(reduce(lambda x, y: x + y, nums))  # reduce(): 10\n",
    "        ```"
   ]
  },
  {
   "cell_type": "markdown",
   "metadata": {},
   "source": [
    "11. Using pen & Paper write the internal mechanism for sum operation using  reduce function on this given list:[47,11,42,13];\n",
    "\n",
    "![11 ques answer](answer.jpg)"
   ]
  },
  {
   "cell_type": "markdown",
   "metadata": {},
   "source": [
    "---"
   ]
  },
  {
   "cell_type": "markdown",
   "metadata": {},
   "source": [
    "# Practical Questions"
   ]
  },
  {
   "cell_type": "code",
   "execution_count": 11,
   "metadata": {},
   "outputs": [
    {
     "name": "stdout",
     "output_type": "stream",
     "text": [
      "olleh\n"
     ]
    }
   ],
   "source": [
    "# 1. Write a Python function that takes a list of numbers as input and returns the sum of all even numbers in the list.\n",
    "\n",
    "def reverse_string(s):\n",
    "    return s[::-1]\n",
    "\n",
    "# Example usage\n",
    "print(reverse_string(\"hello\"))  # Output: \"olleh\"\n"
   ]
  },
  {
   "cell_type": "code",
   "execution_count": 10,
   "metadata": {},
   "outputs": [
    {
     "name": "stdout",
     "output_type": "stream",
     "text": [
      "olleh\n"
     ]
    }
   ],
   "source": [
    "# 2. Create a Python function that accepts a string and returns the reverse of that string.\n",
    "\n",
    "def reverse_string(s):\n",
    "    return s[::-1]\n",
    "\n",
    "# Example usage\n",
    "print(reverse_string(\"hello\"))  # Output: \"olleh\"\n"
   ]
  },
  {
   "cell_type": "code",
   "execution_count": 9,
   "metadata": {},
   "outputs": [
    {
     "name": "stdout",
     "output_type": "stream",
     "text": [
      "[1, 4, 9, 16]\n"
     ]
    }
   ],
   "source": [
    "# 3. Implement a Python function that takes a list of integers and returns a new list containing the squares of each number.\n",
    "\n",
    "def square_numbers(numbers):\n",
    "    return [num ** 2 for num in numbers]\n",
    "\n",
    "# Example usage\n",
    "nums = [1, 2, 3, 4]\n",
    "print(square_numbers(nums))  # Output: [1, 4, 9, 16]\n"
   ]
  },
  {
   "cell_type": "code",
   "execution_count": 8,
   "metadata": {},
   "outputs": [
    {
     "name": "stdout",
     "output_type": "stream",
     "text": [
      "True\n",
      "False\n"
     ]
    }
   ],
   "source": [
    "# 4. Write a Python function that checks if a given number is prime or not from 1 to 200.\n",
    "\n",
    "def is_prime(n):\n",
    "    if n < 2:\n",
    "        return False\n",
    "    for i in range(2, int(n ** 0.5) + 1):\n",
    "        if n % i == 0:\n",
    "            return False\n",
    "    return True\n",
    "\n",
    "# Example usage\n",
    "print(is_prime(7))   # Output: True\n",
    "print(is_prime(10))  # Output: False\n"
   ]
  },
  {
   "cell_type": "code",
   "execution_count": 7,
   "metadata": {},
   "outputs": [
    {
     "name": "stdout",
     "output_type": "stream",
     "text": [
      "[0, 1, 1, 2, 3]\n"
     ]
    }
   ],
   "source": [
    "# 5. Create an iterator class in Python that generates the Fibonacci sequence up to a specified number of terms.\n",
    "\n",
    "class FibonacciIterator:\n",
    "    def __init__(self, n):\n",
    "        self.n = n\n",
    "        self.a, self.b = 0, 1\n",
    "        self.count = 0\n",
    "\n",
    "    def __iter__(self):\n",
    "        return self\n",
    "\n",
    "    def __next__(self):\n",
    "        if self.count >= self.n:\n",
    "            raise StopIteration\n",
    "        result = self.a\n",
    "        self.a, self.b = self.b, self.a + self.b\n",
    "        self.count += 1\n",
    "        return result\n",
    "\n",
    "# Example usage\n",
    "fib = FibonacciIterator(5)\n",
    "print(list(fib))  # Output: [0, 1, 1, 2, 3]\n"
   ]
  },
  {
   "cell_type": "code",
   "execution_count": 6,
   "metadata": {},
   "outputs": [
    {
     "name": "stdout",
     "output_type": "stream",
     "text": [
      "[1, 2, 4, 8, 16, 32]\n"
     ]
    }
   ],
   "source": [
    "# 6. Write a generator function in Python that yields the powers of 2 up to a given exponent.\n",
    "\n",
    "def powers_of_2(n):\n",
    "    for i in range(n + 1):\n",
    "        yield 2 ** i\n",
    "\n",
    "# Example usage\n",
    "gen = powers_of_2(5)\n",
    "print(list(gen))  # Output: [1, 2, 4, 8, 16, 32]\n"
   ]
  },
  {
   "cell_type": "code",
   "execution_count": 12,
   "metadata": {},
   "outputs": [],
   "source": [
    "# 7. Implement a generator function that reads a file line by line and yields each line as a string. \n",
    "\n",
    "def read_file_line_by_line(filename):\n",
    "    with open(filename, 'r') as file:\n",
    "        for line in file:\n",
    "            yield line.strip()\n",
    "\n",
    "# Example usage\n",
    "# for line in read_file_line_by_line(\"example.txt\"):        # as there is no example file that's why commented\n",
    "    # print(line)  # Prints each line from the file\n"
   ]
  },
  {
   "cell_type": "code",
   "execution_count": 4,
   "metadata": {},
   "outputs": [
    {
     "name": "stdout",
     "output_type": "stream",
     "text": [
      "[(4, 1), (2, 2), (1, 3)]\n"
     ]
    }
   ],
   "source": [
    "# 8. Use a lambda function in Python to sort a list of tuples based on the second element of each tuple.\n",
    "\n",
    "data = [(1, 3), (4, 1), (2, 2)]\n",
    "sorted_data = sorted(data, key=lambda x: x[1])\n",
    "\n",
    "print(sorted_data)  # Output: [(4, 1), (2, 2), (1, 3)]"
   ]
  },
  {
   "cell_type": "code",
   "execution_count": 3,
   "metadata": {},
   "outputs": [
    {
     "name": "stdout",
     "output_type": "stream",
     "text": [
      "[32.0, 68.0, 86.0, 104.0]\n"
     ]
    }
   ],
   "source": [
    "# 9. Write a Python program that uses `map()` to convert a list of temperatures from Celsius to Fahrenheit.\n",
    "\n",
    "# Celsius to Fahrenheit conversion formula: (C × 9/5) + 32\n",
    "celsius_temps = [0, 20, 30, 40]\n",
    "fahrenheit_temps = list(map(lambda c: (c * 9/5) + 32, celsius_temps))\n",
    "\n",
    "print(fahrenheit_temps)  # Output: [32.0, 68.0, 86.0, 104.0]\n"
   ]
  },
  {
   "cell_type": "code",
   "execution_count": 2,
   "metadata": {},
   "outputs": [
    {
     "name": "stdout",
     "output_type": "stream",
     "text": [
      "Hll Wrld\n"
     ]
    }
   ],
   "source": [
    "# 10. Create a Python program that uses `filter()` to remove all the vowels from a given string.\n",
    "\n",
    "def remove_vowels(s):\n",
    "    return ''.join(filter(lambda ch: ch.lower() not in \"aeiou\", s))\n",
    "\n",
    "# Example usage\n",
    "print(remove_vowels(\"Hello World\"))  # Output: \"Hll Wrld\""
   ]
  },
  {
   "cell_type": "code",
   "execution_count": 17,
   "metadata": {},
   "outputs": [],
   "source": [
    "# 11. Imagine an accounting routine used in a book shop. It works on a list with sublists, which look like this:"
   ]
  },
  {
   "cell_type": "markdown",
   "metadata": {},
   "source": [
    "![11. question image](ques.png)"
   ]
  },
  {
   "cell_type": "code",
   "execution_count": 1,
   "metadata": {},
   "outputs": [
    {
     "name": "stdout",
     "output_type": "stream",
     "text": [
      "[(34587, 163.8), (98762, 284.0), (77226, 108.85000000000001), (88112, 84.97)]\n"
     ]
    }
   ],
   "source": [
    "# Write a Python program, which returns a list with 2-tuples.Each tuple consists of the order number and the product of the \n",
    "# price per item and the quantity. The product should be increased by 10,- € if the value of the order is smaller than 100,00 €.\n",
    "# Write a Python program using lambda and map\n",
    "\n",
    "# Given book shop order data\n",
    "orders = [\n",
    "    (34587, \"Learning Python, Mark Lutz\", 4, 40.95),\n",
    "    (98762, \"Programming Python, Mark Lutz\", 5, 56.80),\n",
    "    (77226, \"Head First Python, Paul Barry\", 3, 32.95),\n",
    "    (88112, \"Einführung in Python3, Bernd Klein\", 3, 24.99)\n",
    "]\n",
    "\n",
    "# Using map() and lambda to compute total price and apply the condition\n",
    "result = list(map(lambda order: (order[0], order[2] * order[3] if order[2] * order[3] >= 100 else order[2] * order[3] + 10), orders))\n",
    "\n",
    "# Output the result\n",
    "print(result)\n"
   ]
  }
 ],
 "metadata": {
  "kernelspec": {
   "display_name": "base",
   "language": "python",
   "name": "python3"
  },
  "language_info": {
   "codemirror_mode": {
    "name": "ipython",
    "version": 3
   },
   "file_extension": ".py",
   "mimetype": "text/x-python",
   "name": "python",
   "nbconvert_exporter": "python",
   "pygments_lexer": "ipython3",
   "version": "3.12.7"
  }
 },
 "nbformat": 4,
 "nbformat_minor": 2
}
