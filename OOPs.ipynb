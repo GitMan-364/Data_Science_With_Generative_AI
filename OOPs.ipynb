{
 "cells": [
  {
   "cell_type": "markdown",
   "id": "1503c059",
   "metadata": {},
   "source": [
    "# Theory Questions"
   ]
  },
  {
   "cell_type": "markdown",
   "id": "c363fa8a",
   "metadata": {},
   "source": [
    "1. What is Object-Oriented Programming (OOP) ?\n",
    "\n",
    "    - **Object-Oriented Programming** (OOP) is a programming approach that organizes code using objects rather than actions. It models real-world entities as objects that contain both data (attributes) and behaviors (methods). OOP promotes reusable and modular code by grouping related logic into classes and objects.\n",
    "\n",
    "        **Key Concepts of OOP:**\n",
    "        - Encapsulation\n",
    "        - Inheritance\n",
    "        - Polymorphism\n",
    "        - Abstraction\n",
    "\n",
    "        This approach makes code more flexible, easier to maintain, and better structured."
   ]
  },
  {
   "cell_type": "markdown",
   "id": "6ef63e3b",
   "metadata": {},
   "source": [
    "2.  What is a class in OOP ?\n",
    "\n",
    "    - A **class** in Object-Oriented Programming is like a blueprint or template used to create objects. It defines the structure and behavior (i.e., data and functions) that the objects created from the class will have. \n",
    "    \n",
    "        A class doesn't hold data itself; it describes how data and behavior should be organized."
   ]
  },
  {
   "cell_type": "markdown",
   "id": "8909224e",
   "metadata": {},
   "source": [
    "3.  What is an object in OOP ?\n",
    "\n",
    "    - An **object** is an instance of a class. It is a real-world entity that holds actual data and has the ability to perform actions (through methods). While a class defines what an object should contain and do, the object is the actual implementation in memory.\n",
    "\n",
    "        Each object can have different values for its attributes, even if they are created from the same class."
   ]
  },
  {
   "cell_type": "markdown",
   "id": "86609b0c",
   "metadata": {},
   "source": [
    "4.  What is the difference between abstraction and encapsulation ?\n",
    "\n",
    "    - **Abstraction :-**  \n",
    "        Abstraction means **hiding complex implementation details** and showing only the essential features of an object. It focuses on **what** an object does rather than **how** it does it.\n",
    "\n",
    "        - Achieved using abstract classes or interfaces.\n",
    "        - Helps in reducing complexity.\n",
    "\n",
    "        **Encapsulation :-**  \n",
    "        Encapsulation means **bundling data and methods** that operate on that data into a single unit (class) and **restricting direct access** to some of the object’s components.\n",
    "\n",
    "        - Achieved using private/protected variables.\n",
    "        - Helps in securing and protecting data."
   ]
  },
  {
   "cell_type": "markdown",
   "id": "e4ccad6c",
   "metadata": {},
   "source": [
    "5. What are dunder methods in Python ?\n",
    "\n",
    "    - **Dunder methods** (also known as **magic methods**) are special methods in Python that have double underscores at the beginning and end of their names (hence \"dunder\", short for **\"double underscore\"**). These methods allow us to define or customize the behavior of objects for built-in operations like printing, adding, comparing, etc.\n",
    "\n",
    "        They are automatically called by Python during specific operations.\n",
    "\n",
    "         **Common dunder methods are:**\n",
    "        - __init__() -→ Object initialization\n",
    "        - __str__() -→ String representation\n",
    "        - __add__() -→ Custom behavior for \"+\" operator\n",
    "        - __len__() -→ Defines behavior for \"len()\" function\n",
    "\n",
    "        **Example:**\n",
    "        ```python\n",
    "        class Book:\n",
    "            def __init__(self, title):\n",
    "                self.title = title\n",
    "\n",
    "            def __str__(self):\n",
    "                return f\"Book Title: {self.title}\"\n",
    "\n",
    "        book1 = Book(\"Harry Potter\")\n",
    "        print(book1)  # Output: Book Title: Harry Potter\n",
    "        ```\n",
    "\n",
    "        Here, `__str__ ` is a dunder method that controls what is printed when the object is passed to \"print()\".\n",
    "\n"
   ]
  },
  {
   "cell_type": "markdown",
   "id": "6a87e92f",
   "metadata": {},
   "source": [
    "6. Explain the concept of inheritance in OOP.\n",
    "\n",
    "    - **Inheritance** is an OOP concept where one class (called the *child* or *subclass*) inherits the properties and behaviors (methods   and attributes) of another class (called the *parent* or *superclass*). This allows code reuse and establishes a natural hierarchy between classes.\n",
    "\n",
    "        It helps in:\n",
    "        - Reusing existing code.\n",
    "        - Extending or modifying the behavior of a parent class.\n",
    "\n",
    "        There are types of inheritance in Python like single, multiple, multilevel, etc.\n",
    "\n",
    "        **Example:**\n",
    "        ```python\n",
    "        # Parent class\n",
    "        class Animal:\n",
    "            def speak(self):\n",
    "                print(\"The animal makes a sound\")\n",
    "\n",
    "        # Child class inheriting from Animal\n",
    "        class Dog(Animal):\n",
    "            def speak(self):\n",
    "                print(\"The dog barks\")\n",
    "\n",
    "        # Creating objects\n",
    "        a = Animal()\n",
    "        d = Dog()\n",
    "\n",
    "        a.speak()  # Output: The animal makes a sound\n",
    "        d.speak()  # Output: The dog barks\n",
    "        ```\n",
    "\n",
    "        Here, `Dog` inherits from `Animal` and overrides the `speak()` method. This is an example of **method overriding in inheritance**."
   ]
  },
  {
   "cell_type": "markdown",
   "id": "319ff8af",
   "metadata": {},
   "source": [
    "7. What is polymorphism in OOP ?\n",
    "\n",
    "    - **Polymorphism** means “many forms”. In OOP, it allows objects of different classes to be treated as objects of a common superclass. It enables a single function or method to behave differently based on the object that calls it.\n",
    "\n",
    "        It makes code more flexible and extensible, as the same interface can work with different underlying data types or classes.\n",
    "\n",
    "        Types:\n",
    "        - **Compile-time (method overloading)** – Not directly supported in Python.\n",
    "        - **Run-time (method overriding)** – Common in Python through inheritance.\n",
    "\n",
    "        **Example:**\n",
    "        ```python\n",
    "        class Bird:\n",
    "            def fly(self):\n",
    "                print(\"Bird is flying\")\n",
    "\n",
    "        class Airplane:\n",
    "            def fly(self):\n",
    "                print(\"Airplane is flying\")\n",
    "\n",
    "        def start_flying(flying_object):\n",
    "            flying_object.fly()\n",
    "\n",
    "        # Different objects with a common method name\n",
    "        b = Bird()\n",
    "        a = Airplane()\n",
    "\n",
    "        start_flying(b)  # Output: Bird is flying\n",
    "        start_flying(a)  # Output: Airplane is flying\n",
    "        ```\n",
    "\n",
    "        Here, the `start_flying()` function works with different object types, demonstrating **polymorphism**."
   ]
  },
  {
   "cell_type": "markdown",
   "id": "8b0f8b0c",
   "metadata": {},
   "source": [
    "8.  How is encapsulation achieved in Python ?\n",
    "\n",
    "    - **Encapsulation** is the concept of **hiding the internal state** of an object and **restricting direct access** to some of its attributes. \n",
    "\n",
    "        In Python, this is done by:\n",
    "        - Using underscores to mark variables as *protected* (`_var`) or *private* (`__var`).\n",
    "        - Providing **getter and setter methods** to access or update the values safely.\n",
    "\n",
    "        Encapsulation ensures **data security** and **prevents accidental modification** of internal data.\n",
    "\n",
    "        **Example:**\n",
    "        ```python\n",
    "        class BankAccount:\n",
    "            def __init__(self, balance):\n",
    "                self.__balance = balance  # private attribute\n",
    "\n",
    "            def get_balance(self):\n",
    "                return self.__balance\n",
    "\n",
    "            def deposit(self, amount):\n",
    "                if amount > 0:\n",
    "                    self.__balance += amount\n",
    "\n",
    "        account = BankAccount(1000)\n",
    "        account.deposit(500)\n",
    "        print(account.get_balance())  # Output: 1500\n",
    "        ```\n",
    "\n",
    "        Here, the balance is a **private variable**. It's accessed and modified only through **methods**, not directly, which demonstrates encapsulation."
   ]
  },
  {
   "cell_type": "markdown",
   "id": "f74afa82",
   "metadata": {},
   "source": [
    "9. What is a constructor in Python ?\n",
    "\n",
    "    - A **constructor** in Python is a special method that is automatically called when an object of a class is created. \n",
    "\n",
    "        The purpose of a constructor is to initialize the object's attributes and perform any setup that the object needs before it can be used. In Python, the constructor is defined using the `__init__()` method. It is not explicitly called, but is invoked automatically when an object is instantiated.\n",
    "\n",
    "        The constructor allows you to pass arguments to the class at the time of object creation, and you can use those arguments to initialize the object's properties."
   ]
  },
  {
   "cell_type": "markdown",
   "id": "41d77dfc",
   "metadata": {},
   "source": [
    "10. What are class and static methods in Python ?\n",
    "\n",
    "    - In Python, both **class methods** and **static methods** are methods that belong to a class rather than an instance of that class. However, they have different use cases and how they are defined.\n",
    "\n",
    "        **Class Method:**\n",
    "        A **class method** is a method that takes the class itself as its first argument (typically named `cls`). It is defined using the `@classmethod` decorator. Class methods can access and modify class-level attributes, but they cannot modify instance-level attributes directly.\n",
    "\n",
    "        Class methods are often used for factory methods, which can instantiate objects in different ways based on some class-level logic.\n",
    "\n",
    "        **Static Method:**\n",
    "        A **static method** does not take the class or instance as its first argument. It is defined using the `@staticmethod` decorator. Static methods don't modify class or instance-level attributes, and they don't depend on the state of the object. They are used when you want to perform an operation that is related to the class but doesn't need access to class or instance variables."
   ]
  },
  {
   "cell_type": "markdown",
   "id": "0155cb1c",
   "metadata": {},
   "source": [
    "11. What is method overloading in Python ?\n",
    "\n",
    "    - **Method overloading** is a concept in Object-Oriented Programming (OOP) where multiple methods can have the same name but differ in the number or type of arguments they take.  Python does not support traditional method overloading directly, as it allows only one method definition with a particular name in a class. \n",
    "\n",
    "        It means, Python allows a form of method overloading by using default arguments or variable-length arguments (e.g., `*args` and `**kwargs`). This way, you can create methods that can behave differently depending on how they are called, even though they technically share the same name.\n",
    "\n",
    "        **Example:**\n",
    "        ```python\n",
    "        class Calculator:\n",
    "            def add(self, a, b=0, c=0):\n",
    "                return a + b + c\n",
    "\n",
    "        # Create an instance of Calculator\n",
    "        calc = Calculator()\n",
    "\n",
    "        # Calling with two arguments\n",
    "        print(calc.add(5, 10))  # Output: 15\n",
    "\n",
    "        # Calling with one argument\n",
    "        print(calc.add(5))  # Output: 5\n",
    "\n",
    "        # Calling with three arguments\n",
    "        print(calc.add(5, 10, 15))  # Output: 30\n",
    "        ```\n",
    "\n",
    "        In this example, the `add()` method is designed to accept two or three arguments. If fewer than three arguments are provided, the method uses default values for `b` and `c`. This is a form of method overloading in Python, though it is not strictly the same as in languages that support true overloading."
   ]
  },
  {
   "cell_type": "markdown",
   "id": "09dfc77c",
   "metadata": {},
   "source": [
    "12. What is method overriding in OOP ?\n",
    "\n",
    "    - **Method overriding** is a feature in Object-Oriented Programming (OOP) where a subclass provides its own implementation of a method that is already defined in its parent class. The method in the subclass should have the same name, signature, and parameters as the method in the parent class. Method overriding allows the subclass to customize or extend the functionality of the inherited method, thus offering a more specialized behavior.\n",
    "\n",
    "        When a method in the subclass is called, it overrides the method in the parent class, and the version in the subclass is executed, even if the method is called on an object of the parent class type (but instantiated as a subclass object).\n",
    "\n",
    "        **Example:-**\n",
    "        ```python\n",
    "        class Animal:\n",
    "            def speak(self):\n",
    "                print(\"Animal speaks\")\n",
    "\n",
    "        class Dog(Animal):\n",
    "            def speak(self):  # Overriding the speak method\n",
    "                print(\"Dog barks\")\n",
    "\n",
    "        class Cat(Animal):\n",
    "            def speak(self):  # Overriding the speak method\n",
    "                print(\"Cat meows\")\n",
    "\n",
    "        # Create instances of Dog and Cat\n",
    "        dog = Dog()\n",
    "        cat = Cat()\n",
    "\n",
    "        # Calling the overridden methods\n",
    "        dog.speak()  # Output: Dog barks\n",
    "        cat.speak()  # Output: Cat meows\n",
    "        ```\n",
    "\n",
    "        In this example:\n",
    "        - The `Animal` class has a `speak` method.\n",
    "        - Both the `Dog` and `Cat` classes override the `speak` method to provide their own implementation.\n",
    "        - When `dog.speak()` or `cat.speak()` is called, the overridden version in the respective subclass is executed, not the one in the `Animal` class.\n",
    "\n",
    "        Method overriding enables polymorphism, where the behavior of the method depends on the object that invokes it."
   ]
  },
  {
   "cell_type": "markdown",
   "id": "e747ef40",
   "metadata": {},
   "source": [
    "13. What is a property decorator in Python ?\n",
    "\n",
    "    - In Python, the **property decorator** (`@property`) is used to define a method as a property, which allows you to define getter, setter, and deleter methods for an attribute in a class. This provides a way to access or modify attributes like regular attributes, but with additional control over how they are accessed or updated.\n",
    "\n",
    "        - **Getter**: Retrieves the value of an attribute.\n",
    "\n",
    "        - **Setter**: Sets a new value for an attribute.\n",
    "\n",
    "        - **Deleter**: Deletes an attribute.\n",
    "\n",
    "        The `@property` decorator allows a method to be accessed like an attribute without explicitly calling it like a method. This is useful when you want to add extra logic when getting or setting an attribute, such as validation or lazy loading."
   ]
  },
  {
   "cell_type": "markdown",
   "id": "4770f9a0",
   "metadata": {},
   "source": [
    "14. Why is polymorphism important in OOP ?  \n",
    "\n",
    "    - **Polymorphism** is one of the fundamental concepts of Object-Oriented Programming (OOP), which allows objects of different classes to be treated as objects of a common superclass. The primary benefit of polymorphism is that it allows you to use the same method name for different objects, while the actual implementation of the method can vary depending on the object calling it.\n",
    "\n",
    "        In simpler terms, polymorphism allows you to write more flexible and reusable code, where the method can behave differently based on the object that invokes it.\n",
    "\n",
    "        **Importance:-**\n",
    "        - Polymorphism allows you to use the same method or operator for different data types or objects, reducing redundancy and promoting code reusability.\n",
    "        - By allowing objects to interact with common interfaces, polymorphism makes it easier to modify or extend your code without changing the core logic.\n",
    "        - You can write functions or methods that work with objects of different types, making your code flexible and adaptable to changes.\n",
    "        - Instead of having multiple methods with different names for different object types, polymorphism allows you to use a single method name that behaves appropriately depending on the object."
   ]
  },
  {
   "cell_type": "markdown",
   "id": "b5b941d3",
   "metadata": {},
   "source": [
    "15. What is an abstract class in Python ?\n",
    "\n",
    "    - An **abstract class** is a class that **cannot be instantiated** and is meant to be a **base for other classes**. It can have **abstract methods** that must be implemented in subclasses.\n",
    "\n",
    "        **Example:-**\n",
    "        ```python\n",
    "        from abc import ABC, abstractmethod\n",
    "\n",
    "        class Animal(ABC):\n",
    "            @abstractmethod\n",
    "            def sound(self):\n",
    "                pass\n",
    "\n",
    "        class Dog(Animal):\n",
    "            def sound(self):\n",
    "                return \"Bark\"\n",
    "        ```"
   ]
  },
  {
   "cell_type": "markdown",
   "id": "9147b757",
   "metadata": {},
   "source": [
    "16. What are the advantages of OOP ?\n",
    "\n",
    "    - **Advantages of OOP are:-**\n",
    "        - **Modularity** – Code is organized into classes.\n",
    "        - **Reusability** – Code reuse via inheritance.\n",
    "        - **Encapsulation** – Data is protected inside objects.\n",
    "        - **Polymorphism** – Common interface, multiple behaviors.\n",
    "        - **Maintainability** – Easier to debug and extend."
   ]
  },
  {
   "cell_type": "markdown",
   "id": "17e7ce0b",
   "metadata": {},
   "source": [
    "17. What is the difference between a class variable and an instance variable ?\n",
    "\n",
    "    - **Class Variable**:- Shared across all instances of the class. Defined **inside the class but outside any method**.\n",
    "\n",
    "        **Instance Variable**:- Unique to each instance. Defined **inside the constructor or methods using** `self`.\n",
    "\n",
    "        **Example:-**\n",
    "        ```python\n",
    "        class Example:\n",
    "            class_var = \"shared\"     # Class variable\n",
    "\n",
    "            def __init__(self, value):\n",
    "                self.instance_var = value  # Instance variable\n",
    "\n",
    "        obj1 = Example(\"A\")\n",
    "        obj2 = Example(\"B\")\n",
    "\n",
    "        print(obj1.class_var, obj1.instance_var)  # shared A\n",
    "        print(obj2.class_var, obj2.instance_var)  # shared B\n",
    "        ```"
   ]
  },
  {
   "cell_type": "markdown",
   "id": "bccb8eff",
   "metadata": {},
   "source": [
    "18. What is multiple inheritance in Python ?\n",
    "\n",
    "    - **Multiple Inheritance** in Python is a feature where a class can inherit attributes and methods from **more than one parent class**.\n",
    "\n",
    "        This allows a child class to have the combined functionality of multiple base classes, which can be useful in scenarios where behaviors from different classes need to be reused.\n",
    "\n",
    "        **Example:-**\n",
    "\n",
    "        ```python\n",
    "        class Father:\n",
    "            def skills(self):\n",
    "                print(\"Gardening, Driving\")\n",
    "\n",
    "        class Mother:\n",
    "            def skills(self):\n",
    "                print(\"Cooking, Painting\")\n",
    "\n",
    "        class Child(Father, Mother):\n",
    "            def skills(self):\n",
    "                Father.skills(self)   # Explicitly calling parent methods\n",
    "                Mother.skills(self)\n",
    "                print(\"Programming\")\n",
    "\n",
    "        # Create object\n",
    "        child = Child()\n",
    "        child.skills()\n",
    "        ```\n",
    "\n",
    "        **Output:-**\n",
    "\n",
    "        Gardening, Driving  \n",
    "        Cooking, Painting  \n",
    "        Programming\n"
   ]
  },
  {
   "cell_type": "markdown",
   "id": "ceaf81df",
   "metadata": {},
   "source": [
    "19. Explain the purpose of `__str__` and `__repr__` methods in Python.\n",
    "\n",
    "    - `__str__`:- This method is used to define a **user-friendly string representation** of an object. It is used by the print() function and str(). The goal is to provide an easy-to-read string for the object.\n",
    "\n",
    "        `__repr__`:- This method is meant for an **official string representation** of the object, ideally one that could recreate the object if passed to eval(). It is used by the repr() function and in interactive sessions."
   ]
  },
  {
   "cell_type": "markdown",
   "id": "3f344961",
   "metadata": {},
   "source": [
    "20. What is the significance of the ‘super()’ function in Python ?\n",
    "\n",
    "    - `super()` is used to call a method from the parent class. It is often used in method overriding to call the parent class method from a child class, allowing you to extend or modify the inherited functionality.\n",
    "\n",
    "        **Example:-**\n",
    "        ```python\n",
    "        class Animal:\n",
    "        def speak(self):\n",
    "            print(\"Animal speaks\")\n",
    "\n",
    "        class Dog(Animal):\n",
    "            def speak(self):\n",
    "                super().speak()  # Call parent method\n",
    "                print(\"Dog barks\")\n",
    "\n",
    "        dog = Dog()\n",
    "        dog.speak()  # Output: Animal speaks \\n Dog barks\n",
    "        ```"
   ]
  },
  {
   "cell_type": "markdown",
   "id": "60e3ace5",
   "metadata": {},
   "source": [
    "21. What is the significance of the `__del__` method in Python ?\n",
    "\n",
    "    - `__del__` is the destructor method in Python. It is called when an object is garbage collected (when it is no longer in use). It's useful for cleanup operations like closing files or network connections."
   ]
  },
  {
   "cell_type": "markdown",
   "id": "802bc388",
   "metadata": {},
   "source": [
    "22. What is the difference between @staticmethod and @classmethod in Python ?\n",
    "\n",
    "    - **@staticmethod** :- A method that doesn't take self or cls as its first argument. It operates like a regular function but belongs to the class's namespace.\n",
    "\n",
    "        **@classmethod** :- A method that takes the class (cls) as its first argument, allowing access to class variables and other class methods. It is often used for factory methods.\n",
    "\n"
   ]
  },
  {
   "cell_type": "markdown",
   "id": "5de98332",
   "metadata": {},
   "source": [
    "23. How does polymorphism work in Python with inheritance ?\n",
    "\n",
    "    - Polymorphism allows methods to have the same name but behave differently based on the object that calls them. In Python, this is typically achieved through method overriding in subclasses. The subclass method is called instead of the superclass method, allowing different behaviors.\n",
    "\n",
    "        **Example:-**\n",
    "        ```python\n",
    "        class Animal:\n",
    "            def speak(self):\n",
    "                print(\"Animal speaks\")\n",
    "\n",
    "        class Dog(Animal):\n",
    "            def speak(self):\n",
    "                print(\"Dog barks\")\n",
    "\n",
    "        dog = Dog()\n",
    "        dog.speak()  # Output: Dog barks (Polymorphism in action)\n",
    "\n",
    "        ```"
   ]
  },
  {
   "cell_type": "markdown",
   "id": "da0bc2e8",
   "metadata": {},
   "source": [
    "24. What is method chaining in Python OOP ?\n",
    "\n",
    "    - Method chaining allows you to call multiple methods on the same object in a single statement. This is possible when each method returns the object itself (self), enabling subsequent method calls.\n",
    "\n",
    "        **Example:-**\n",
    "        ```python\n",
    "        class MyClass:\n",
    "            def set_value(self, value):\n",
    "                self.value = value\n",
    "                return self\n",
    "            \n",
    "            def show_value(self):\n",
    "                print(self.value)\n",
    "                return self\n",
    "\n",
    "        obj = MyClass()\n",
    "        obj.set_value(10).show_value()  # Output: 10\n",
    "        ```"
   ]
  },
  {
   "cell_type": "markdown",
   "id": "cd850d18",
   "metadata": {},
   "source": [
    "25. What is the purpose of the ` __call__ ` method in Python ?\n",
    "\n",
    "    - The `__call__` method allows an instance of a class to be called like a function. This is useful when you want to make an object behave like a function or perform an action when the object is called.\n",
    "\n",
    "        **Example:-**\n",
    "        ```python\n",
    "        class MyClass:\n",
    "            def __call__(self):\n",
    "                print(\"Object called like a function\")\n",
    "\n",
    "        obj = MyClass()\n",
    "        obj()  # Output: Object called like a function\n",
    "        ```"
   ]
  },
  {
   "cell_type": "markdown",
   "id": "ce906989",
   "metadata": {},
   "source": [
    "---"
   ]
  },
  {
   "cell_type": "markdown",
   "id": "93f552b8",
   "metadata": {},
   "source": [
    "# Practical Questions"
   ]
  },
  {
   "cell_type": "code",
   "execution_count": 28,
   "id": "1ec3c831",
   "metadata": {},
   "outputs": [
    {
     "name": "stdout",
     "output_type": "stream",
     "text": [
      "Animal makes a sound\n",
      "Bark!\n"
     ]
    }
   ],
   "source": [
    "# 1. Create a parent class Animal with a method speak() that prints a generic message. Create a child class Dog that overrides the speak() method to print \"Bark!\".\n",
    "\n",
    "class Animal:\n",
    "    def speak(self):\n",
    "        print(\"Animal makes a sound\")\n",
    "\n",
    "class Dog(Animal):\n",
    "    def speak(self):\n",
    "        print(\"Bark!\")\n",
    "\n",
    "# Create instances\n",
    "animal = Animal()\n",
    "dog = Dog()\n",
    "\n",
    "animal.speak()  # Output: Animal makes a sound\n",
    "dog.speak()     # Output: Bark!\n"
   ]
  },
  {
   "cell_type": "code",
   "execution_count": 26,
   "id": "ffc287f7",
   "metadata": {},
   "outputs": [
    {
     "name": "stdout",
     "output_type": "stream",
     "text": [
      "Circle area: 78.53981633974483\n",
      "Rectangle area: 24\n"
     ]
    }
   ],
   "source": [
    "# 2. Write a program to create an abstract class Shape with a method area(). Derive classes Circle and Rectangle from it and implement the area() method in both.\n",
    "\n",
    "from abc import ABC, abstractmethod\n",
    "import math\n",
    "\n",
    "class Shape(ABC):\n",
    "    @abstractmethod\n",
    "    def area(self):\n",
    "        pass\n",
    "\n",
    "class Circle(Shape):\n",
    "    def __init__(self, radius):\n",
    "        self.radius = radius\n",
    "    \n",
    "    def area(self):\n",
    "        return math.pi * (self.radius ** 2)\n",
    "\n",
    "class Rectangle(Shape):\n",
    "    def __init__(self, width, height):\n",
    "        self.width = width\n",
    "        self.height = height\n",
    "    \n",
    "    def area(self):\n",
    "        return self.width * self.height\n",
    "\n",
    "# Create instances\n",
    "circle = Circle(5)\n",
    "rectangle = Rectangle(4, 6)\n",
    "\n",
    "print(f\"Circle area: {circle.area()}\")\n",
    "print(f\"Rectangle area: {rectangle.area()}\")\n"
   ]
  },
  {
   "cell_type": "code",
   "execution_count": 25,
   "id": "02428281",
   "metadata": {},
   "outputs": [
    {
     "name": "stdout",
     "output_type": "stream",
     "text": [
      "Tesla Model S is a Electric car with a battery of 100 kWh\n"
     ]
    }
   ],
   "source": [
    "# 3. Implement a multi-level inheritance scenario where a class Vehicle has an attribute type. Derive a class Car and further derive a class ElectricCar that adds a battery attribute.\n",
    "\n",
    "class Vehicle:\n",
    "    def __init__(self, type):\n",
    "        self.type = type\n",
    "\n",
    "class Car(Vehicle):\n",
    "    def __init__(self, type, model):\n",
    "        super().__init__(type)\n",
    "        self.model = model\n",
    "\n",
    "class ElectricCar(Car):\n",
    "    def __init__(self, type, model, battery):\n",
    "        super().__init__(type, model)\n",
    "        self.battery = battery\n",
    "\n",
    "# Create instance\n",
    "electric_car = ElectricCar(\"Electric\", \"Tesla Model S\", \"100 kWh\")\n",
    "print(f\"{electric_car.model} is a {electric_car.type} car with a battery of {electric_car.battery}\")\n"
   ]
  },
  {
   "cell_type": "code",
   "execution_count": 24,
   "id": "489b404a",
   "metadata": {},
   "outputs": [
    {
     "name": "stdout",
     "output_type": "stream",
     "text": [
      "Sparrow is flying\n",
      "Penguin can't fly\n"
     ]
    }
   ],
   "source": [
    "# 4. Demonstrate polymorphism by creating a base class Bird with a method fly(). Create two derived classes Sparrow and Penguin that override the fly() method.\n",
    "\n",
    "class Bird:\n",
    "    def fly(self):\n",
    "        print(\"Bird is flying\")\n",
    "\n",
    "class Sparrow(Bird):\n",
    "    def fly(self):\n",
    "        print(\"Sparrow is flying\")\n",
    "\n",
    "class Penguin(Bird):\n",
    "    def fly(self):\n",
    "        print(\"Penguin can't fly\")\n",
    "\n",
    "# Create instances\n",
    "sparrow = Sparrow()\n",
    "penguin = Penguin()\n",
    "\n",
    "sparrow.fly()   # Output: Sparrow is flying\n",
    "penguin.fly()   # Output: Penguin can't fly\n"
   ]
  },
  {
   "cell_type": "code",
   "execution_count": 23,
   "id": "0592c729",
   "metadata": {},
   "outputs": [
    {
     "name": "stdout",
     "output_type": "stream",
     "text": [
      "Balance: 1200\n"
     ]
    }
   ],
   "source": [
    "# 5. Write a program to demonstrate encapsulation by creating a class BankAccount with private attributes balance and methods to deposit, withdraw, and check balance.\n",
    "\n",
    "class BankAccount:\n",
    "    def __init__(self, balance=0):\n",
    "        self.__balance = balance  # Private attribute\n",
    "    \n",
    "    def deposit(self, amount):\n",
    "        self.__balance += amount\n",
    "    \n",
    "    def withdraw(self, amount):\n",
    "        if self.__balance >= amount:\n",
    "            self.__balance -= amount\n",
    "        else:\n",
    "            print(\"Insufficient funds\")\n",
    "    \n",
    "    def check_balance(self):\n",
    "        return self.__balance\n",
    "\n",
    "# Create instance\n",
    "account = BankAccount(1000)\n",
    "account.deposit(500)\n",
    "account.withdraw(300)\n",
    "print(f\"Balance: {account.check_balance()}\")\n"
   ]
  },
  {
   "cell_type": "code",
   "execution_count": 22,
   "id": "2041b8d3",
   "metadata": {},
   "outputs": [
    {
     "name": "stdout",
     "output_type": "stream",
     "text": [
      "Playing guitar\n",
      "Playing piano\n"
     ]
    }
   ],
   "source": [
    "# 6. Demonstrate runtime polymorphism using a method play() in a base class Instrument. Derive classes Guitar and Piano that implement their own version of play().\n",
    "\n",
    "class Instrument:\n",
    "    def play(self):\n",
    "        print(\"Playing instrument\")\n",
    "\n",
    "class Guitar(Instrument):\n",
    "    def play(self):\n",
    "        print(\"Playing guitar\")\n",
    "\n",
    "class Piano(Instrument):\n",
    "    def play(self):\n",
    "        print(\"Playing piano\")\n",
    "\n",
    "# Create instances\n",
    "guitar = Guitar()\n",
    "piano = Piano()\n",
    "\n",
    "guitar.play()  # Output: Playing guitar\n",
    "piano.play()   # Output: Playing piano\n"
   ]
  },
  {
   "cell_type": "code",
   "execution_count": 21,
   "id": "63047b6b",
   "metadata": {},
   "outputs": [
    {
     "name": "stdout",
     "output_type": "stream",
     "text": [
      "8\n",
      "2\n"
     ]
    }
   ],
   "source": [
    "# 7. Create a class MathOperations with a class method add_numbers() to add two numbers and a static method subtract_numbers() to subtract two numbers.\n",
    "\n",
    "class MathOperations:\n",
    "    @classmethod\n",
    "    def add_numbers(cls, a, b):\n",
    "        return a + b\n",
    "    \n",
    "    @staticmethod\n",
    "    def subtract_numbers(a, b):\n",
    "        return a - b\n",
    "\n",
    "# Using the methods\n",
    "print(MathOperations.add_numbers(5, 3))    # Output: 8\n",
    "print(MathOperations.subtract_numbers(5, 3))  # Output: 2\n"
   ]
  },
  {
   "cell_type": "code",
   "execution_count": 20,
   "id": "9a5d847e",
   "metadata": {},
   "outputs": [
    {
     "name": "stdout",
     "output_type": "stream",
     "text": [
      "Total persons: 2\n"
     ]
    }
   ],
   "source": [
    "# 8. Implement a class Person with a class method to count the total number of persons created.\n",
    "\n",
    "class Person:\n",
    "    count = 0\n",
    "    \n",
    "    def __init__(self):\n",
    "        Person.count += 1\n",
    "    \n",
    "    @classmethod\n",
    "    def total_persons(cls):\n",
    "        return cls.count\n",
    "\n",
    "# Create instances\n",
    "person1 = Person()\n",
    "person2 = Person()\n",
    "\n",
    "print(f\"Total persons: {Person.total_persons()}\")\n"
   ]
  },
  {
   "cell_type": "code",
   "execution_count": 19,
   "id": "65c11ae2",
   "metadata": {},
   "outputs": [
    {
     "name": "stdout",
     "output_type": "stream",
     "text": [
      "Fraction: 3/4\n"
     ]
    }
   ],
   "source": [
    "# 9. Write a class Fraction with attributes numerator and denominator. Override the str method to display the fraction as \"numerator/denominator\".\n",
    "\n",
    "class Fraction:\n",
    "    def __init__(self, numerator, denominator):\n",
    "        self.numerator = numerator\n",
    "        self.denominator = denominator\n",
    "    \n",
    "    def __str__(self):\n",
    "        return f\"{self.numerator}/{self.denominator}\"\n",
    "\n",
    "# Create instance\n",
    "fraction = Fraction(3, 4)\n",
    "print(f\"Fraction: {fraction}\")\n"
   ]
  },
  {
   "cell_type": "code",
   "execution_count": 18,
   "id": "91205610",
   "metadata": {},
   "outputs": [
    {
     "name": "stdout",
     "output_type": "stream",
     "text": [
      "Vector(6, 8)\n"
     ]
    }
   ],
   "source": [
    "# 10. Demonstrate operator overloading by creating a class Vector and overriding the add method to add two vectors.\n",
    "\n",
    "class Vector:\n",
    "    def __init__(self, x, y):\n",
    "        self.x = x\n",
    "        self.y = y\n",
    "    \n",
    "    def __add__(self, other):\n",
    "        return Vector(self.x + other.x, self.y + other.y)\n",
    "    \n",
    "    def __str__(self):\n",
    "        return f\"Vector({self.x}, {self.y})\"\n",
    "\n",
    "# Create instances\n",
    "v1 = Vector(2, 3)\n",
    "v2 = Vector(4, 5)\n",
    "\n",
    "v3 = v1 + v2  # Using overloaded add method\n",
    "print(v3)  # Output: Vector(6, 8)\n"
   ]
  },
  {
   "cell_type": "code",
   "execution_count": 9,
   "id": "538ab8b0",
   "metadata": {},
   "outputs": [
    {
     "name": "stdout",
     "output_type": "stream",
     "text": [
      "Hello, my name is Alice and I am 30 years old.\n"
     ]
    }
   ],
   "source": [
    "# 11. Create a class Person with attributes name and age. Add a method greet() that prints \"Hello, my name is {name} and I am {age} years old\".\n",
    "\n",
    "class Person:\n",
    "    def __init__(self, name, age):\n",
    "        self.name = name\n",
    "        self.age = age\n",
    "    \n",
    "    def greet(self):\n",
    "        print(f\"Hello, my name is {self.name} and I am {self.age} years old.\")\n",
    "\n",
    "# Create instance\n",
    "person = Person(\"Alice\", 30)\n",
    "person.greet()  # Output: Hello, my name is Alice and I am 30 years old.\n"
   ]
  },
  {
   "cell_type": "code",
   "execution_count": null,
   "id": "5155e5fa",
   "metadata": {},
   "outputs": [
    {
     "name": "stdout",
     "output_type": "stream",
     "text": [
      "Average grade: 86.25\n"
     ]
    }
   ],
   "source": [
    "# 12. Implement a class Student with attributes name and grades. Create a method average_grade() to compute the average of the grades.\n",
    "\n",
    "class Student:\n",
    "    def __init__(self, name, grades):\n",
    "        self.name = name\n",
    "        self.grades = grades\n",
    "    \n",
    "    def average_grade(self):\n",
    "        return sum(self.grades) / len(self.grades)\n",
    "\n",
    "# Create instance\n",
    "student = Student(\"Bob\", [85, 90, 78, 92])\n",
    "print(f\"Average grade: {student.average_grade()}\")  # Output: Average grade: 86.25\n"
   ]
  },
  {
   "cell_type": "code",
   "execution_count": null,
   "id": "53232e1a",
   "metadata": {},
   "outputs": [
    {
     "name": "stdout",
     "output_type": "stream",
     "text": [
      "Area of rectangle: 50\n"
     ]
    }
   ],
   "source": [
    "# 13. Create a class Rectangle with methods set_dimensions() to set the dimensions and area() to calculate the area. \n",
    "\n",
    "class Rectangle:\n",
    "    def __init__(self):\n",
    "        self.width = 0\n",
    "        self.height = 0\n",
    "    \n",
    "    def set_dimensions(self, width, height):\n",
    "        self.width = width\n",
    "        self.height = height\n",
    "    \n",
    "    def area(self):\n",
    "        return self.width * self.height\n",
    "\n",
    "# Create instance\n",
    "rectangle = Rectangle()\n",
    "rectangle.set_dimensions(5, 10)\n",
    "print(f\"Area of rectangle: {rectangle.area()}\")  # Output: Area of rectangle: 50\n"
   ]
  },
  {
   "cell_type": "code",
   "execution_count": 13,
   "id": "253ca553",
   "metadata": {},
   "outputs": [
    {
     "name": "stdout",
     "output_type": "stream",
     "text": [
      "Employee salary: 800\n",
      "Manager salary: 2000\n"
     ]
    }
   ],
   "source": [
    "# 14. Create a class Employee with a method calculate_salary() that computes the salary based on hours worked and hourly rate. Create a derived class Manager that adds a bonus to the salary.\n",
    "\n",
    "class Employee:\n",
    "    def __init__(self, hours_worked, hourly_rate):\n",
    "        self.hours_worked = hours_worked\n",
    "        self.hourly_rate = hourly_rate\n",
    "    \n",
    "    def calculate_salary(self):\n",
    "        return self.hours_worked * self.hourly_rate\n",
    "\n",
    "class Manager(Employee):\n",
    "    def __init__(self, hours_worked, hourly_rate, bonus):\n",
    "        super().__init__(hours_worked, hourly_rate)\n",
    "        self.bonus = bonus\n",
    "    \n",
    "    def calculate_salary(self):\n",
    "        return super().calculate_salary() + self.bonus\n",
    "\n",
    "# Create instances\n",
    "employee = Employee(40, 20)\n",
    "manager = Manager(40, 25, 1000)\n",
    "\n",
    "print(f\"Employee salary: {employee.calculate_salary()}\")  # Output: Employee salary: 800\n",
    "print(f\"Manager salary: {manager.calculate_salary()}\")    # Output: Manager salary: 1100\n"
   ]
  },
  {
   "cell_type": "code",
   "execution_count": 14,
   "id": "f88ac7b5",
   "metadata": {},
   "outputs": [
    {
     "name": "stdout",
     "output_type": "stream",
     "text": [
      "Total price: 5000\n"
     ]
    }
   ],
   "source": [
    "# 15. Create a class Product with attributes name, price, and quantity. Implement a method total_price() that calculates the total price of the product.\n",
    "\n",
    "class Product:\n",
    "    def __init__(self, name, price, quantity):\n",
    "        self.name = name\n",
    "        self.price = price\n",
    "        self.quantity = quantity\n",
    "    \n",
    "    def total_price(self):\n",
    "        return self.price * self.quantity\n",
    "\n",
    "# Create instance\n",
    "product = Product(\"Laptop\", 1000, 5)\n",
    "print(f\"Total price: {product.total_price()}\")  # Output: Total price: 5000\n"
   ]
  },
  {
   "cell_type": "code",
   "execution_count": 15,
   "id": "42c9f3d7",
   "metadata": {},
   "outputs": [
    {
     "name": "stdout",
     "output_type": "stream",
     "text": [
      "Cow says: Moo\n",
      "Sheep says: Baa\n"
     ]
    }
   ],
   "source": [
    "# 16. Create a class Animal with an abstract method sound(). Create two derived classes Cow and Sheep that implement the sound() method.\n",
    "\n",
    "from abc import ABC, abstractmethod\n",
    "\n",
    "class Animal(ABC):\n",
    "    @abstractmethod\n",
    "    def sound(self):\n",
    "        pass\n",
    "\n",
    "class Cow(Animal):\n",
    "    def sound(self):\n",
    "        return \"Moo\"\n",
    "\n",
    "class Sheep(Animal):\n",
    "    def sound(self):\n",
    "        return \"Baa\"\n",
    "\n",
    "# Create instances\n",
    "cow = Cow()\n",
    "sheep = Sheep()\n",
    "\n",
    "print(f\"Cow says: {cow.sound()}\")  # Output: Cow says: Moo\n",
    "print(f\"Sheep says: {sheep.sound()}\")  # Output: Sheep says: Baa\n"
   ]
  },
  {
   "cell_type": "code",
   "execution_count": 16,
   "id": "d7db0b70",
   "metadata": {},
   "outputs": [
    {
     "name": "stdout",
     "output_type": "stream",
     "text": [
      "Title: 1984, Author: George Orwell, Year Published: 1949\n"
     ]
    }
   ],
   "source": [
    "# 17. Create a class Book with attributes title, author, and year_published. Add a method get_book_info() that returns a formatted string with the book's details.\n",
    "\n",
    "class Book:\n",
    "    def __init__(self, title, author, year_published):\n",
    "        self.title = title\n",
    "        self.author = author\n",
    "        self.year_published = year_published\n",
    "    \n",
    "    def get_book_info(self):\n",
    "        return f\"Title: {self.title}, Author: {self.author}, Year Published: {self.year_published}\"\n",
    "\n",
    "# Create instance\n",
    "book = Book(\"1984\", \"George Orwell\", 1949)\n",
    "print(book.get_book_info())  # Output: Title: 1984, Author: George Orwell, Year Published: 1949\n"
   ]
  },
  {
   "cell_type": "code",
   "execution_count": 17,
   "id": "ad4dc54b",
   "metadata": {},
   "outputs": [
    {
     "name": "stdout",
     "output_type": "stream",
     "text": [
      "Mansion details: Address: 123 Beverly Hills, Price: 5000000, Rooms: 10\n"
     ]
    }
   ],
   "source": [
    "# 18. Create a class House with attributes address and price. Create a derived class Mansion that adds an attribute number_of_rooms.\n",
    "\n",
    "class House:\n",
    "    def __init__(self, address, price):\n",
    "        self.address = address\n",
    "        self.price = price  \n",
    "\n",
    "class Mansion(House):\n",
    "    def __init__(self, address, price, number_of_rooms):\n",
    "        super().__init__(address, price)\n",
    "        self.number_of_rooms = number_of_rooms\n",
    "\n",
    "# Create instance\n",
    "mansion = Mansion(\"123 Beverly Hills\", 5000000, 10)\n",
    "print(f\"Mansion details: Address: {mansion.address}, Price: {mansion.price}, Rooms: {mansion.number_of_rooms}\")\n"
   ]
  }
 ],
 "metadata": {
  "kernelspec": {
   "display_name": "base",
   "language": "python",
   "name": "python3"
  },
  "language_info": {
   "codemirror_mode": {
    "name": "ipython",
    "version": 3
   },
   "file_extension": ".py",
   "mimetype": "text/x-python",
   "name": "python",
   "nbconvert_exporter": "python",
   "pygments_lexer": "ipython3",
   "version": "3.12.7"
  }
 },
 "nbformat": 4,
 "nbformat_minor": 5
}
