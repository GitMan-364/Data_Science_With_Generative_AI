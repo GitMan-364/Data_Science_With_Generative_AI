{
 "cells": [
  {
   "cell_type": "markdown",
   "metadata": {},
   "source": [
    "# Theory Questions"
   ]
  },
  {
   "cell_type": "markdown",
   "metadata": {},
   "source": [
    "1. What is Python, and why is it popular ?\n",
    "    \n",
    "    - Python is a high-level, interpreted programming language known for its simplicity and readability. \n",
    "    \n",
    "        It is popular because of its easy & beginner's friendly syntax, vast libraries, versatility in web development, data science, AI, and automation, its strong community support and cross-platform compatibility, also various other features add to it's popularity."
   ]
  },
  {
   "cell_type": "markdown",
   "metadata": {},
   "source": [
    "2. What is an interpreter in Python ?\n",
    "\n",
    "    - An interpreter in Python is a program that executes Python code line by line, converting it into machine-readable instructions."
   ]
  },
  {
   "cell_type": "markdown",
   "metadata": {},
   "source": [
    "3. What are pre-defined keywords in Python ?\n",
    "\n",
    "    - Pre-defined keywords in Python are reserved words that have special meanings and cannot be used as variable names. For example :- 'if', 'else', 'while', 'for', 'def', 'class', 'import', and 'return'."
   ]
  },
  {
   "cell_type": "markdown",
   "metadata": {},
   "source": [
    "4. Can keywords be used as variable names ?\n",
    "\n",
    "    - No, keywords cannot be used as variable names in Python because they have special meanings and are part of the language's syntax. Using a keyword as a variable name will lead to a syntax error."
   ]
  },
  {
   "cell_type": "markdown",
   "metadata": {},
   "source": [
    "5. What is mutability in Python ?\n",
    "\n",
    "    - Mutability in Python refers to whether an object's value can be changed after creation. **Mutable** objects (e.g., lists, dictionaries, sets) allow modifications, while **immutable** objects (e.g., tuples, strings, integers) do not allow changes after creation."
   ]
  },
  {
   "cell_type": "markdown",
   "metadata": {},
   "source": [
    "6. Why are lists mutable, but tuples are immutable ?\n",
    "\n",
    "    - Lists are mutable because they allow modifications like adding, removing, or changing elements after creation. Tuples, on the other hand, are immutable to ensure data integrity and optimize performance by preventing unintended modifications."
   ]
  },
  {
   "cell_type": "markdown",
   "metadata": {},
   "source": [
    "7. What is the difference between “==” and “is” operators in Python ?\n",
    "\n",
    "    - \"==\" (or equality operator) checks value equality, meaning it compares whether two variables have the same value and \"is\" (or identity operator) checks identity equality, meaning it compares whether two variables refer to the same memory location (object).\n",
    "\n",
    "\n",
    "        - Example :-\n",
    "\n",
    "            ```python\n",
    "            a = [1, 2, 3]  \n",
    "            b = [1, 2, 3]  \n",
    "            print(a == b)  # True (same values)  \n",
    "            print(a is b)  # False (different objects)  \n",
    "\n",
    "            ```\n",
    "\n"
   ]
  },
  {
   "cell_type": "markdown",
   "metadata": {},
   "source": [
    "8.  What are logical operators in Python ?\n",
    "\n",
    "    - Logical operators in Python are used to combine conditional statements. They include:  \n",
    "\n",
    "        - **and** → Returns 'True' if both conditions are 'True'.  \n",
    "        - **or** → Returns 'True' if at least one condition is 'True'.  \n",
    "        - **not** → Reverses the Boolean value of a condition.  \n",
    "\n",
    "        Example:  \n",
    "        ```python\n",
    "        x = 5  \n",
    "        print(x > 2 and x < 10)  # True  \n",
    "        print(x > 10 or x < 2)   # False  \n",
    "        print(not (x > 2))       # False  \n",
    "        ```"
   ]
  },
  {
   "cell_type": "markdown",
   "metadata": {},
   "source": [
    "9.  What is type casting in Python ?\n",
    "\n",
    "    - Type casting in Python is converting one data type into another. It can be done using functions like 'int()', 'float()', 'str()', and 'list()'.  \n",
    "\n",
    "        Example:  \n",
    "        ```python\n",
    "        x = \"10\"  \n",
    "        y = int(x)  # Converts string to integer  \n",
    "        print(y + 5)  # Output: 15  \n",
    "        ```"
   ]
  },
  {
   "cell_type": "markdown",
   "metadata": {},
   "source": [
    "10. What is the difference between implicit and explicit type casting ?\n",
    "\n",
    "    - **Implicit Type Casting** (automatic conversion) → Python automatically converts a smaller data type to a larger one.  \n",
    "        ```python\n",
    "        x = 5  \n",
    "        y = 2.5  \n",
    "        z = x + y  # x (int) is converted to float  \n",
    "        print(z)  # Output: 7.5  \n",
    "        ```  \n",
    "        **Explicit Type Casting** (manual conversion) → The programmer converts data using functions like `int()`, `float()`, `str()`.  \n",
    "        ```python\n",
    "        a = \"10\"  \n",
    "        b = int(a)  # Convert string to integer  \n",
    "        print(b + 5)  # Output: 15  \n",
    "        ```"
   ]
  },
  {
   "cell_type": "markdown",
   "metadata": {},
   "source": [
    "11. What is the purpose of conditional statements in Python ?\n",
    "\n",
    "    - Conditional statements in Python control the flow of execution based on conditions. They allow decision-making using 'if', 'elif', and 'else' to execute different code blocks based on specific conditions.  "
   ]
  },
  {
   "cell_type": "markdown",
   "metadata": {},
   "source": [
    "12. How does the elif statement work ?\n",
    "\n",
    "    - The 'elif' statement checks multiple conditions in an 'if-elif-else' structure. If the 'if' condition is \"False\", Python checks the elif conditions one by one. If none are \"True\", then in that case the 'else' block (if present) executes.  \n",
    "\n",
    "        Example:  \n",
    "        ```python\n",
    "        x = 10  \n",
    "        if x > 15:  \n",
    "            print(\"Greater than 15\")  \n",
    "        elif x > 5:  \n",
    "            print(\"Between 6 and 15\")  \n",
    "        else:  \n",
    "            print(\"5 or less\")  \n",
    "        ```  \n",
    "        *Output:* Between 6 and 15"
   ]
  },
  {
   "cell_type": "markdown",
   "metadata": {},
   "source": [
    "13. What is the difference between for and while loops ?\n",
    "\n",
    "    - **for loop** → Used for iterating over sequences (lists, strings, ranges). It runs for a fixed number of iterations.  \n",
    "        ```python\n",
    "        for i in range(5):  \n",
    "            print(i)  # Outputs: 0 1 2 3 4  \n",
    "        ```  \n",
    "\n",
    "        **while loop** → Runs as long as a condition is \"True\". It is useful when the number of iterations is unknown.  \n",
    "        ```python\n",
    "        x = 0  \n",
    "        while x < 5:  \n",
    "            print(x)  \n",
    "            x += 1  # Outputs: 0 1 2 3 4  \n",
    "        ```"
   ]
  },
  {
   "cell_type": "markdown",
   "metadata": {},
   "source": [
    "14.  Describe a scenario where a while loop is more suitable than a for loop.\n",
    "\n",
    "        - A 'while' loop is more suitable than 'for' loop when the number of iterations is unknown and depends on a condition.  \n",
    "\n",
    "            **Example Scenario:** Reading user input until they enter a valid value.  \n",
    "            ```python\n",
    "            password = \"\"  \n",
    "            \n",
    "            while password != \"secret\":  \n",
    "                password = input(\"Enter password: \")  \n",
    "            \n",
    "            print(\"Access granted!\")  \n",
    "            ```  \n",
    "            Here, we don’t know how many attempts the user will take, hence using 'while' loop is better choice."
   ]
  },
  {
   "cell_type": "markdown",
   "metadata": {},
   "source": [
    "---"
   ]
  },
  {
   "cell_type": "markdown",
   "metadata": {},
   "source": [
    "# Practical Questions"
   ]
  },
  {
   "cell_type": "code",
   "execution_count": 1,
   "metadata": {},
   "outputs": [
    {
     "name": "stdout",
     "output_type": "stream",
     "text": [
      "Hello, World!\n"
     ]
    }
   ],
   "source": [
    "# 1.  Write a Python program to print \"Hello, World!\".\n",
    "\n",
    "print(\"Hello, World!\")"
   ]
  },
  {
   "cell_type": "code",
   "execution_count": null,
   "metadata": {},
   "outputs": [],
   "source": [
    "# 2. Write a Python program that displays your name and age.\n",
    "\n",
    "print(\"Name : Adarsh Kumar\")\n",
    "print(\"Age : 20\")"
   ]
  },
  {
   "cell_type": "code",
   "execution_count": 2,
   "metadata": {},
   "outputs": [
    {
     "name": "stdout",
     "output_type": "stream",
     "text": [
      "All Python Keywords: \n",
      "\n",
      "'False'    'None'    'True'    'and'    'as'    'assert'    'async'    'await'    'break'    'class'    'continue'    'def'    'del'    'elif'    'else'    'except'    'finally'    'for'    'from'    'global'    'if'    'import'    'in'    'is'    'lambda'    'nonlocal'    'not'    'or'    'pass'    'raise'    'return'    'try'    'while'    'with'    'yield'    "
     ]
    }
   ],
   "source": [
    "# 3. Write code to print all the pre-defined keywords in Python using the keyword library. \n",
    "\n",
    "import keyword      # importing 'keyword' library\n",
    "keywords_list = keyword.kwlist      # Getting the list of all python keywords\n",
    "\n",
    "print(\"All Python Keywords: \\n\")       \n",
    "\n",
    "for kw in keywords_list:    # Printing the keywords (using for loop)\n",
    "    print(f\"'{kw}'\", end=\"    \")"
   ]
  },
  {
   "cell_type": "code",
   "execution_count": null,
   "metadata": {},
   "outputs": [
    {
     "name": "stdout",
     "output_type": "stream",
     "text": [
      "'True' is a Python keyword :)\n"
     ]
    }
   ],
   "source": [
    "# 4. Write a program that checks if a given word is a Python keyword.\n",
    "\n",
    "import keyword      # importing 'keyword' library\n",
    "keywords_list = keyword.kwlist      # Getting the list of all python keywords\n",
    "\n",
    "word = input(\"Enter a word: \")    # user input\n",
    "\n",
    "# Checking if user input is a keyword or not\n",
    "\n",
    "if word in keywords_list:\n",
    "    print(f\"'{word}' is a Python keyword :)\")\n",
    "\n",
    "else:\n",
    "    print(f\"'{word}' is NOT a Python keyword. :(\")\n"
   ]
  },
  {
   "cell_type": "code",
   "execution_count": 42,
   "metadata": {},
   "outputs": [
    {
     "name": "stdout",
     "output_type": "stream",
     "text": [
      "Original List: [1, 2, 3, 4, 5]\n",
      "Modified List: [1, 2, 99, 4, 5]\n",
      "\n",
      "Original Tuple: (1, 2, 3, 4, 5)\n"
     ]
    }
   ],
   "source": [
    "# 5.  Create a list and tuple in Python, and demonstrate how attempting to change an element works differently for each\n",
    "\n",
    "_list = [1, 2, 3, 4, 5]   # Creating a list\n",
    "print(\"Original List:\", _list)\n",
    "\n",
    "_list[2] = 99   # Modifying an element in the list\n",
    "print(\"Modified List:\", _list)\n",
    "\n",
    "\n",
    "_tuple = (1, 2, 3, 4, 5)    # Creating a tuple\n",
    "print(\"\\nOriginal Tuple:\", _tuple)\n",
    "\n",
    "#    Modifying an element in the tuple  :-\n",
    "#  _tuple[2] = 99  # This is not allowed, will cause an error : 'tuple' object does not support item assignment, hence this part is commented\n"
   ]
  },
  {
   "cell_type": "code",
   "execution_count": 1,
   "metadata": {},
   "outputs": [
    {
     "name": "stdout",
     "output_type": "stream",
     "text": [
      "Before function call (x): 5\n",
      "Before function call (y): [1, 2, 3]\n",
      "\n",
      "Inside function (num): 15\n",
      "Inside function (my_list): [1, 2, 3, 100]\n",
      "\n",
      "After function call (x): 5\n",
      "After function call (y): [1, 2, 3, 100]\n"
     ]
    }
   ],
   "source": [
    "# 6. Write a function to demonstrate the behavior of mutable and immutable arguments.\n",
    "\n",
    "# Immutable argument (integer)\n",
    "x = 5\n",
    "print(\"Before function call (x):\", x)\n",
    "\n",
    "# Mutable argument (list)\n",
    "y = [1, 2, 3]\n",
    "print(\"Before function call (y):\", y)\n",
    "\n",
    "\n",
    "# Function (to modify mutable and immutable arguments)\n",
    "\n",
    "def modify_values(num, my_list):\n",
    "    num += 10  # Modifying immutable integer\n",
    "    my_list.append(100)  # Modifying mutable list\n",
    "    \n",
    "    print(\"\\nInside function (num):\", num)\n",
    "    print(\"Inside function (my_list):\", my_list)\n",
    "\n",
    "\n",
    "# Function call\n",
    "modify_values(x, y)\n",
    "\n",
    "# Checking values after function call\n",
    "print(\"\\nAfter function call (x):\", x)  # x remains unchanged\n",
    "print(\"After function call (y):\", y)  # y is modified\n"
   ]
  },
  {
   "cell_type": "code",
   "execution_count": null,
   "metadata": {},
   "outputs": [],
   "source": [
    "# 7. Write a program that performs basic arithmetic operations on two user-input numbers.\n",
    "\n",
    "num1 = float( input(\"Enter first number: \") )\n",
    "num2 = float( input(\"Enter second number: \") )\n",
    "\n",
    "print(f\"{num1} + {num2} =\", num1 + num2)    # add(+)\n",
    "print(f\"{num1} - {num2} =\", num1 - num2)    # subtract(-)\n",
    "print(f\"{num1} x {num2} =\", num1 * num2)    # multiply(*)\n",
    "print(f\"{num1} / {num2} =\", num1 / num2)    # divide(/)\n",
    "print(f\"When {num1} / {num2}, then Remainder =\", num1 % num2)   # modulus(%)\n",
    "print(f\"{num1} raise to power {num2} =\", num1 ** num2)    # Exponent(**)"
   ]
  },
  {
   "cell_type": "code",
   "execution_count": null,
   "metadata": {},
   "outputs": [],
   "source": [
    "# 8. Write a program to demonstrate the use of logical operators.\n",
    "\n",
    "# Taking user input\n",
    "a = int(input(\"Enter first number: \"))\n",
    "b = int(input(\"Enter second number: \"))\n",
    "\n",
    "# Demonstrating 'and' operator\n",
    "if a > 0 and b > 0:\n",
    "    print(\"Both numbers are positive.\")\n",
    "\n",
    "# Demonstrating 'or' operator\n",
    "if a % 2 == 0 or b % 2 == 0:\n",
    "    print(\"At least one number is even.\")\n",
    "\n",
    "# Demonstrating 'not' operator\n",
    "if not (a < 0 or b < 0):\n",
    "    print(\"None of the numbers is negative.\")\n",
    "else:\n",
    "    print(\"At least one number is negative.\")\n"
   ]
  },
  {
   "cell_type": "code",
   "execution_count": null,
   "metadata": {},
   "outputs": [],
   "source": [
    "# 9. Write a Python program to convert user input from string to integer, float, and boolean types.\n",
    "\n",
    "user_input = input(\"Enter a value: \")   # Taking user input as a string\n",
    "\n",
    "# Using try-except (to check whether that conversion is possible or not, & if possible then convert and print it, otherwise print \"can't convert\")\n",
    "\n",
    "\n",
    "# Converting to integer\n",
    "try:\n",
    "    int_value = int(user_input)\n",
    "    print(f\"Integer Value: {int_value}\") \n",
    "except ValueError:\n",
    "    print(\"Can't convert to Integer\")\n",
    "\n",
    "\n",
    "# Converting to float\n",
    "try:\n",
    "    float_value = float(user_input)\n",
    "    print(f\"Float Value: {float_value}\")\n",
    "except ValueError:\n",
    "    print(\"Can't convert to Float\")\n",
    "\n",
    "\n",
    "# Converting to boolean\n",
    "bool_value = bool(user_input)  # Any non-empty string converts to True\n",
    "print(f\"Boolean Value: {bool_value}\")\n"
   ]
  },
  {
   "cell_type": "code",
   "execution_count": null,
   "metadata": {},
   "outputs": [
    {
     "name": "stdout",
     "output_type": "stream",
     "text": [
      "Original List (Strings): ['10', '20', '30', '40', '50']\n",
      "Converted List (Integers): [10, 20, 30, 40, 50]\n",
      "Converted List (Floats): [10.0, 20.0, 30.0, 40.0, 50.0]\n"
     ]
    }
   ],
   "source": [
    "# 10. Write code to demonstrate type casting with list elements.\n",
    "\n",
    "str_list = [\"10\", \"20\", \"30\", \"40\", \"50\"]   # List containing string numbers\n",
    "\n",
    "int_list = [int(num) for num in str_list]   # Converting list elements from string to integer (using List Comprehension)\n",
    "float_list = [float(num) for num in int_list]   # Converting list elements from integer to float (using List Comprehension)\n",
    "\n",
    "# Output\n",
    "print(\"Original List (Strings):\", str_list)\n",
    "print(\"Converted List (Integers):\", int_list)\n",
    "print(\"Converted List (Floats):\", float_list)\n"
   ]
  },
  {
   "cell_type": "code",
   "execution_count": null,
   "metadata": {},
   "outputs": [],
   "source": [
    "# 11. Write a program that checks if a number is positive, negative, or zero.\n",
    "\n",
    "Number = float( input(\"Enter a number : \") )    # user input\n",
    "\n",
    "if Number == 0:\n",
    "    print(f\"'{Number}' is Zero itself\")\n",
    "\n",
    "elif Number > 0:\n",
    "    print(f\"'{Number}' is a Positive Number\")\n",
    "\n",
    "else :\n",
    "    print(f\"'{Number}' is a Negative Number\")"
   ]
  },
  {
   "cell_type": "code",
   "execution_count": null,
   "metadata": {},
   "outputs": [
    {
     "name": "stdout",
     "output_type": "stream",
     "text": [
      "1 2 3 4 5 6 7 8 9 10 "
     ]
    }
   ],
   "source": [
    "# 12. Write a for loop to print numbers from 1 to 10.\n",
    "\n",
    "for i in range(1, 11):\n",
    "    print(i, end=\" \")"
   ]
  },
  {
   "cell_type": "code",
   "execution_count": 2,
   "metadata": {},
   "outputs": [
    {
     "name": "stdout",
     "output_type": "stream",
     "text": [
      "The sum of all the even numbers between 1 and 50 is : 650\n"
     ]
    }
   ],
   "source": [
    "# 13. Write a Python program to find the sum of all even numbers between 1 and 50.\n",
    "\n",
    "sum = 0   # initialising with '0', as numbers will get added to this variable\n",
    "\n",
    "for i in range(1, 51):\n",
    "    if i % 2 == 0:      # if the value of 'i' is even, then add that value to the sum (ensuring the addition of even numbers only)\n",
    "        sum += i\n",
    "\n",
    "print(\"The sum of all the even numbers between 1 and 50 is :\", sum)"
   ]
  },
  {
   "cell_type": "code",
   "execution_count": 3,
   "metadata": {},
   "outputs": [
    {
     "name": "stdout",
     "output_type": "stream",
     "text": [
      "Reversed string of 'Adarsh Kumar' is : 'ramuK hsradA' \n"
     ]
    }
   ],
   "source": [
    "# 14. Write a program to reverse a string using a while loop. \n",
    "\n",
    "inputString = input(\"Enter a string: \")\n",
    "\n",
    "reversed_string = \"\"    # an empty string to append the result\n",
    "index = len(inputString) - 1    # last index of inputString, as index starts from '0'\n",
    "\n",
    "while index >= 0:\n",
    "    reversed_string += inputString[index]       # adding from the last character till the first one \n",
    "    index -= 1      # decreasing index\n",
    "\n",
    "print(f\"Reversed string of '{inputString}' is : '{reversed_string}' \")"
   ]
  },
  {
   "cell_type": "code",
   "execution_count": null,
   "metadata": {},
   "outputs": [
    {
     "name": "stdout",
     "output_type": "stream",
     "text": [
      "0! = 1\n"
     ]
    }
   ],
   "source": [
    "# 15. Write a Python program to calculate the factorial of a number provided by the user using a while loop.\n",
    "\n",
    "num = int( input(\"Enter an Integer : \") )\n",
    "\n",
    "original_number = num   # for printing at the end\n",
    "factorial = 1   # initialising with '1' , as in factorial, we have to multiply the numbers (starting from a paricular number till 1)\n",
    "\n",
    "if num < 0:\n",
    "    print(\"Factorial is not defined for negative numbers.\")\n",
    "\n",
    "else :\n",
    "    while num > 0:     # calculation (using while loop)\n",
    "                \n",
    "        factorial *= num    \n",
    "        num -= 1    # decreasing num by 1\n",
    "\n",
    "    print(f\"{original_number}! = {factorial}\")      # printing the result (for num = 0, it will skip the loop and directly print '0! = 1')\n"
   ]
  }
 ],
 "metadata": {
  "kernelspec": {
   "display_name": "base",
   "language": "python",
   "name": "python3"
  },
  "language_info": {
   "codemirror_mode": {
    "name": "ipython",
    "version": 3
   },
   "file_extension": ".py",
   "mimetype": "text/x-python",
   "name": "python",
   "nbconvert_exporter": "python",
   "pygments_lexer": "ipython3",
   "version": "3.12.7"
  }
 },
 "nbformat": 4,
 "nbformat_minor": 2
}
