{
 "cells": [
  {
   "cell_type": "markdown",
   "id": "4228711b",
   "metadata": {},
   "source": [
    "# Theory Questions"
   ]
  },
  {
   "cell_type": "markdown",
   "id": "374a4f06",
   "metadata": {},
   "source": [
    "1. What is a RESTful API ?\n",
    "\n",
    "    - A **RESTful API** is an application programming interface that follows REST (Representational State Transfer) principles. It allows communication between client and server using standard HTTP methods like GET, POST, PUT, DELETE. It uses stateless communication, meaning each request is independent."
   ]
  },
  {
   "cell_type": "markdown",
   "id": "fa5a2161",
   "metadata": {},
   "source": [
    "2. Explain the concept of API specification.\n",
    "\n",
    "    - *API specification* defines how an API works — including its available endpoints, request methods, input/output formats, and authentication. Tools like OpenAPI (Swagger) help document and test APIs, ensuring consistency and easy collaboration among developers.\n",
    "\n"
   ]
  },
  {
   "cell_type": "markdown",
   "id": "fb9150c9",
   "metadata": {},
   "source": [
    "3. What is Flask, and why is it popular for building APIs ?\n",
    "\n",
    "    - **Flask** is a lightweight Python web framework. It is popular because it's simple, flexible, and easy to extend with libraries. Flask allows rapid development of APIs with minimal setup, and supports RESTful API design."
   ]
  },
  {
   "cell_type": "markdown",
   "id": "dd149f6b",
   "metadata": {},
   "source": [
    "4. What is routing in Flask ?\n",
    "\n",
    "    - **Routing in Flask** refers to defining URL patterns for specific functions. It maps a URL (like `/home`) to a Python function using the `@app.route()` decorator. This tells Flask what function to run when that route is accessed.\n",
    "\n",
    "        **Example :-**\n",
    "\n",
    "        ```python\n",
    "        @app.route('/hello')\n",
    "        def hello():\n",
    "            return 'Hello, World!'\n",
    "        ```"
   ]
  },
  {
   "cell_type": "markdown",
   "id": "4e64b86c",
   "metadata": {},
   "source": [
    "5. How do you create a simple Flask application ?\n",
    "\n",
    "    - Install Flask, then create a Python file with basic code:\n",
    "\n",
    "        ```python\n",
    "        from flask import Flask\n",
    "        app = Flask(__name__)\n",
    "\n",
    "        @app.route('/')\n",
    "        def home():\n",
    "            return 'Welcome to Flask!'\n",
    "\n",
    "        app.run(debug=True)\n",
    "        ```\n",
    "\n",
    "        This creates a basic web server with a homepage."
   ]
  },
  {
   "cell_type": "markdown",
   "id": "75bf338f",
   "metadata": {},
   "source": [
    "6.  What are HTTP methods used in RESTful APIs ?\n",
    "\n",
    "    - Common HTTP methods are:\n",
    "\n",
    "        - **GET** – Retrieve data\n",
    "\n",
    "        - **POST** – Submit new data\n",
    "\n",
    "        - **PUT** – Update existing data\n",
    "\n",
    "        - **DELETE** – Remove data\n",
    "\n",
    "        - **PATCH** – Partial update\n",
    "\n",
    "        Each method performs a different CRUD operation in REST APIs.\n",
    "\n",
    "        {CRUD operations = POST (Create), GET (Read), PUT/PATCH (Update), DELETE (Delete)}\n",
    "\n"
   ]
  },
  {
   "cell_type": "markdown",
   "id": "9eba8f16",
   "metadata": {},
   "source": [
    "7. What is the purpose of the @app.route() decorator in Flask ?\n",
    "\n",
    "    - `@app.route()` binds a URL to a function. When that URL is accessed, Flask runs the function and returns its response. It’s essential for defining endpoints in a Flask app.\n",
    "\n"
   ]
  },
  {
   "cell_type": "markdown",
   "id": "a9700ea1",
   "metadata": {},
   "source": [
    "8. What is the difference between GET and POST HTTP methods ?\n",
    "\n",
    "    - **GET** requests retrieve data and do not change anything on the server. **POST** requests send data to the server to create or update a resource. *GET* shows data; *POST* sends/changes data"
   ]
  },
  {
   "cell_type": "markdown",
   "id": "c5fe9018",
   "metadata": {},
   "source": [
    "9. How do you handle errors in Flask APIs ?\n",
    "\n",
    "    - Flask allows custom error handling using @app.errorhandler() for codes like 404 or 500. You can return custom messages in JSON format.\n",
    "\n",
    "        **Example :-**\n",
    " \n",
    "        ```python\n",
    "        @app.errorhandler(404)\n",
    "        def not_found(e):\n",
    "            return {\"error\": \"Not Found\"}, 404\n",
    "        ```"
   ]
  },
  {
   "cell_type": "markdown",
   "id": "33cef47d",
   "metadata": {},
   "source": [
    "10. How do you connect Flask to a SQL database ?\n",
    "\n",
    "    - Use `Flask-SQLAlchemy`, a Flask extension for database handling. You define the DB URI and models:\n",
    "\n",
    "        ```python\n",
    "        app.config['SQLALCHEMY_DATABASE_URI'] = 'sqlite:///data.db'\n",
    "        db = SQLAlchemy(app)\n",
    "\n",
    "        ```\n"
   ]
  },
  {
   "cell_type": "markdown",
   "id": "6abce4ea",
   "metadata": {},
   "source": [
    "11. What is the role of Flask-SQLAlchemy ?\n",
    "\n",
    "    - ***Flask-SQLAlchemy*** provides ORM (Object Relational Mapping) support to Flask, allowing you to interact with SQL databases using Python classes instead of raw SQL queries."
   ]
  },
  {
   "cell_type": "markdown",
   "id": "2ecfb7f3",
   "metadata": {},
   "source": [
    "12. What are Flask blueprints, and how are they useful ?\n",
    "\n",
    "    - ***Blueprints*** allow splitting an app into modular components. Each blueprint can handle a part of the app (e.g., user, admin), making large apps more organized and easier to maintain."
   ]
  },
  {
   "cell_type": "markdown",
   "id": "5567ba14",
   "metadata": {},
   "source": [
    "13. What is the purpose of Flask's request object ?\n",
    "\n",
    "    - The `request` object holds data from the client, such as form input, JSON body, query parameters, and headers. It's used to access data sent to the server.\n",
    "\n",
    "        **Example :-**\n",
    "\n",
    "        ```python\n",
    "        data = request.get_json()\n",
    "        ```"
   ]
  },
  {
   "cell_type": "markdown",
   "id": "59fefdce",
   "metadata": {},
   "source": [
    "14. How do you create a RESTful API endpoint using Flask ?\n",
    "\n",
    "    - Define a route and method, then write logic inside the function:\n",
    "\n",
    "        ```python\n",
    "        @app.route('/api/data', methods=['GET'])\n",
    "        def get_data():\n",
    "            return jsonify({\"name\": \"Flask API\"})\n",
    "        ```"
   ]
  },
  {
   "cell_type": "markdown",
   "id": "ac7890f3",
   "metadata": {},
   "source": [
    "15. What is the purpose of Flask's jsonify() function ?\n",
    "\n",
    "    - `jsonify()` converts Python dictionaries or lists into JSON format, which is the standard response format for REST APIs. It also sets the correct content type."
   ]
  },
  {
   "cell_type": "markdown",
   "id": "ec443665",
   "metadata": {},
   "source": [
    "16. Explain Flask’s url_for() function ?\n",
    "    \n",
    "    - `url_for()` dynamically builds a URL for a function based on its name. It avoids hardcoding URLs and is useful when URLs change.\n",
    "\n",
    "        **Example :-**\n",
    "\n",
    "        ```python\n",
    "        url_for('home')  # returns '/'\n",
    "        ```"
   ]
  },
  {
   "cell_type": "markdown",
   "id": "5df7e395",
   "metadata": {},
   "source": [
    "17. How does Flask handle static files (CSS, JavaScript, etc.) ?\n",
    "\n",
    "    - Flask serves static files from the `static/` directory. You can access them using `/static/filename.ext`.\n",
    "\n",
    "        **Example :-**\n",
    "\n",
    "        ```python\n",
    "        <link rel=\"stylesheet\" href=\"{{ url_for('static', filename='style.css') }}\">\n",
    "        ```"
   ]
  },
  {
   "cell_type": "markdown",
   "id": "0657bd61",
   "metadata": {},
   "source": [
    "18. What is an API specification, and how does it help in building a Flask API ?\n",
    "\n",
    "    - An **API specification** (like OpenAPI) defines what endpoints exist, what data they need, and what they return. It ensures that developers follow a consistent structure, easing development and documentation."
   ]
  },
  {
   "cell_type": "markdown",
   "id": "3a0274ef",
   "metadata": {},
   "source": [
    "19. What are HTTP status codes, and why are they important in a Flask API ?\n",
    "\n",
    "    - **HTTP status codes** indicate the result of a request (e.g., success, error). Examples:\n",
    "\n",
    "        - 200 OK\n",
    "\n",
    "        - 201 Created\n",
    "\n",
    "        - 400 Bad Request\n",
    "\n",
    "        - 404 Not Found\n",
    "\n",
    "        - 500 Internal Server Error\n",
    "\n",
    "        They help clients understand the result of their API calls.\n",
    "\n"
   ]
  },
  {
   "cell_type": "markdown",
   "id": "4ce708aa",
   "metadata": {},
   "source": [
    "20. How do you handle POST requests in Flask ?\n",
    "\n",
    "    - Define a route with `methods=['POST']` and access the data from `request`.\n",
    "\n",
    "        **Example :-**\n",
    "\n",
    "        ```python\n",
    "        @app.route('/submit', methods=['POST'])\n",
    "        def submit():\n",
    "            data = request.get_json()\n",
    "            return jsonify(data)\n",
    "        ```"
   ]
  },
  {
   "cell_type": "markdown",
   "id": "29dfbc32",
   "metadata": {},
   "source": [
    "21. How would you secure a Flask API ?\n",
    "\n",
    "    - Use techniques like:\n",
    "\n",
    "        - API key/token authentication\n",
    "\n",
    "        - HTTPS\n",
    "\n",
    "        - Input validation\n",
    "\n",
    "        - Rate limiting\n",
    "\n",
    "        - CORS configuration\n",
    "\n",
    "        - Flask extensions like `Flask-JWT` or `Flask-Login` for authentication"
   ]
  },
  {
   "cell_type": "markdown",
   "id": "93eb9c63",
   "metadata": {},
   "source": [
    "22. What is the significance of the Flask-RESTful extension ?\n",
    "\n",
    "    - **Flask-RESTful** simplifies creating REST APIs by providing classes for defining resources, automatic request parsing, and cleaner routing. It helps structure large APIs more efficiently."
   ]
  },
  {
   "cell_type": "markdown",
   "id": "ced124c4",
   "metadata": {},
   "source": [
    "23. What is the role of Flask’s session object ?\n",
    "\n",
    "    - The `session` object stores user-specific data across requests using cookies. It's useful for login sessions and temporary user state.\n",
    "\n",
    "        **Example :-**\n",
    "\n",
    "        ```python\n",
    "        session['user'] = 'Alice'\n",
    "        ```"
   ]
  },
  {
   "cell_type": "markdown",
   "id": "9dfbac47",
   "metadata": {},
   "source": [
    "# Practical Questions"
   ]
  },
  {
   "cell_type": "code",
   "execution_count": null,
   "id": "e3f43fe8",
   "metadata": {},
   "outputs": [],
   "source": [
    "# 1. How do you create a basic Flask application ?\n",
    "\n",
    "from flask import Flask\n",
    "\n",
    "app = Flask(__name__)\n",
    "\n",
    "@app.route('/')\n",
    "def home():\n",
    "    return 'Welcome to Flask!'\n",
    "\n",
    "app.run(debug=True, use_reloader=False)"
   ]
  },
  {
   "cell_type": "code",
   "execution_count": null,
   "id": "5ed338c0",
   "metadata": {},
   "outputs": [],
   "source": [
    "# 2. How do you serve static files like images or CSS in Flask ?\n",
    "\n",
    "# Place your static files (e.g., images, CSS, JS) in a folder named 'static' in your project directory.\n",
    "# Flask will automatically serve files from this folder at the '/static/' URL.\n",
    "\n",
    "# Example: To use a CSS file in an HTML template:\n",
    "# <link rel=\"stylesheet\" href=\"{{ url_for('static', filename='style.css') }}\">\n",
    "\n",
    "# Example: To use an image in an HTML template:\n",
    "# <img src=\"{{ url_for('static', filename='logo.png') }}\" alt=\"Logo\">\n",
    "\n",
    "# You do not need to write any extra code to serve static files; Flask handles it automatically."
   ]
  },
  {
   "cell_type": "code",
   "execution_count": null,
   "id": "ea1579cb",
   "metadata": {},
   "outputs": [],
   "source": [
    "# 3. How do you define different routes with different HTTP methods in Flask ?\n",
    "\n",
    "from flask import Flask, request\n",
    "\n",
    "app = Flask(__name__)\n",
    "\n",
    "@app.route('/hello', methods=['GET'])\n",
    "def hello_get():\n",
    "    return 'Hello with GET!'\n",
    "\n",
    "@app.route('/hello', methods=['POST'])\n",
    "def hello_post():\n",
    "    data = request.get_json()\n",
    "    return f\"Hello with POST! You sent: {data}\"\n",
    "\n",
    "# You can also allow multiple methods for a single route:\n",
    "@app.route('/greet', methods=['GET', 'POST'])\n",
    "def greet():\n",
    "    if request.method == 'POST':\n",
    "        return 'Greeted with POST!'\n",
    "    else:\n",
    "        return 'Greeted with GET!'"
   ]
  },
  {
   "cell_type": "code",
   "execution_count": null,
   "id": "de74aa1f",
   "metadata": {},
   "outputs": [],
   "source": [
    "# 4. How do you render HTML templates in Flask ?\n",
    "\n",
    "from flask import Flask, render_template\n",
    "\n",
    "app = Flask(__name__)\n",
    "\n",
    "@app.route('/')\n",
    "def home():\n",
    "    return render_template('index.html')  # Looks for 'templates/index.html'\n",
    "\n",
    "# Place your HTML files inside a folder named 'templates' in your project directory."
   ]
  },
  {
   "cell_type": "code",
   "execution_count": null,
   "id": "b31a9a0c",
   "metadata": {},
   "outputs": [],
   "source": [
    "# 5. How can you generate URLs for routes in Flask using url_for ?\n",
    "\n",
    "from flask import Flask, url_for\n",
    "\n",
    "app = Flask(__name__)\n",
    "\n",
    "@app.route('/about')\n",
    "def about():\n",
    "    return 'About Page'\n",
    "\n",
    "@app.route('/')\n",
    "def home():\n",
    "    # Generate the URL for the 'about' route\n",
    "    about_url = url_for('about')\n",
    "    return f'Go to the <a href=\"{about_url}\">About Page</a>'\n",
    "\n",
    "# url_for('about') will return '/about'"
   ]
  },
  {
   "cell_type": "code",
   "execution_count": null,
   "id": "56c7269e",
   "metadata": {},
   "outputs": [],
   "source": [
    "# 6. How do you handle forms in Flask ? \n",
    "\n",
    "from flask import Flask, request, render_template\n",
    "\n",
    "app = Flask(__name__)\n",
    "\n",
    "@app.route('/form', methods=['GET', 'POST'])\n",
    "def form():\n",
    "    if request.method == 'POST':\n",
    "        name = request.form['name']\n",
    "        return f'Hello, {name}!'\n",
    "    return render_template('form.html')  # form.html contains the HTML form\n",
    "\n",
    "# Example form.html (place in templates/ folder):\n",
    "# <form method=\"POST\">\n",
    "#   <input type=\"text\" name=\"name\" placeholder=\"Enter your name\">\n",
    "#   <input type=\"submit\" value=\"Submit\">\n",
    "# </form>"
   ]
  },
  {
   "cell_type": "code",
   "execution_count": null,
   "id": "04a502dc",
   "metadata": {},
   "outputs": [],
   "source": [
    "# 7. How can you validate form data in Flask ?\n",
    "\n",
    "from flask import Flask, request, render_template\n",
    "\n",
    "app = Flask(__name__)\n",
    "\n",
    "@app.route('/form', methods=['GET', 'POST'])\n",
    "def form():\n",
    "    error = None\n",
    "    if request.method == 'POST':\n",
    "        name = request.form.get('name', '').strip()\n",
    "        if not name:\n",
    "            error = 'Name is required!'\n",
    "            return render_template('form.html', error=error)\n",
    "        # You can add more validation here (e.g., length, format)\n",
    "        return f'Hello, {name}!'\n",
    "    return render_template('form.html', error=error)\n",
    "\n",
    "# Example form.html (in templates/):\n",
    "# <form method=\"POST\">\n",
    "#   <input type=\"text\" name=\"name\" placeholder=\"Enter your name\">\n",
    "#   {% if error %}<p style=\"color:red;\">{{ error }}</p>{% endif %}\n",
    "#   <input type=\"submit\" value=\"Submit\">\n",
    "# </form>"
   ]
  },
  {
   "cell_type": "code",
   "execution_count": null,
   "id": "741e9cc2",
   "metadata": {},
   "outputs": [],
   "source": [
    "# 8. How do you manage sessions in Flask ? \n",
    "\n",
    "from flask import Flask, session\n",
    "\n",
    "app = Flask(__name__)\n",
    "app.secret_key = 'your_secret_key'  # Required for session management\n",
    "\n",
    "@app.route('/set_session')\n",
    "def set_session():\n",
    "    session['user'] = 'Alice'\n",
    "    return 'Session set!'\n",
    "\n",
    "@app.route('/get_session')\n",
    "def get_session():\n",
    "    user = session.get('user', 'Guest')\n",
    "    return f'Hello, {user}!'\n",
    "\n",
    "# The session object lets you store and retrieve data for a user across requests."
   ]
  },
  {
   "cell_type": "code",
   "execution_count": null,
   "id": "f17202cc",
   "metadata": {},
   "outputs": [],
   "source": [
    "# 9. How do you redirect to a different route in Flask ? \n",
    "\n",
    "from flask import Flask, redirect, url_for\n",
    "\n",
    "app = Flask(__name__)\n",
    "\n",
    "@app.route('/')\n",
    "def home():\n",
    "    return 'Home Page'\n",
    "\n",
    "@app.route('/go-to-home')\n",
    "def go_to_home():\n",
    "    # Redirect to the 'home' route\n",
    "    return redirect(url_for('home'))\n",
    "\n",
    "# Use redirect() with url_for() to send users to a different route."
   ]
  },
  {
   "cell_type": "code",
   "execution_count": null,
   "id": "ce6d7eb2",
   "metadata": {},
   "outputs": [],
   "source": [
    "# 10. How do you handle errors in Flask (e.g., 404) ?\n",
    "\n",
    "from flask import Flask, jsonify\n",
    "\n",
    "app = Flask(__name__)\n",
    "\n",
    "@app.errorhandler(404)\n",
    "def not_found(error):\n",
    "    return jsonify({\"error\": \"Resource not found\"}), 404\n",
    "\n",
    "# You can define custom error handlers for other status codes (e.g., 400, 500) in a similar way."
   ]
  },
  {
   "cell_type": "code",
   "execution_count": null,
   "id": "b741dc9d",
   "metadata": {},
   "outputs": [],
   "source": [
    "# 11. How do you structure a Flask app using Blueprints ?"
   ]
  },
  {
   "cell_type": "code",
   "execution_count": null,
   "id": "0cd8e7e7",
   "metadata": {},
   "outputs": [],
   "source": [
    "# 11. How do you structure a Flask app using Blueprints ?\n",
    "\n",
    "# Example folder structure:\n",
    "# myapp/\n",
    "#   app.py\n",
    "#   user_routes.py\n",
    "#   admin_routes.py\n",
    "\n",
    "# user_routes.py\n",
    "from flask import Blueprint\n",
    "\n",
    "user_bp = Blueprint('user', __name__)\n",
    "\n",
    "@user_bp.route('/profile')\n",
    "def profile():\n",
    "    return \"User Profile\"\n",
    "\n",
    "# admin_routes.py\n",
    "from flask import Blueprint\n",
    "\n",
    "admin_bp = Blueprint('admin', __name__)\n",
    "\n",
    "@admin_bp.route('/dashboard')\n",
    "def dashboard():\n",
    "    return \"Admin Dashboard\"\n",
    "\n",
    "# app.py\n",
    "from flask import Flask\n",
    "from user_routes import user_bp\n",
    "from admin_routes import admin_bp\n",
    "\n",
    "app = Flask(__name__)\n",
    "app.register_blueprint(user_bp, url_prefix='/user')\n",
    "app.register_blueprint(admin_bp, url_prefix='/admin')\n",
    "\n",
    "if __name__ == '__main__':\n",
    "    app.run(debug=True)\n",
    "\n",
    "# Each blueprint handles a part of the app, making code modular and maintainable."
   ]
  },
  {
   "cell_type": "code",
   "execution_count": null,
   "id": "7debbdd2",
   "metadata": {},
   "outputs": [],
   "source": [
    "# 12. How do you define a custom Jinja filter in Flask ? \n",
    "\n",
    "from flask import Flask\n",
    "\n",
    "app = Flask(__name__)\n",
    "\n",
    "# Define a custom filter function\n",
    "def reverse_string(s):\n",
    "    return s[::-1]\n",
    "\n",
    "# Register the filter with Jinja\n",
    "app.jinja_env.filters['reverse'] = reverse_string\n",
    "\n",
    "# Usage in a template:\n",
    "# {{ \"Flask\" | reverse }}   <!-- Output: ksalF -->\n",
    "\n",
    "# You can now use the 'reverse' filter in your Jinja templates."
   ]
  },
  {
   "cell_type": "code",
   "execution_count": null,
   "id": "08f3e6ba",
   "metadata": {},
   "outputs": [],
   "source": [
    "# 13. How can you redirect with query parameters in Flask ?\n",
    "\n",
    "from flask import Flask, redirect, url_for, request\n",
    "\n",
    "app = Flask(__name__)\n",
    "\n",
    "@app.route('/redirect_with_params')\n",
    "def redirect_with_params():\n",
    "    # Redirect to 'target' route with query parameters\n",
    "    return redirect(url_for('target', name='Alice', age=25))\n",
    "\n",
    "@app.route('/target')\n",
    "def target():\n",
    "    name = request.args.get('name')\n",
    "    age = request.args.get('age')\n",
    "    return f'Name: {name}, Age: {age}'\n",
    "\n",
    "# When you visit /redirect_with_params, you will be redirected to:\n",
    "# /target?name=Alice&age=25"
   ]
  },
  {
   "cell_type": "code",
   "execution_count": 2,
   "id": "9bf63a89",
   "metadata": {},
   "outputs": [],
   "source": [
    "# 14. How do you return JSON responses in Flask ?\n",
    "\n",
    "from flask import Flask, jsonify\n",
    "\n",
    "app = Flask(__name__)\n",
    "\n",
    "@app.route('/api/data')\n",
    "def get_data():\n",
    "    data = {\"name\": \"Flask\", \"type\": \"API\"}\n",
    "    return jsonify(data)\n",
    "\n",
    "# Use jsonify() to convert Python dicts/lists to JSON responses."
   ]
  },
  {
   "cell_type": "code",
   "execution_count": 1,
   "id": "fb915d90",
   "metadata": {},
   "outputs": [],
   "source": [
    "# 15. How do you capture URL parameters in Flask ?\n",
    "\n",
    "from flask import Flask\n",
    "\n",
    "app = Flask(__name__)\n",
    "\n",
    "# Define a route with a variable part using <parameter_name>\n",
    "@app.route('/user/<username>')\n",
    "def show_user(username):\n",
    "    return f'Hello, {username}!'\n",
    "\n",
    "# You can also capture integers:\n",
    "@app.route('/post/<int:post_id>')\n",
    "def show_post(post_id):\n",
    "    return f'Post ID: {post_id}'\n",
    "\n",
    "# Flask passes the URL parameter as an argument to the view function."
   ]
  }
 ],
 "metadata": {
  "kernelspec": {
   "display_name": "base",
   "language": "python",
   "name": "python3"
  },
  "language_info": {
   "codemirror_mode": {
    "name": "ipython",
    "version": 3
   },
   "file_extension": ".py",
   "mimetype": "text/x-python",
   "name": "python",
   "nbconvert_exporter": "python",
   "pygments_lexer": "ipython3",
   "version": "3.12.7"
  }
 },
 "nbformat": 4,
 "nbformat_minor": 5
}
