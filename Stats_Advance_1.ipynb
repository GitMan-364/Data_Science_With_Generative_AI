{
 "cells": [
  {
   "cell_type": "markdown",
   "id": "931cca6e",
   "metadata": {},
   "source": [
    "# Theory Questions"
   ]
  },
  {
   "cell_type": "markdown",
   "id": "40c796a4",
   "metadata": {},
   "source": [
    "1. What is a random variable in probability theory ?\n",
    "\n",
    "    - A random variable is a function that assigns numerical values to the outcomes of a random experiment.\n",
    "\n",
    "        - It can be discrete or continuous.\n",
    "\n",
    "        - It helps quantify uncertain outcomes.\n",
    "\n",
    "        - Denoted usually by X, Y, etc.\n",
    "\n",
    "        - Example: Rolling a die (X = outcome)."
   ]
  },
  {
   "cell_type": "markdown",
   "id": "d07b6c96",
   "metadata": {},
   "source": [
    "2. What are the types of random variables ?\n",
    "\n",
    "    -  Types of **Random Variables** :- \n",
    "\n",
    "        - *Discrete Random Variable*: Takes countable values (e.g., 1, 2, 3).\n",
    "\n",
    "        - *Continuous Random Variable*: Takes any value within a range (e.g., height, weight)."
   ]
  },
  {
   "cell_type": "markdown",
   "id": "a9bb9b4c",
   "metadata": {},
   "source": [
    "3. What is the difference between discrete and continuous distributions ?\n",
    "\n",
    "    - **Difference between discrete & continuous distributions :-**\n",
    "\n",
    "        - *Discrete*: Probability is assigned to specific values.\n",
    "\n",
    "        - *Continuous*: Probability is assigned over intervals.\n",
    "\n",
    "        - *Discrete* uses PMF; *continuous* uses PDF.\n",
    "\n",
    "        - *Discrete example*: Dice roll; *Continuous example*: Temperature."
   ]
  },
  {
   "cell_type": "markdown",
   "id": "fc2b8666",
   "metadata": {},
   "source": [
    "4.  What are probability distribution functions (PDF) ?\n",
    "\n",
    "    - **PDF** describes the likelihood of a continuous random variable taking a value.\n",
    "\n",
    "        - Area under the curve = 1\n",
    "\n",
    "        - Cannot be negative\n",
    "\n",
    "        - Shows density, not actual probability\n",
    "\n",
    "        - Used with continuous variables"
   ]
  },
  {
   "cell_type": "markdown",
   "id": "d0ef5b2e",
   "metadata": {},
   "source": [
    "5. How do cumulative distribution functions (CDF) differ from probability distribution functions (PDF) ?\n",
    "\n",
    "    - CDFs are different from PDFs as :-\n",
    "\n",
    "        - **PDF** gives probability density.\n",
    "\n",
    "        - **CDF** gives cumulative probability up to a value.\n",
    "\n",
    "        - **CDF** is always increasing; **PDF** can increase/decrease.\n",
    "\n",
    "        - **CDF** helps find probability over ranges."
   ]
  },
  {
   "cell_type": "markdown",
   "id": "e833fdc9",
   "metadata": {},
   "source": [
    "6. What is a discrete uniform distribution ?\n",
    "\n",
    "    - A **discrete uniform distribution** is a probability distribution where all possible outcomes are **equally likely**.\n",
    "\n",
    "        - The outcomes are **finite and countable**.\n",
    "\n",
    "        - Each value has a **probability of 1/n**, where n is the number of outcomes.\n",
    "\n",
    "        - The graph is flat, as all outcomes have the same height.\n",
    "\n",
    "        - *Example*: Rolling a fair 6-sided die — P(1) = P(2) = … = P(6) = 1/6.\n",
    "\n",
    "        - It is used in modeling **random and unbiased events**."
   ]
  },
  {
   "cell_type": "markdown",
   "id": "9ce0063e",
   "metadata": {},
   "source": [
    "7. What are the key properties of a Bernoulli distribution ?\n",
    "\n",
    "    - Key properties of a **Bernoulli Distribution** are :-\n",
    "\n",
    "        - Two outcomes: success (1) or failure (0)\n",
    "\n",
    "        - One trial\n",
    "\n",
    "        - Mean = p, Variance = p(1-p)\n",
    "\n",
    "        - Used in binary processes like yes/no, true/false"
   ]
  },
  {
   "cell_type": "markdown",
   "id": "1f24c12b",
   "metadata": {},
   "source": [
    "8. What is the binomial distribution, and how is it used in probability ?\n",
    "\n",
    "    - The **binomial distribution** models the number of **successes** in a fixed number of **independent trials**, each with the **same probability of success**.\n",
    "\n",
    "        - Multiple Bernoulli trials (n trials)\n",
    "\n",
    "        - Fixed probability p\n",
    "\n",
    "        - Probability Mass Function (PMF): P(X = k) = C(n, k)p^k(1−p)^(n−k)\n",
    "\n",
    "        - Used in quality control, survey responses, **ass/fail, yes/no** type problems\n",
    "\n",
    "        - *Example*: Tossing a coin 5 times and counting heads.\n"
   ]
  },
  {
   "cell_type": "markdown",
   "id": "a0937aaf",
   "metadata": {},
   "source": [
    "9. What is the Poisson distribution and where is it applied ?\n",
    "\n",
    "    - The **Poisson distribution** is used to model the number of **rare or random events** occurring in a fixed interval of **time or space**.\n",
    "\n",
    "        - It models number of events in a fixed interval\n",
    "\n",
    "        - Used when events are rare and independent\n",
    "\n",
    "        - Parameter: λ (mean rate)\n",
    "\n",
    "        - Applied in call centers, traffic, queues"
   ]
  },
  {
   "cell_type": "markdown",
   "id": "07d58b03",
   "metadata": {},
   "source": [
    "10. What is a continuous uniform distribution ?\n",
    "\n",
    "    - A **continuous uniform distribution** assigns equal probability to all values in a **continuous interval [a, b]**.\n",
    "\n",
    "        - Equal probability across an interval [a, b]\n",
    "\n",
    "        - Probability Density Function (PDF): f(x) = 1 / (b - a)\n",
    "\n",
    "        - Mean = (a + b)/2, Variance = (b - a)²/12\n",
    "\n",
    "        - Example: Random time arrival within 1–5 minutes"
   ]
  },
  {
   "cell_type": "markdown",
   "id": "086d1373",
   "metadata": {},
   "source": [
    "11. What are the characteristics of a normal distribution ?\n",
    "\n",
    "    - Following are the characteristics of a *normal distribution* :-\n",
    "\n",
    "        - Bell-shaped and symmetric\n",
    "\n",
    "        - Mean = Median = Mode\n",
    "\n",
    "        - Defined by mean (μ) and std. dev. (σ)\n",
    "\n",
    "        - Total area under curve = 1\n",
    "\n",
    "        - 68%-95%-99.7% rule"
   ]
  },
  {
   "cell_type": "markdown",
   "id": "c4b28847",
   "metadata": {},
   "source": [
    "12. What is the standard normal distribution, and why is it important ?\n",
    "\n",
    "    - The **standard normal distribution** is a special case of the normal distribution with:\n",
    "\n",
    "        - Mean (μ) = 0\n",
    "\n",
    "        - Standard deviation (σ) = 1\n",
    "\n",
    "        - It is *symmetric* and *bell-shaped*.\n",
    "\n",
    "        **Importance** :-\n",
    "\n",
    "        - Used to compute Z-scores\n",
    "\n",
    "        - Makes calculations easier\n",
    "\n",
    "        - Basis for many statistical tests"
   ]
  },
  {
   "cell_type": "markdown",
   "id": "b7642353",
   "metadata": {},
   "source": [
    "13. What is the Central Limit Theorem (CLT), and why is it critical in statistics ?\n",
    "\n",
    "    - The **Central Limit Theorem** is a fundamental principle in statistics. It states:\n",
    "\n",
    "        *When random samples of sufficiently large size (n ≥ 30) are taken from any population, the **sampling distribution of the sample mean** will be **approximately normal**, regardless of the original population distribution.*\n",
    "\n",
    "        So, in short, CLT...\n",
    "\n",
    "        - Says sample means approach normality as sample size increases\n",
    "\n",
    "        - True even if population is not normal\n",
    "\n",
    "        - Allows use of normal distribution for inference\n",
    "\n",
    "        - Fundamental to hypothesis testing and confidence intervals"
   ]
  },
  {
   "cell_type": "markdown",
   "id": "c0d46ed4",
   "metadata": {},
   "source": [
    "14. How does the Central Limit Theorem relate to the normal distribution ?\n",
    "\n",
    "    - Central Limit Theorem relates to the normal distribution as :-\n",
    "\n",
    "        - Ensures sample mean follows normal distribution\n",
    "\n",
    "        - Justifies normal approximation\n",
    "\n",
    "        - Enables use of Z-tests\n",
    "\n",
    "        - Key to inferential statistics"
   ]
  },
  {
   "cell_type": "markdown",
   "id": "4e239875",
   "metadata": {},
   "source": [
    "15. What is the application of Z statistics in hypothesis testing ?\n",
    "\n",
    "    - *Application of Z statistics in hypothesis testing :-*\n",
    "\n",
    "        - Used to test population mean when σ is known\n",
    "\n",
    "        - Helps compute p-values\n",
    "\n",
    "        - Z = (X̄ − μ) / (σ/√n)\n",
    "\n",
    "        - Used in large samples (n ≥ 30)"
   ]
  },
  {
   "cell_type": "markdown",
   "id": "39238168",
   "metadata": {},
   "source": [
    "16. How do you calculate a Z-score, and what does it represent ?\n",
    "\n",
    "    - Formula: Z = (X − μ) / σ\n",
    "\n",
    "        - Shows how far a value is from the mean\n",
    "\n",
    "        - Positive = above mean; Negative = below\n",
    "\n",
    "    - Helps compare different data sets"
   ]
  },
  {
   "cell_type": "markdown",
   "id": "188ce6d0",
   "metadata": {},
   "source": [
    "17. What are point estimates and interval estimates in statistics ?\n",
    "\n",
    "    - Point Estimate: Single value (e.g., sample mean)\n",
    "\n",
    "    - Interval Estimate: Range with confidence (e.g., 95% CI)\n",
    "\n",
    "        - Interval is more reliable\n",
    "\n",
    "        - Used in decision-making \n"
   ]
  },
  {
   "cell_type": "markdown",
   "id": "7e390cae",
   "metadata": {},
   "source": [
    "18. What is the significance of confidence intervals in statistical analysis ?\n",
    "\n",
    "    - *Significance of confidence intervals in statistical analysis :-*\n",
    "\n",
    "        - Provide range likely to contain true parameter\n",
    "\n",
    "        - Indicate precision of estimate\n",
    "\n",
    "        - Usually 95% or 99% confidence\n",
    "\n",
    "        - Wider interval = less certainty"
   ]
  },
  {
   "cell_type": "markdown",
   "id": "03887e0a",
   "metadata": {},
   "source": [
    "19. What is the relationship between a Z-score and a confidence interval ?\n",
    "\n",
    "    - Relationship between a **Z-score** and a **confidence interval (CI)** :-\n",
    "\n",
    "        - Z-scores determine CI bounds\n",
    "\n",
    "        - E.g., for 95% CI, Z = ±1.96\n",
    "\n",
    "        - CI = X̄ ± Z * (σ/√n)\n",
    "\n",
    "        - Higher Z → wider interval"
   ]
  },
  {
   "cell_type": "markdown",
   "id": "e8a1c208",
   "metadata": {},
   "source": [
    "20. How are Z-scores used to compare different distributions ?\n",
    "\n",
    "    - Z-scores compare different distributions as :-\n",
    "\n",
    "        - They standardizes values from different datasets\n",
    "\n",
    "        - Removes unit differences\n",
    "\n",
    "        - Z > 0 means above mean; Z < 0 below\n",
    "\n",
    "        - Useful for ranking or identifying outliers"
   ]
  },
  {
   "cell_type": "markdown",
   "id": "10abd003",
   "metadata": {},
   "source": [
    "21. What are the assumptions for applying the Central Limit Theorem ?\n",
    "\n",
    "    - Assumptions for applying the **Central Limit Theorem** are :-\n",
    "\n",
    "        - Random, independent samples\n",
    "\n",
    "        - Sample size ≥ 30 (for non-normal population)\n",
    "\n",
    "        - Finite mean and variance\n",
    "\n",
    "        - Identically distributed variables"
   ]
  },
  {
   "cell_type": "markdown",
   "id": "cf500473",
   "metadata": {},
   "source": [
    "22. What is the concept of expected value in a probability distribution ?\n",
    "\n",
    "    - The **expected value (E[X])** is the **long-run average outcome** of a random variable over many trials.\n",
    "\n",
    "        - Long-run average outcome\n",
    "\n",
    "        - *E(X)* = Σ [x * P(x)] for discrete\n",
    "\n",
    "        - *E(X)* = ∫ x f(x) dx for continuous\n",
    "\n",
    "        - Represents the mean of the distribution"
   ]
  },
  {
   "cell_type": "markdown",
   "id": "0b215d6f",
   "metadata": {},
   "source": [
    "23. How does a probability distribution relate to the expected outcome of a random variable ?\n",
    "\n",
    "    - *Probability distribution relates to the expected outcome of a random variable as :-*\n",
    "\n",
    "        - Probability distribution defines all possible outcomes\n",
    "\n",
    "        - Expected value is the weighted average using the distribution\n",
    "\n",
    "        - Shows center of distribution\n",
    "\n",
    "        - Helps predict long-run behavior\n",
    "\n"
   ]
  }
 ],
 "metadata": {
  "kernelspec": {
   "display_name": "base",
   "language": "python",
   "name": "python3"
  },
  "language_info": {
   "name": "python",
   "version": "3.12.7"
  }
 },
 "nbformat": 4,
 "nbformat_minor": 5
}
