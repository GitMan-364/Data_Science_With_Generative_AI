{
 "cells": [
  {
   "cell_type": "markdown",
   "id": "f1f9e817",
   "metadata": {},
   "source": [
    "# Theory Questions"
   ]
  },
  {
   "cell_type": "markdown",
   "id": "8af841d0",
   "metadata": {},
   "source": [
    "1. What is hypothesis testing in statistics ?\n",
    "\n",
    "    - Hypothesis testing is a statistical method used to make decisions or inferences about population parameters using sample data. It involves forming two hypotheses: the null hypothesis (H₀) and the alternative hypothesis (H₁), collecting data, and using a test to determine whether to reject H₀ in favor of H₁."
   ]
  },
  {
   "cell_type": "markdown",
   "id": "9258f562",
   "metadata": {},
   "source": [
    "2. What is the null hypothesis, and how does it differ from the alternative hypothesis ?\n",
    "\n",
    "    - The null hypothesis (H₀) states there is no effect or difference, while the alternative hypothesis (H₁) claims there is an effect or difference. For example, H₀: \"There is no difference in means\" vs. H₁: \"There is a difference in means\"."
   ]
  },
  {
   "cell_type": "markdown",
   "id": "a4579018",
   "metadata": {},
   "source": [
    "3. What is the significance level in hypothesis testing, and why is it important ?\n",
    "\n",
    "    - The significance level (denoted as α) is the probability of rejecting the null hypothesis when it is actually true. Common values are 0.05 or 0.01. It sets the threshold for determining statistical significance and helps control Type 1 error."
   ]
  },
  {
   "cell_type": "markdown",
   "id": "5f4ace58",
   "metadata": {},
   "source": [
    "4. What does a P-value represent in hypothesis testing ?\n",
    "\n",
    "    - The P-value is the probability of observing a test statistic as extreme as the one observed, assuming the null hypothesis is true. It helps in deciding whether to reject H₀."
   ]
  },
  {
   "cell_type": "markdown",
   "id": "e385c656",
   "metadata": {},
   "source": [
    "5. How do you interpret the P-value in hypothesis testing ? \n",
    "\n",
    "    - If P-value ≤ α: reject H₀ (significant result)\n",
    "\n",
    "    - If P-value > α: fail to reject H₀ (not significant)\n",
    "        \n",
    "        It quantifies the strength of evidence against H₀."
   ]
  },
  {
   "cell_type": "markdown",
   "id": "d000f736",
   "metadata": {},
   "source": [
    "6. What are Type 1 and Type 2 errors in hypothesis testing ? \n",
    "\n",
    "    - Type 1 Error: Rejecting H₀ when it’s true (false positive)\n",
    "\n",
    "    - Type 2 Error: Not rejecting H₀ when it’s false (false negative)\n",
    "\n",
    "        Reducing one typically increases the other."
   ]
  },
  {
   "cell_type": "markdown",
   "id": "4f87a920",
   "metadata": {},
   "source": [
    "7. What is the difference between a one-tailed and a two-tailed test in hypothesis testing ?\n",
    "\n",
    "    - One-tailed tests look for an effect in one direction only (e.g., > or <).\n",
    "\n",
    "    - Two-tailed tests consider both directions (≠).\n",
    "\n",
    "        The choice depends on the research question."
   ]
  },
  {
   "cell_type": "markdown",
   "id": "883930f9",
   "metadata": {},
   "source": [
    "8. What is the Z-test, and when is it used in hypothesis testing ?\n",
    "\n",
    "    - A Z-test is used to compare sample and population means when the population standard deviation is known and the sample size is large (n > 30). It helps determine if the sample mean is significantly different."
   ]
  },
  {
   "cell_type": "markdown",
   "id": "08166daf",
   "metadata": {},
   "source": [
    "9. How do you calculate the Z-score, and what does it represent in hypothesis testing ?\n",
    "\n",
    "    - Z = (X - μ) / σ\n",
    "        \n",
    "        It measures how many standard deviations a value X is from the mean μ. In testing, it helps determine significance."
   ]
  },
  {
   "cell_type": "markdown",
   "id": "0c2b2070",
   "metadata": {},
   "source": [
    "10. What is the T-distribution, and when should it be used instead of the normal distribution ?\n",
    "\n",
    "    - The T-distribution is used instead of the normal distribution when sample sizes are small (n < 30) and the population standard deviation is unknown. It's wider to account for variability."
   ]
  },
  {
   "cell_type": "markdown",
   "id": "dbc956f3",
   "metadata": {},
   "source": [
    "11. What is the difference between a Z-test and a T-test ?\n",
    "\n",
    "    - Z-test: known σ, large n\n",
    "\n",
    "    - T-test: unknown σ, small n\n",
    "        \n",
    "        Both test mean differences but under different conditions."
   ]
  },
  {
   "cell_type": "markdown",
   "id": "83d03cd0",
   "metadata": {},
   "source": [
    "12. What is the T-test, and how is it used in hypothesis testing ?\n",
    "\n",
    "    - The T-test is used to determine if there’s a significant difference between sample means or between a sample mean and a known value. Types include one-sample, two-sample (independent), and paired T-tests."
   ]
  },
  {
   "cell_type": "markdown",
   "id": "3aa3a61a",
   "metadata": {},
   "source": [
    "13. What is the relationship between Z-test and T-test in hypothesis testing ?\n",
    "\n",
    "    - Both are parametric tests for mean comparison. The Z-test is a special case of the T-test when the sample size is large and σ is known."
   ]
  },
  {
   "cell_type": "markdown",
   "id": "18525d67",
   "metadata": {},
   "source": [
    "14. What is a confidence interval, and how is it used to interpret statistical results ?\n",
    "\n",
    "    - A confidence interval gives a range of plausible values for a population parameter. For example, a 95% CI means we are 95% confident the true value lies within that range."
   ]
  },
  {
   "cell_type": "markdown",
   "id": "c1741e96",
   "metadata": {},
   "source": [
    "15. What is the margin of error, and how does it affect the confidence interval ?\n",
    "\n",
    "    - It is the range around a sample estimate that is likely to contain the population parameter. A larger margin = less precision. It is affected by confidence level and sample size."
   ]
  },
  {
   "cell_type": "markdown",
   "id": "fc64671c",
   "metadata": {},
   "source": [
    "16. How is Bayes' Theorem used in statistics, and what is its significance ?\n",
    "\n",
    "    - Bayes' Theorem helps update the probability of a hypothesis based on new evidence. It’s useful in spam detection, medical testing, etc."
   ]
  },
  {
   "cell_type": "markdown",
   "id": "f938a231",
   "metadata": {},
   "source": [
    "17. What is the Chi-square distribution, and when is it used ?\n",
    "\n",
    "    - It is used to test the relationship between categorical variables and for goodness-of-fit tests. It compares observed and expected frequencies."
   ]
  },
  {
   "cell_type": "markdown",
   "id": "2a42b1f9",
   "metadata": {},
   "source": [
    "18. What is the Chi-square goodness of fit test, and how is it applied ?\n",
    "\n",
    "    - This test checks how well observed data fit a theoretical distribution. It helps determine whether a sample matches the expected distribution."
   ]
  },
  {
   "cell_type": "markdown",
   "id": "dadf4d98",
   "metadata": {},
   "source": [
    "19. What is the F-distribution, and when is it used in hypothesis testing ?\n",
    "\n",
    "    - F-distribution is used to compare variances of two populations, commonly in ANOVA and F-tests."
   ]
  },
  {
   "cell_type": "markdown",
   "id": "1f051f03",
   "metadata": {},
   "source": [
    "20. What is an ANOVA test, and what are its assumptions ?\n",
    "\n",
    "    - ANOVA (Analysis of Variance) tests differences between 3 or more group means. Assumes independence, normality, and equal variances."
   ]
  },
  {
   "cell_type": "markdown",
   "id": "51c8cb81",
   "metadata": {},
   "source": [
    "21. What are the different types of ANOVA tests ?\n",
    "\n",
    "    - One-way ANOVA: one factor\n",
    "\n",
    "    - Two-way ANOVA: two factors\n",
    "\n",
    "    - Repeated Measures ANOVA: same subjects tested under different conditions"
   ]
  },
  {
   "cell_type": "markdown",
   "id": "9f2c9f30",
   "metadata": {},
   "source": [
    "22. What is the F-test, and how does it relate to hypothesis testing ?\n",
    "\n",
    "    - An F-test compares two variances or multiple group means (via ANOVA). It helps determine whether group variances are equal."
   ]
  },
  {
   "cell_type": "markdown",
   "id": "e89b2d14",
   "metadata": {},
   "source": [
    "# Practical Questions (Part 1)"
   ]
  },
  {
   "cell_type": "code",
   "execution_count": null,
   "id": "998b745f",
   "metadata": {},
   "outputs": [],
   "source": [
    "# 1. Write a Python program to generate a random variable and display its value.\n",
    "\n",
    "import numpy as np\n",
    "\n",
    "# Generate a single random variable between 0 and 1\n",
    "random_var = np.random.rand()\n",
    "print(\"Random Variable:\", random_var)\n"
   ]
  },
  {
   "cell_type": "code",
   "execution_count": null,
   "id": "c7716cf5",
   "metadata": {},
   "outputs": [],
   "source": [
    "# 2. Generate a discrete uniform distribution using Python and plot the probability mass function (PMF).\n",
    "\n",
    "import numpy as np\n",
    "import matplotlib.pyplot as plt\n",
    "from scipy.stats import bernoulli, binom, poisson, uniform, norm, zscore, ttest_ind, ttest_rel, chi2_contingency\n",
    "\n",
    "# Discrete uniform values (e.g., dice outcomes)\n",
    "values = [1, 2, 3, 4, 5, 6]\n",
    "probability = [1/6] * 6  # Equal probability for each value\n",
    "\n",
    "plt.stem(values, probability, use_line_collection=True)\n",
    "plt.title(\"Discrete Uniform Distribution - PMF\")\n",
    "plt.xlabel(\"Value\")\n",
    "plt.ylabel(\"Probability\")\n",
    "plt.grid(True)\n",
    "plt.show()\n"
   ]
  },
  {
   "cell_type": "code",
   "execution_count": null,
   "id": "1f93541a",
   "metadata": {},
   "outputs": [],
   "source": [
    "# 3. Write a Python function to calculate the probability distribution function (PDF) of a Bernoulli distribution.\n",
    "\n",
    "from scipy.stats import bernoulli\n",
    "\n",
    "def bernoulli_pdf(p, x):\n",
    "    return bernoulli.pmf(x, p)\n",
    "\n",
    "# Example\n",
    "print(\"PDF:\", bernoulli_pdf(0.6, 1))\n"
   ]
  },
  {
   "cell_type": "code",
   "execution_count": null,
   "id": "b2a684fd",
   "metadata": {},
   "outputs": [],
   "source": [
    "# 4. Write a Python script to simulate a binomial distribution with n=10 and p=0.5, then plot its histogram.\n",
    "\n",
    "from scipy.stats import binom\n",
    "\n",
    "data = binom.rvs(n=10, p=0.5, size=1000)\n",
    "\n",
    "plt.hist(data, bins=10, edgecolor='black')\n",
    "plt.title(\"Binomial Distribution (n=10, p=0.5)\")\n",
    "plt.xlabel(\"Outcomes\")\n",
    "plt.ylabel(\"Frequency\")\n",
    "plt.show()\n"
   ]
  },
  {
   "cell_type": "code",
   "execution_count": null,
   "id": "128de867",
   "metadata": {},
   "outputs": [],
   "source": [
    "# 5. Create a Poisson distribution and visualize it using Python.\n",
    "\n",
    "from scipy.stats import poisson\n",
    "\n",
    "poisson_data = poisson.rvs(mu=3, size=1000)\n",
    "\n",
    "plt.hist(poisson_data, bins=15, edgecolor='black')\n",
    "plt.title(\"Poisson Distribution (λ=3)\")\n",
    "plt.xlabel(\"Value\")\n",
    "plt.ylabel(\"Frequency\")\n",
    "plt.show()\n"
   ]
  },
  {
   "cell_type": "code",
   "execution_count": null,
   "id": "f321ad3e",
   "metadata": {},
   "outputs": [],
   "source": [
    "# 6.  Write a Python program to calculate and plot the cumulative distribution function (CDF) of a discrete uniform distribution.\n",
    "\n",
    "import numpy as np\n",
    "\n",
    "values = np.array([1, 2, 3, 4, 5, 6])\n",
    "probability = np.array([1/6]*6)\n",
    "cdf = np.cumsum(probability)\n",
    "\n",
    "plt.step(values, cdf, where='post')\n",
    "plt.title(\"CDF of Discrete Uniform Distribution\")\n",
    "plt.xlabel(\"Value\")\n",
    "plt.ylabel(\"Cumulative Probability\")\n",
    "plt.grid(True)\n",
    "plt.show()\n"
   ]
  },
  {
   "cell_type": "code",
   "execution_count": null,
   "id": "55bdc6b2",
   "metadata": {},
   "outputs": [],
   "source": [
    "# 7. Generate a continuous uniform distribution using NumPy and visualize it.\n",
    "\n",
    "data = np.random.uniform(low=0, high=1, size=1000)\n",
    "\n",
    "plt.hist(data, bins=20, edgecolor='black')\n",
    "plt.title(\"Continuous Uniform Distribution\")\n",
    "plt.xlabel(\"Value\")\n",
    "plt.ylabel(\"Frequency\")\n",
    "plt.show()\n"
   ]
  },
  {
   "cell_type": "code",
   "execution_count": null,
   "id": "5848d115",
   "metadata": {},
   "outputs": [],
   "source": [
    "# 8. Simulate data from a normal distribution and plot its histogram.\n",
    "\n",
    "normal_data = np.random.normal(loc=0, scale=1, size=1000)\n",
    "\n",
    "plt.hist(normal_data, bins=30, edgecolor='black')\n",
    "plt.title(\"Normal Distribution (mean=0, std=1)\")\n",
    "plt.xlabel(\"Value\")\n",
    "plt.ylabel(\"Frequency\")\n",
    "plt.show()\n"
   ]
  },
  {
   "cell_type": "code",
   "execution_count": null,
   "id": "64a33a45",
   "metadata": {},
   "outputs": [],
   "source": [
    "# 9. Write a Python function to calculate Z-scores from a dataset and plot them.\n",
    "\n",
    "from scipy.stats import zscore\n",
    "\n",
    "def plot_z_scores(data):\n",
    "    z_scores = zscore(data)\n",
    "    plt.plot(z_scores)\n",
    "    plt.title(\"Z-scores of Dataset\")\n",
    "    plt.xlabel(\"Index\")\n",
    "    plt.ylabel(\"Z-score\")\n",
    "    plt.grid(True)\n",
    "    plt.show()\n",
    "\n",
    "# Example\n",
    "plot_z_scores(normal_data)\n"
   ]
  },
  {
   "cell_type": "code",
   "execution_count": null,
   "id": "41c58e99",
   "metadata": {},
   "outputs": [],
   "source": [
    "# 10. Implement the Central Limit Theorem (CLT) using Python for a non-normal distribution.\n",
    "\n",
    "# Non-normal (exponential) population\n",
    "population = np.random.exponential(scale=2, size=10000)\n",
    "\n",
    "# Take 1000 sample means of size 30\n",
    "sample_means = [np.mean(np.random.choice(population, size=30)) for _ in range(1000)]\n",
    "\n",
    "plt.hist(sample_means, bins=30, edgecolor='black')\n",
    "plt.title(\"Central Limit Theorem (Exponential Population)\")\n",
    "plt.xlabel(\"Sample Mean\")\n",
    "plt.ylabel(\"Frequency\")\n",
    "plt.show()\n"
   ]
  },
  {
   "cell_type": "code",
   "execution_count": null,
   "id": "b7bd40c1",
   "metadata": {},
   "outputs": [],
   "source": [
    "# 11. Simulate multiple samples from a normal distribution and verify the Central Limit Theorem.\n",
    "\n",
    "sample_means = [np.mean(np.random.normal(loc=50, scale=10, size=30)) for _ in range(1000)]\n",
    "\n",
    "plt.hist(sample_means, bins=30, edgecolor='black')\n",
    "plt.title(\"CLT Verification using Normal Distribution\")\n",
    "plt.xlabel(\"Sample Mean\")\n",
    "plt.ylabel(\"Frequency\")\n",
    "plt.show()\n"
   ]
  },
  {
   "cell_type": "code",
   "execution_count": null,
   "id": "d4bb6ad9",
   "metadata": {},
   "outputs": [],
   "source": [
    "# 12. Write a Python function to calculate and plot the standard normal distribution (mean = 0, std = 1).\n",
    "\n",
    "x = np.linspace(-4, 4, 1000)\n",
    "y = norm.pdf(x, loc=0, scale=1)\n",
    "\n",
    "plt.plot(x, y)\n",
    "plt.title(\"Standard Normal Distribution (PDF)\")\n",
    "plt.xlabel(\"Z-score\")\n",
    "plt.ylabel(\"Probability Density\")\n",
    "plt.grid(True)\n",
    "plt.show()\n"
   ]
  },
  {
   "cell_type": "code",
   "execution_count": null,
   "id": "8eccda22",
   "metadata": {},
   "outputs": [],
   "source": [
    "# 13. Generate random variables and calculate their corresponding probabilities using the binomial distribution.\n",
    "\n",
    "k_values = np.arange(11)\n",
    "binom_probs = binom.pmf(k=k_values, n=10, p=0.5)\n",
    "print(\"Binomial probabilities:\", binom_probs)\n"
   ]
  },
  {
   "cell_type": "code",
   "execution_count": null,
   "id": "10b1f019",
   "metadata": {},
   "outputs": [],
   "source": [
    "# 14. Write a Python program to calculate the Z-score for a given data point and compare it to a standard normal distribution.\n",
    "\n",
    "data_point = 72\n",
    "mean = 70\n",
    "std_dev = 5\n",
    "\n",
    "z_score = (data_point - mean) / std_dev\n",
    "print(\"Z-score:\", z_score)\n"
   ]
  },
  {
   "cell_type": "code",
   "execution_count": null,
   "id": "9d06d88b",
   "metadata": {},
   "outputs": [],
   "source": [
    "# 15. Implement hypothesis testing using Z-statistics for a sample dataset.\n",
    "\n",
    "sample_data = np.random.normal(loc=70, scale=5, size=30)\n",
    "sample_mean = np.mean(sample_data)\n",
    "z_stat = (sample_mean - 70) / (5 / np.sqrt(30))\n",
    "print(\"Z-statistic:\", z_stat)\n"
   ]
  },
  {
   "cell_type": "code",
   "execution_count": null,
   "id": "d8f99c89",
   "metadata": {},
   "outputs": [],
   "source": [
    "# 16. Create a confidence interval for a dataset using Python and interpret the result.\n",
    "\n",
    "sem = 5 / np.sqrt(30)\n",
    "ci_lower = sample_mean - 1.96 * sem\n",
    "ci_upper = sample_mean + 1.96 * sem\n",
    "print(\"95% Confidence Interval:\", (ci_lower, ci_upper))\n"
   ]
  },
  {
   "cell_type": "code",
   "execution_count": null,
   "id": "9eb62389",
   "metadata": {},
   "outputs": [],
   "source": [
    "# 17. Generate data from a normal distribution, then calculate and interpret the confidence interval for its mean.\n",
    "\n",
    "data = np.random.normal(loc=60, scale=10, size=50)\n",
    "mean = np.mean(data)\n",
    "sem = np.std(data) / np.sqrt(len(data))\n",
    "ci = (mean - 1.96*sem, mean + 1.96*sem)\n",
    "print(\"CI for normal data:\", ci)\n"
   ]
  },
  {
   "cell_type": "code",
   "execution_count": null,
   "id": "59156015",
   "metadata": {},
   "outputs": [],
   "source": [
    "# 18. Write a Python script to calculate and visualize the probability density function (PDF) of a normal distribution.\n",
    "\n",
    "x = np.linspace(-4, 4, 1000)\n",
    "y = norm.pdf(x)\n",
    "\n",
    "plt.plot(x, y)\n",
    "plt.title(\"Normal Distribution PDF\")\n",
    "plt.xlabel(\"Value\")\n",
    "plt.ylabel(\"Probability Density\")\n",
    "plt.grid(True)\n",
    "plt.show()\n"
   ]
  },
  {
   "cell_type": "code",
   "execution_count": null,
   "id": "f1053c71",
   "metadata": {},
   "outputs": [],
   "source": [
    "# 19. Use Python to calculate and interpret the cumulative distribution function (CDF) of a Poisson distribution.\n",
    "\n",
    "x = np.arange(0, 10)\n",
    "cdf = poisson.cdf(x, mu=3)\n",
    "\n",
    "plt.step(x, cdf, where='mid')\n",
    "plt.title(\"Poisson CDF (λ=3)\")\n",
    "plt.xlabel(\"x\")\n",
    "plt.ylabel(\"Cumulative Probability\")\n",
    "plt.grid(True)\n",
    "plt.show()\n"
   ]
  },
  {
   "cell_type": "code",
   "execution_count": null,
   "id": "b8d81a4d",
   "metadata": {},
   "outputs": [],
   "source": [
    "# 20. Simulate a random variable using a continuous uniform distribution and calculate its expected value.\n",
    "\n",
    "data = np.random.uniform(low=0, high=10, size=1000)\n",
    "expected_value = np.mean(data)\n",
    "print(\"Expected Value:\", expected_value)\n"
   ]
  },
  {
   "cell_type": "code",
   "execution_count": null,
   "id": "287b19d7",
   "metadata": {},
   "outputs": [],
   "source": [
    "# 21. Write a Python program to compare the standard deviations of two datasets and visualize the difference.\n",
    "\n",
    "a = np.random.normal(0, 1, 100)\n",
    "b = np.random.normal(0, 2, 100)\n",
    "\n",
    "plt.boxplot([a, b], labels=[\"Dataset A\", \"Dataset B\"])\n",
    "plt.title(\"Standard Deviation Comparison\")\n",
    "plt.show()\n"
   ]
  },
  {
   "cell_type": "code",
   "execution_count": null,
   "id": "6bd4f99c",
   "metadata": {},
   "outputs": [],
   "source": [
    "# 22. Calculate the range and interquartile range (IQR) of a dataset generated from a normal distribution.\n",
    "\n",
    "data = np.random.normal(0, 1, 100)\n",
    "range_val = np.ptp(data)\n",
    "iqr_val = np.percentile(data, 75) - np.percentile(data, 25)\n",
    "\n",
    "print(\"Range:\", range_val)\n",
    "print(\"IQR:\", iqr_val)\n"
   ]
  },
  {
   "cell_type": "code",
   "execution_count": null,
   "id": "7407d942",
   "metadata": {},
   "outputs": [],
   "source": [
    "# 23. Implement Z-score normalization on a dataset and visualize its transformation.\n",
    "\n",
    "normalized_data = zscore(data)\n",
    "\n",
    "plt.hist(normalized_data, bins=30, edgecolor='black')\n",
    "plt.title(\"Z-score Normalized Data\")\n",
    "plt.xlabel(\"Z-score\")\n",
    "plt.ylabel(\"Frequency\")\n",
    "plt.show()\n"
   ]
  },
  {
   "cell_type": "code",
   "execution_count": null,
   "id": "4816c703",
   "metadata": {},
   "outputs": [],
   "source": [
    "# 24. Write a Python function to calculate the skewness and kurtosis of a dataset generated from a normal distribution.\n",
    "\n",
    "from scipy.stats import skew, kurtosis\n",
    "\n",
    "print(\"Skewness:\", skew(data))\n",
    "print(\"Kurtosis:\", kurtosis(data))\n",
    "    "
   ]
  },
  {
   "cell_type": "markdown",
   "id": "c0c910e7",
   "metadata": {},
   "source": [
    "# Practical Questions (Part 2)"
   ]
  },
  {
   "cell_type": "code",
   "execution_count": null,
   "id": "43acc6c2",
   "metadata": {},
   "outputs": [],
   "source": [
    "# 1. Write a Python program to perform a Z-test for comparing a sample mean to a known population mean and interpret the results.\n",
    "\n",
    "from scipy.stats import norm\n",
    "\n",
    "sample = np.random.normal(loc=52, scale=5, size=30)\n",
    "sample_mean = np.mean(sample)\n",
    "pop_mean = 50\n",
    "std_dev = 5\n",
    "z = (sample_mean - pop_mean) / (std_dev / np.sqrt(len(sample)))\n",
    "p_value = 2 * (1 - norm.cdf(abs(z)))\n",
    "\n",
    "print(\"Z-statistic:\", z)\n",
    "print(\"P-value:\", p_value)\n",
    "\n",
    "if p_value < 0.05:\n",
    "    print(\"Reject the null hypothesis.\")\n",
    "else:\n",
    "    print(\"Fail to reject the null hypothesis.\")\n",
    "    "
   ]
  },
  {
   "cell_type": "code",
   "execution_count": null,
   "id": "be30453d",
   "metadata": {},
   "outputs": [],
   "source": [
    "# 2. Simulate random data to perform hypothesis testing and calculate the corresponding P-value using Python. \n",
    "\n",
    "data = np.random.normal(loc=100, scale=15, size=40)\n",
    "z_stat = (np.mean(data) - 100) / (15 / np.sqrt(40))\n",
    "p_val = 2 * (1 - norm.cdf(abs(z_stat)))\n",
    "\n",
    "print(\"Z-statistic:\", z_stat)\n",
    "print(\"P-value:\", p_val)\n"
   ]
  },
  {
   "cell_type": "code",
   "execution_count": null,
   "id": "03ce04d7",
   "metadata": {},
   "outputs": [],
   "source": [
    "# 3. Implement a one-sample Z-test using Python to compare the sample mean with the population mean.\n",
    "\n",
    "def one_sample_z_test(data, pop_mean, std_dev):\n",
    "    z = (np.mean(data) - pop_mean) / (std_dev / np.sqrt(len(data)))\n",
    "    p = 2 * (1 - norm.cdf(abs(z)))\n",
    "    return z, p\n",
    "\n",
    "data = np.random.normal(loc=48, scale=4, size=35)\n",
    "z, p = one_sample_z_test(data, pop_mean=50, std_dev=4)\n",
    "print(\"Z:\", z, \"P-value:\", p)\n"
   ]
  },
  {
   "cell_type": "code",
   "execution_count": null,
   "id": "521de8ae",
   "metadata": {},
   "outputs": [],
   "source": [
    "# 4. Perform a two-tailed Z-test using Python and visualize the decision region on a plot.\n",
    "\n",
    "x = np.linspace(-4, 4, 1000)\n",
    "y = norm.pdf(x)\n",
    "z_stat = 2.1  # Example\n",
    "\n",
    "plt.plot(x, y, label='Normal Curve')\n",
    "plt.fill_between(x, y, where=(abs(x) > 1.96), color='lightgrey', label='Rejection Region')\n",
    "plt.axvline(z_stat, color='red', linestyle='--', label='Z-statistic')\n",
    "plt.title(\"Two-tailed Z-test\")\n",
    "plt.legend()\n",
    "plt.grid(True)\n",
    "plt.show()\n"
   ]
  },
  {
   "cell_type": "code",
   "execution_count": null,
   "id": "545b82c8",
   "metadata": {},
   "outputs": [],
   "source": [
    "# 5. Create a Python function that calculates and visualizes Type 1 and Type 2 errors during hypothesis testing.\n",
    "\n",
    "def plot_errors():\n",
    "    x = np.linspace(-4, 4, 1000)\n",
    "    h0 = norm.pdf(x, 0, 1)\n",
    "    h1 = norm.pdf(x, 1.5, 1)\n",
    "\n",
    "    plt.plot(x, h0, label='H0: Null Hypothesis')\n",
    "    plt.plot(x, h1, label='H1: Alternative Hypothesis')\n",
    "    plt.fill_between(x, h0, where=(x > 1.96), color='lightcoral', alpha=0.5, label='Type I Error (α)')\n",
    "    plt.fill_between(x, h1, where=(x < 1.96), color='lightblue', alpha=0.5, label='Type II Error (β)')\n",
    "    plt.legend()\n",
    "    plt.title(\"Type I and Type II Errors\")\n",
    "    plt.grid(True)\n",
    "    plt.show()\n",
    "\n",
    "plot_errors()\n"
   ]
  },
  {
   "cell_type": "code",
   "execution_count": null,
   "id": "1b48a3e8",
   "metadata": {},
   "outputs": [],
   "source": [
    "# 6. Write a Python program to perform an independent T-test and interpret the results.\n",
    "\n",
    "group1 = np.random.normal(60, 10, 30)\n",
    "group2 = np.random.normal(65, 12, 30)\n",
    "t_stat, p_val = ttest_ind(group1, group2)\n",
    "\n",
    "print(\"T-statistic:\", t_stat)\n",
    "print(\"P-value:\", p_val)\n",
    "if p_val < 0.05:\n",
    "    print(\"Significant difference.\")\n",
    "else:\n",
    "    print(\"No significant difference.\")\n"
   ]
  },
  {
   "cell_type": "code",
   "execution_count": null,
   "id": "b49982b9",
   "metadata": {},
   "outputs": [],
   "source": [
    "# 7. Perform a paired sample T-test using Python and visualize the comparison results.\n",
    "\n",
    "before = np.random.normal(70, 5, 30)\n",
    "after = before + np.random.normal(2, 2, 30)\n",
    "t_stat, p_val = ttest_rel(before, after)\n",
    "\n",
    "print(\"Paired T-test result:\", t_stat, p_val)\n",
    "plt.plot(before, label=\"Before\")\n",
    "plt.plot(after, label=\"After\")\n",
    "plt.legend()\n",
    "plt.title(\"Paired Sample Comparison\")\n",
    "plt.show()\n"
   ]
  },
  {
   "cell_type": "code",
   "execution_count": null,
   "id": "4e202571",
   "metadata": {},
   "outputs": [],
   "source": [
    "# 8. Simulate data and perform both Z-test and T-test, then compare the results using Python.\n",
    "\n",
    "# Z-test\n",
    "sample_z = np.random.normal(50, 5, 40)\n",
    "z = (np.mean(sample_z) - 50) / (5 / np.sqrt(40))\n",
    "p_z = 2 * (1 - norm.cdf(abs(z)))\n",
    "\n",
    "# T-test\n",
    "sample_t1 = np.random.normal(50, 5, 20)\n",
    "sample_t2 = np.random.normal(52, 5, 20)\n",
    "t_stat, p_t = ttest_ind(sample_t1, sample_t2)\n",
    "\n",
    "print(\"Z-test p-value:\", p_z)\n",
    "print(\"T-test p-value:\", p_t)\n"
   ]
  },
  {
   "cell_type": "code",
   "execution_count": null,
   "id": "ff6c7891",
   "metadata": {},
   "outputs": [],
   "source": [
    "# 9. Write a Python function to calculate the confidence interval for a sample mean and explain its significance.\n",
    "\n",
    "def confidence_interval(data, confidence=0.95):\n",
    "    mean = np.mean(data)\n",
    "    sem = np.std(data, ddof=1) / np.sqrt(len(data))\n",
    "    margin = 1.96 * sem\n",
    "    return (mean - margin, mean + margin)\n",
    "\n",
    "data = np.random.normal(60, 8, 30)\n",
    "print(\"95% CI:\", confidence_interval(data))\n"
   ]
  },
  {
   "cell_type": "code",
   "execution_count": null,
   "id": "da7af01d",
   "metadata": {},
   "outputs": [],
   "source": [
    "# 10. Write a Python program to calculate the margin of error for a given confidence level using sample data.\n",
    "\n",
    "sample = np.random.normal(70, 10, 50)\n",
    "sem = np.std(sample, ddof=1) / np.sqrt(len(sample))\n",
    "moe = 1.96 * sem\n",
    "print(\"Margin of Error:\", moe)\n"
   ]
  },
  {
   "cell_type": "code",
   "execution_count": null,
   "id": "5d186630",
   "metadata": {},
   "outputs": [],
   "source": [
    "# 11. Implement a Bayesian inference method using Bayes' Theorem in Python and explain the process.\n",
    "\n",
    "# P(A|B) = [P(B|A) * P(A)] / P(B)\n",
    "p_a = 0.01  # prior\n",
    "p_b_given_a = 0.9\n",
    "p_b = 0.05\n",
    "\n",
    "p_a_given_b = (p_b_given_a * p_a) / p_b\n",
    "print(\"Posterior Probability (P(A|B)):\", p_a_given_b)\n"
   ]
  },
  {
   "cell_type": "code",
   "execution_count": null,
   "id": "297f35a8",
   "metadata": {},
   "outputs": [],
   "source": [
    "# 12. Perform a Chi-square test for independence between two categorical variables in Python.\n",
    "\n",
    "data = [[30, 10], [20, 40]]\n",
    "\n",
    "chi2, p, dof, expected = chi2_contingency(data)\n",
    "\n",
    "print(\"Chi-square Statistic:\", chi2)\n",
    "print(\"P-value:\", p)\n",
    "print(\"Expected Frequencies:\", expected)\n"
   ]
  },
  {
   "cell_type": "code",
   "execution_count": null,
   "id": "856ab5db",
   "metadata": {},
   "outputs": [],
   "source": [
    "# 13. Write a Python program to calculate the expected frequencies for a Chi-square test based on observed data.\n",
    "\n",
    "\n",
    "data = [[30, 10], [20, 40]]\n",
    "\n",
    "chi2, p, dof, expected = chi2_contingency(data)\n",
    "\n",
    "print(\"Chi-square Statistic:\", chi2)\n",
    "print(\"P-value:\", p)\n",
    "print(\"Expected Frequencies:\", expected)\n"
   ]
  },
  {
   "cell_type": "code",
   "execution_count": null,
   "id": "338e2475",
   "metadata": {},
   "outputs": [],
   "source": [
    "# 14. Perform a goodness-of-fit test using Python to compare the observed data to an expected distribution.\n",
    "\n",
    "from scipy.stats import chisquare\n",
    "\n",
    "observed = [18, 22, 30]\n",
    "expected = [20, 20, 30]\n",
    "\n",
    "chi2_stat, p_value = chisquare(f_obs=observed, f_exp=expected)\n",
    "\n",
    "print(\"Chi-square Statistic:\", chi2_stat)\n",
    "print(\"P-value:\", p_value)\n"
   ]
  }
 ],
 "metadata": {
  "kernelspec": {
   "display_name": "base",
   "language": "python",
   "name": "python3"
  },
  "language_info": {
   "codemirror_mode": {
    "name": "ipython",
    "version": 3
   },
   "file_extension": ".py",
   "mimetype": "text/x-python",
   "name": "python",
   "nbconvert_exporter": "python",
   "pygments_lexer": "ipython3",
   "version": "3.12.7"
  }
 },
 "nbformat": 4,
 "nbformat_minor": 5
}
