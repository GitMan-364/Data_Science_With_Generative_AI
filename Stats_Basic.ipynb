{
 "cells": [
  {
   "cell_type": "markdown",
   "id": "2b758970",
   "metadata": {},
   "source": [
    "# Theory Quetions"
   ]
  },
  {
   "cell_type": "markdown",
   "id": "b44c4f6f",
   "metadata": {},
   "source": [
    "1. What is statistics, and why is it important ?\n",
    "\n",
    "    -  Statistics is the science of collecting, organizing, analyzing, interpreting, and presenting data.\n",
    "        * It helps in understanding patterns, trends, and relationships in data.\n",
    "        * It supports decision-making in fields like business, science, healthcare, and government.\n",
    "        * It converts raw data into meaningful information.\n",
    "        * Statistics reduces uncertainty and helps make predictions or informed conclusions.\n"
   ]
  },
  {
   "cell_type": "markdown",
   "id": "5d5f6573",
   "metadata": {},
   "source": [
    "2. What are the two main types of statistics ? \n",
    "\n",
    "    - The two main types of statistics are:\n",
    "\n",
    "        1. **Descriptive Statistics**\n",
    "\n",
    "        * Summarizes and describes features of a dataset.\n",
    "        * Examples: Mean, median, mode, graphs.\n",
    "\n",
    "        2. **Inferential Statistics**\n",
    "\n",
    "        * Draws conclusions or predictions about a population based on sample data.\n",
    "        * Examples: Hypothesis testing, confidence intervals.\n",
    "\n",
    "        Together, these help understand data (descriptive) and make decisions (inferential).\n"
   ]
  },
  {
   "cell_type": "markdown",
   "id": "b0c425a5",
   "metadata": {},
   "source": [
    "3. What are descriptive statistics ?\n",
    "\n",
    "    - Descriptive statistics summarize and organize data to make it easier to understand.\n",
    "        * It includes **measures of central tendency** (mean, median, mode) and **measures of dispersion** (range, variance, standard deviation).\n",
    "        * Graphical tools like **bar charts**, **pie charts**, and **histograms** are also used.\n",
    "        * It does not make predictions; it just describes what the data shows.\n",
    "        * Example: “The average score of students in the class is 75.”\n"
   ]
  },
  {
   "cell_type": "markdown",
   "id": "1720bbe9",
   "metadata": {},
   "source": [
    "4. What is inferential statistics ?\n",
    "\n",
    "    - Inferential statistics helps in making predictions or generalizations about a population using data from a sample.\n",
    "        * It involves techniques like **hypothesis testing**, **confidence intervals**, and **regression analysis**.\n",
    "        * It helps in **drawing conclusions** when studying an entire population is not possible.\n",
    "        * It uses probability theory to estimate how reliable the inferences are.\n",
    "        * Example: Predicting election results by surveying a small group of voters."
   ]
  },
  {
   "cell_type": "markdown",
   "id": "84d4851b",
   "metadata": {},
   "source": [
    "5. What is sampling in statistics?\n",
    "\n",
    "    - Sampling is the process of selecting a subset of individuals from a larger population.\n",
    "\n",
    "        - It helps in studying the population without collecting data from every member.\n",
    "\n",
    "        - A good sample should be representative of the population.\n",
    "\n",
    "        - It saves time, cost, and effort in data collection.\n",
    "\n",
    "        - Example: Surveying 100 students from a university of 10,000 to study student preferences."
   ]
  },
  {
   "cell_type": "markdown",
   "id": "1831e6df",
   "metadata": {},
   "source": [
    "6. What are the different types of sampling methods ?\n",
    "\n",
    "    - There are several types of sampling methods, each with its own characteristics:\n",
    "\n",
    "        1. **Simple Random Sampling**:\n",
    "\n",
    "        * Every member of the population has an equal chance of being selected.\n",
    "        * Example: Drawing names from a hat.\n",
    "\n",
    "        2. **Systematic Sampling**:\n",
    "\n",
    "        * Selects every *k*th individual from the population after choosing a random starting point.\n",
    "        * Example: Selecting every 10th person on a list.\n",
    "\n",
    "        3. **Stratified Sampling**:\n",
    "\n",
    "        * The population is divided into distinct subgroups (strata) based on a characteristic, and samples are taken from each subgroup.\n",
    "        * Example: Dividing a population by age groups and sampling from each group.\n",
    "\n",
    "        4. **Cluster Sampling**:\n",
    "\n",
    "        * The population is divided into clusters (usually geographically), and a random sample of clusters is selected. All members from chosen clusters are surveyed.\n",
    "        * Example: Randomly selecting certain cities and surveying everyone within those cities.\n",
    "\n",
    "        5. **Convenience Sampling**:\n",
    "\n",
    "        * Samples are taken from the easiest available members of the population.\n",
    "        * Example: Surveying people at a shopping mall because they are easy to access.\n",
    "\n",
    "        Each method has its advantages and limitations, depending on the population and the research objectives.\n"
   ]
  },
  {
   "cell_type": "markdown",
   "id": "ed9647a4",
   "metadata": {},
   "source": [
    "7. What is the difference between random and non-random sampling ?\n",
    "\n",
    "    - The difference between random and non-random sampling lies in how the sample is selected:\n",
    "\n",
    "        1. **Random Sampling**:\n",
    "\n",
    "        * Every member of the population has an equal chance of being selected.\n",
    "        * The selection process is unbiased and purely based on chance.\n",
    "        * Examples: Simple random sampling, systematic sampling, stratified sampling, and cluster sampling.\n",
    "        * **Advantage**: It provides a more representative sample, reducing bias.\n",
    "        * **Disadvantage**: It can be more difficult and time-consuming to implement.\n",
    "\n",
    "        2. **Non-Random Sampling**:\n",
    "\n",
    "        * Members of the population are selected based on specific criteria or convenience, not randomly.\n",
    "        * The selection process is biased and not based on chance.\n",
    "        * Examples: Convenience sampling, judgmental sampling, and quota sampling.\n",
    "        * **Advantage**: It is easier and quicker to conduct.\n",
    "        * **Disadvantage**: It may lead to biased samples and less reliable results.\n",
    "\n",
    "        In short, **random sampling** ensures fairness and reduces bias, while **non-random sampling** is quicker but may introduce bias.\n"
   ]
  },
  {
   "cell_type": "markdown",
   "id": "ab2a57d9",
   "metadata": {},
   "source": [
    "8. Define and give examples of qualitative and quantitative data.\n",
    "\n",
    "    - **Qualitative Data**:\n",
    "\n",
    "        * Also known as categorical data, it represents characteristics or qualities that cannot be measured numerically.\n",
    "        * It describes \"what\" something is, not \"how much\" or \"how many.\"\n",
    "        * **Examples**:\n",
    "\n",
    "            * **Colors** (e.g., red, blue, green).\n",
    "            * **Gender** (e.g., male, female, other).\n",
    "            * **Types of animals** (e.g., dog, cat, bird).\n",
    "            * **Opinions** (e.g., \"happy,\" \"sad,\" \"excited\").\n",
    "\n",
    "        **Quantitative Data**:\n",
    "\n",
    "        * Also known as numerical data, it represents amounts or quantities that can be measured and counted.\n",
    "        * It describes \"how much\" or \"how many\" of something there is.\n",
    "        * **Examples**:\n",
    "\n",
    "            * **Age** (e.g., 25 years, 40 years).\n",
    "            * **Height** (e.g., 5 feet 8 inches, 6 feet).\n",
    "            * **Salary** (e.g., \\$50,000, \\$75,000).\n",
    "            * **Temperature** (e.g., 30°C, 100°F).\n",
    "\n",
    "        In summary, **qualitative data** deals with categories or labels, while **quantitative data** deals with numerical measurements.\n"
   ]
  },
  {
   "cell_type": "markdown",
   "id": "10286a1a",
   "metadata": {},
   "source": [
    "9. What are the different types of data in statistics ?\n",
    "\n",
    "    - In statistics, data can be classified into different types based on its characteristics and the level of measurement. The main types of data are:\n",
    "\n",
    "        1. **Qualitative (Categorical) Data**:\n",
    "\n",
    "        * Represents categories or labels without numerical significance.\n",
    "        * **Subtypes**:\n",
    "\n",
    "            * **Nominal Data**: Categories without a specific order.\n",
    "\n",
    "            * Example: Colors (red, blue, green).\n",
    "            * **Ordinal Data**: Categories with a meaningful order or ranking, but the differences between the categories are not measurable.\n",
    "\n",
    "            * Example: Ranks (1st, 2nd, 3rd).\n",
    "\n",
    "        2. **Quantitative (Numerical) Data**:\n",
    "\n",
    "        * Represents numbers that can be measured or counted.\n",
    "        * **Subtypes**:\n",
    "\n",
    "            * **Discrete Data**: Data that can only take specific values (usually integers).\n",
    "\n",
    "            * Example: Number of children in a family (0, 1, 2, etc.).\n",
    "            * **Continuous Data**: Data that can take any value within a given range.\n",
    "\n",
    "            * Example: Height (5.5 feet, 6.1 feet, etc.), temperature (22.3°C, 37.8°C).\n",
    "\n",
    "        3. **Time-Series Data**:\n",
    "\n",
    "        * Data collected or recorded at different points in time.\n",
    "        * Example: Monthly sales figures for a company.\n",
    "\n",
    "        4. **Cross-Sectional Data**:\n",
    "\n",
    "        * Data collected at a single point in time or over a short period.\n",
    "        * Example: Survey responses from individuals taken on one specific day.\n",
    "\n",
    "        These data types help determine how to organize, analyze, and interpret information in statistical studies.\n"
   ]
  },
  {
   "cell_type": "markdown",
   "id": "dbce2b35",
   "metadata": {},
   "source": [
    "10. Explain nominal, ordinal, interval, and ratio levels of measurement.\n",
    "\n",
    "    - The levels of measurement describe the nature of the data and how it can be quantified or categorized. They are ranked from least to most detailed. Here’s a breakdown:\n",
    "\n",
    "        1. **Nominal Level**:\n",
    "\n",
    "        * **Definition**: Data at the nominal level are categorical, with no meaningful order or ranking between categories.\n",
    "        * **Characteristics**:\n",
    "\n",
    "            * Categories are simply labels.\n",
    "            * No comparison or ordering is possible.\n",
    "        * **Examples**:\n",
    "\n",
    "            * Gender (Male, Female).\n",
    "            * Eye color (Blue, Brown, Green).\n",
    "            * Nationality (American, French, Japanese).\n",
    "\n",
    "        2. **Ordinal Level**:\n",
    "\n",
    "        * **Definition**: Data at the ordinal level involve categories that have a meaningful order or ranking, but the differences between the ranks are not measurable.\n",
    "        * **Characteristics**:\n",
    "\n",
    "            * Data can be ranked or ordered.\n",
    "            * The exact differences between the ranks are not known.\n",
    "        * **Examples**:\n",
    "\n",
    "            * Education level (High school, Bachelor's, Master's, Doctorate).\n",
    "            * Satisfaction ratings (Poor, Fair, Good, Excellent).\n",
    "\n",
    "        3. **Interval Level**:\n",
    "\n",
    "        * **Definition**: Data at the interval level have both order and equal intervals between values, but there is no true zero point.\n",
    "        * **Characteristics**:\n",
    "\n",
    "            * Data can be ordered, and the difference between values is meaningful.\n",
    "            * No true zero; zero is arbitrary.\n",
    "        * **Examples**:\n",
    "\n",
    "            * Temperature in Celsius or Fahrenheit (the difference between 10°C and 20°C is the same as between 30°C and 40°C, but 0°C does not mean \"no temperature\").\n",
    "            * IQ scores (the difference between scores is consistent, but a score of 0 doesn’t mean \"no intelligence\").\n",
    "\n",
    "        4. **Ratio Level**:\n",
    "\n",
    "        * **Definition**: Data at the ratio level have all the properties of the other levels (order, equal intervals), but also have a true zero point, meaning zero indicates the absence of the quantity.\n",
    "        * **Characteristics**:\n",
    "\n",
    "            * Data can be ordered, intervals are consistent, and zero means the complete absence of the quantity.\n",
    "            * Ratios between values are meaningful.\n",
    "        * **Examples**:\n",
    "\n",
    "            * Height (0 cm means no height, and 10 cm is twice as tall as 5 cm).\n",
    "            * Weight (0 kg means no weight, and 20 kg is twice as heavy as 10 kg).\n",
    "            * Age (0 years means no age, and 40 years is twice as old as 20 years).\n",
    "\n",
    "        ### Summary:\n",
    "\n",
    "        * **Nominal**: Categories without order.\n",
    "        * **Ordinal**: Categories with order but no measurable differences.\n",
    "        * **Interval**: Ordered categories with equal intervals, but no true zero.\n",
    "        * **Ratio**: Ordered, equal intervals, and a true zero point.\n"
   ]
  },
  {
   "cell_type": "markdown",
   "id": "41f7cf53",
   "metadata": {},
   "source": [
    "11. What is the measure of central tendency ?\n",
    "\n",
    "   - The **measure of central tendency** is a statistical measure used to determine the center or typical value of a dataset. It helps summarize a set of data points with a single value that represents the \"central\" or \"average\" value of the data. The main measures of central tendency are:\n",
    "\n",
    "      1. **Mean** (Arithmetic Average):\n",
    "\n",
    "         * **Definition**: The mean is the sum of all the data values divided by the number of values.\n",
    "         * **Formula**:\n",
    "\n",
    "         $$\n",
    "         \\text{Mean} = \\frac{\\sum X}{n}\n",
    "         $$\n",
    "\n",
    "         where $\\sum X$ is the sum of all data points and $n$ is the number of data points.\n",
    "         * **Example**: For the data set (2, 3, 5, 7), the mean is $\\frac{2+3+5+7}{4} = 4.25$.\n",
    "      2. **Median**:\n",
    "\n",
    "         * **Definition**: The median is the middle value when the data are arranged in ascending or descending order. If there is an even number of data points, the median is the average of the two middle values.\n",
    "         * **Example**: For the data set (2, 3, 5, 7), the median is the average of 3 and 5, which is $\\frac{3+5}{2} = 4$. For an odd number of data points like (2, 3, 5), the median is 3.\n",
    "      3. **Mode**:\n",
    "\n",
    "         * **Definition**: The mode is the value that appears most frequently in the dataset. A dataset may have:\n",
    "\n",
    "         * One mode (unimodal),\n",
    "         * Two modes (bimodal),\n",
    "         * Or more than two modes (multimodal).\n",
    "         * **Example**: For the data set (2, 3, 3, 5, 7), the mode is 3 because it appears twice.\n",
    "\n",
    "      ### Summary:\n",
    "\n",
    "      * **Mean**: The average of all data points.\n",
    "      * **Median**: The middle value of the ordered data.\n",
    "      * **Mode**: The most frequent value in the data.\n",
    "\n",
    "      Each measure is useful in different scenarios and provides different insights into the data.\n"
   ]
  },
  {
   "cell_type": "markdown",
   "id": "ec1992ee",
   "metadata": {},
   "source": [
    "12. Define mean, median, and mode.\n",
    "\n",
    "    - Here are the definitions for **mean**, **median**, and **mode**:\n",
    "\n",
    "        1. **Mean**:\n",
    "\n",
    "        * **Definition**: The mean is the arithmetic average of a set of numbers. It is calculated by adding all the data points and dividing the sum by the total number of data points.\n",
    "        * **Formula**:\n",
    "\n",
    "            $$\n",
    "            \\text{Mean} = \\frac{\\sum X}{n}\n",
    "            $$\n",
    "\n",
    "            where $\\sum X$ is the sum of all data points and $n$ is the total number of data points.\n",
    "        * **Example**: For the data set (2, 3, 5, 7), the mean is $\\frac{2+3+5+7}{4} = 4.25$.\n",
    "\n",
    "        2. **Median**:\n",
    "\n",
    "        * **Definition**: The median is the middle value of a dataset when the numbers are arranged in ascending or descending order. If the dataset has an odd number of values, the median is the middle number. If the dataset has an even number of values, the median is the average of the two middle numbers.\n",
    "        * **Example**: For the data set (2, 3, 5, 7), the median is $\\frac{3+5}{2} = 4$. For an odd set like (2, 3, 5), the median is 3.\n",
    "\n",
    "        3. **Mode**:\n",
    "\n",
    "        * **Definition**: The mode is the value that appears most frequently in a dataset. A dataset can have one mode (unimodal), more than one mode (bimodal or multimodal), or no mode if all values are unique.\n",
    "        * **Example**: For the data set (2, 3, 3, 5, 7), the mode is 3, as it appears more frequently than the other numbers.\n",
    "\n",
    "        ### Summary:\n",
    "\n",
    "        * **Mean**: The average of the data.\n",
    "        * **Median**: The middle value of the data.\n",
    "        * **Mode**: The most frequently occurring value in the data.\n",
    "\n",
    "\n"
   ]
  },
  {
   "cell_type": "markdown",
   "id": "1567a912",
   "metadata": {},
   "source": [
    "13. What is the significance of the measure of central tendency ?\n",
    "\n",
    "    - The **measure of central tendency** is significant because it helps summarize a large set of data with a single representative value, making it easier to understand and interpret the data. Here are the key points highlighting its significance:\n",
    "\n",
    "        1. **Simplifies Data**:\n",
    "\n",
    "        * It reduces large amounts of data into a single value that represents the center of the dataset, making the data easier to analyze and interpret.\n",
    "\n",
    "        2. **Describes Typical or Central Value**:\n",
    "\n",
    "        * It helps identify the typical or central value of a dataset, providing an understanding of where most data points lie.\n",
    "\n",
    "        3. **Facilitates Comparison**:\n",
    "\n",
    "        * Measures of central tendency allow for comparisons between different datasets or groups. For example, comparing the mean test scores of two classes can show which class performed better overall.\n",
    "\n",
    "        4. **Guides Decision-Making**:\n",
    "\n",
    "        * In fields like economics, business, or social sciences, knowing the average or typical value of a set of data can inform decisions, such as setting prices, making policy changes, or allocating resources.\n",
    "\n",
    "        5. **Helps in Further Analysis**:\n",
    "\n",
    "        * It is often the first step in statistical analysis. Once the central tendency is understood, it provides a foundation for further analysis, such as examining the spread or variability of data (through measures like variance or standard deviation)."
   ]
  },
  {
   "cell_type": "markdown",
   "id": "ee286743",
   "metadata": {},
   "source": [
    "14. What is variance, and how is it calculated ?\n",
    "\n",
    "    - **Variance** is a statistical measure that describes the spread or dispersion of a set of data points. It quantifies how much the values in a dataset differ from the mean (average) of the dataset. A higher variance indicates that the data points are more spread out, while a lower variance means the data points are closer to the mean.\n",
    "\n",
    "        **Formula for Variance**:\n",
    "\n",
    "        For a **population**:\n",
    "\n",
    "        $$\n",
    "        \\text{Variance} (\\sigma^2) = \\frac{\\sum (X_i - \\mu)^2}{N}\n",
    "        $$\n",
    "\n",
    "        where:\n",
    "\n",
    "        * $X_i$ = each individual data point,\n",
    "        * $\\mu$ = the mean of the population,\n",
    "        * $N$ = the total number of data points in the population.\n",
    "\n",
    "        For a **sample**:\n",
    "\n",
    "        $$\n",
    "        \\text{Variance} (s^2) = \\frac{\\sum (X_i - \\bar{X})^2}{n-1}\n",
    "        $$\n",
    "\n",
    "        where:\n",
    "\n",
    "        * $X_i$ = each individual data point,\n",
    "        * $\\bar{X}$ = the mean of the sample,\n",
    "        * $n$ = the number of data points in the sample.\n",
    "\n",
    "        **Steps to Calculate Variance**:\n",
    "\n",
    "        1. **Find the Mean**:\n",
    "\n",
    "            * Calculate the mean ($\\mu$ or $\\bar{X}$) of the dataset.\n",
    "\n",
    "        2. **Subtract the Mean**:\n",
    "\n",
    "            * Subtract the mean from each data point ($X_i - \\mu$ or $X_i - \\bar{X}$) to find the deviation of each point from the mean.\n",
    "\n",
    "        3. **Square the Deviations**:\n",
    "\n",
    "            * Square each of the deviations to make them positive ($(X_i - \\mu)^2$).\n",
    "\n",
    "        4. **Calculate the Sum of Squares**:\n",
    "\n",
    "            * Add up all the squared deviations.\n",
    "\n",
    "        5. **Divide by the Number of Data Points**:\n",
    "\n",
    "            * For population variance, divide by $N$ (total data points).\n",
    "            * For sample variance, divide by $n - 1$ (one less than the total number of data points).\n",
    "\n"
   ]
  },
  {
   "cell_type": "markdown",
   "id": "81ca0b62",
   "metadata": {},
   "source": [
    "15. What is standard deviation, and why is it important?\n",
    "\n",
    "    - **Standard Deviation** is a statistical measure that quantifies the amount of variation or dispersion in a dataset. It is the square root of the variance, providing a measure of how spread out the values in a dataset are around the mean. Unlike variance, which is in squared units, standard deviation is in the same units as the original data, making it easier to interpret.\n",
    "\n",
    "        **Formula for Standard Deviation**:\n",
    "\n",
    "        For a **population**:\n",
    "\n",
    "        $$\n",
    "        \\text{Standard Deviation} (\\sigma) = \\sqrt{\\frac{\\sum (X_i - \\mu)^2}{N}}\n",
    "        $$\n",
    "\n",
    "        where:\n",
    "\n",
    "        * $X_i$ = each individual data point,\n",
    "        * $\\mu$ = the mean of the population,\n",
    "        * $N$ = the total number of data points in the population.\n",
    "\n",
    "        For a **sample**:\n",
    "\n",
    "        $$\n",
    "        \\text{Standard Deviation} (s) = \\sqrt{\\frac{\\sum (X_i - \\bar{X})^2}{n-1}}\n",
    "        $$\n",
    "\n",
    "        where:\n",
    "\n",
    "        * $X_i$ = each individual data point,\n",
    "        * $\\bar{X}$ = the mean of the sample,\n",
    "        * $n$ = the number of data points in the sample.\n",
    "\n",
    "        **Steps to Calculate Standard Deviation**:\n",
    "\n",
    "        1. **Find the Mean**:\n",
    "\n",
    "            * Calculate the mean ($\\mu$ or $\\bar{X}$) of the dataset.\n",
    "\n",
    "        2. **Find the Deviations**:\n",
    "\n",
    "            * Subtract the mean from each data point ($X_i - \\mu$ or $X_i - \\bar{X}$).\n",
    "\n",
    "        3. **Square the Deviations**:\n",
    "\n",
    "            * Square each deviation to get rid of negative values ($(X_i - \\mu)^2$).\n",
    "\n",
    "        4. **Calculate the Variance**:\n",
    "\n",
    "            * Sum all the squared deviations, then divide by the number of data points ($N$ for population or $n - 1$ for sample).\n",
    "\n",
    "        5. **Take the Square Root**:\n",
    "\n",
    "            * Finally, take the square root of the variance to get the standard deviation.\n",
    "\n",
    "        **Importance of Standard Deviation**:\n",
    "\n",
    "        1. **Understanding Data Spread**:\n",
    "\n",
    "            * Standard deviation shows how spread out the data is around the mean. A larger standard deviation indicates that the data points are more spread out, while a smaller standard deviation means the data points are closer to the mean.\n",
    "\n",
    "        2. **Comparison of Datasets**:\n",
    "\n",
    "            * It helps compare datasets. For example, if two datasets have the same mean but different standard deviations, the one with the higher standard deviation has more variability.\n",
    "\n",
    "        3. **Statistical Analysis**:\n",
    "\n",
    "            * Standard deviation is essential in various statistical methods, such as confidence intervals, hypothesis testing, and probability distributions (like the normal distribution).\n",
    "\n",
    "        4. **Decision-Making**:\n",
    "\n",
    "            * In fields like finance, economics, and quality control, standard deviation helps assess risk, variability, and consistency, supporting more informed decisions.\n",
    "        "
   ]
  },
  {
   "cell_type": "markdown",
   "id": "2762dd41",
   "metadata": {},
   "source": [
    "16. Define and explain the term range in statistics.\n",
    "\n",
    "    - **Range** is a measure of the spread or dispersion of a dataset. It represents the difference between the largest and smallest values in the data. The range gives a simple indication of how spread out the values are, but it doesn't provide information about the distribution of values between the extremes.\n",
    "\n",
    "        **Formula for Range**:\n",
    "\n",
    "        $$\n",
    "        \\text{Range} = \\text{Maximum Value} - \\text{Minimum Value}\n",
    "        $$\n",
    "\n",
    "        **Steps to Calculate Range**:\n",
    "\n",
    "        1. **Identify the Maximum Value**: Find the largest value in the dataset.\n",
    "        2. **Identify the Minimum Value**: Find the smallest value in the dataset.\n",
    "        3. **Subtract** the minimum value from the maximum value to get the range.\n",
    "\n",
    "        **Example**:\n",
    "\n",
    "        For the dataset: 3, 7, 5, 1, 9\n",
    "\n",
    "        1. **Maximum Value** = 9\n",
    "        2. **Minimum Value** = 1\n",
    "        3. **Range** = $9 - 1 = 8$\n",
    "\n",
    "        **Significance of Range**:\n",
    "\n",
    "        1. **Simple Measure of Dispersion**:\n",
    "\n",
    "            * The range is easy to compute and gives a quick idea of the spread of values in a dataset.\n",
    "\n",
    "        2. **Indicates Data Spread**:\n",
    "\n",
    "            * A larger range suggests a wider spread between the minimum and maximum values, while a smaller range indicates that the data values are closer together.\n",
    "\n",
    "        3. **Limitations**:\n",
    "\n",
    "            * The range is sensitive to extreme values (outliers) and doesn't consider the distribution of values between the minimum and maximum, which can make it less reliable for understanding data dispersion in some cases.\n"
   ]
  },
  {
   "cell_type": "markdown",
   "id": "aff68fdc",
   "metadata": {},
   "source": [
    "17. What is the difference between variance and standard deviation ?\n",
    "\n",
    "    - The **variance** and **standard deviation** are both measures of the spread or dispersion of a dataset, but they differ in their calculation and interpretation. Here's a breakdown of the key differences:\n",
    "\n",
    "        1. **Definition**:\n",
    "\n",
    "            * **Variance**: Variance is the average of the squared differences from the mean. It measures how much each data point in the set differs from the mean, squared.\n",
    "            * **Standard Deviation**: Standard deviation is the square root of the variance. It measures the spread of data points in the same units as the original data, making it easier to interpret.\n",
    "\n",
    "        2. **Formula**:\n",
    "\n",
    "            * **Variance (Population)**:\n",
    "\n",
    "            $$\n",
    "            \\sigma^2 = \\frac{\\sum (X_i - \\mu)^2}{N}\n",
    "            $$\n",
    "            * **Variance (Sample)**:\n",
    "\n",
    "            $$\n",
    "            s^2 = \\frac{\\sum (X_i - \\bar{X})^2}{n-1}\n",
    "            $$\n",
    "            * **Standard Deviation (Population)**:\n",
    "\n",
    "            $$\n",
    "            \\sigma = \\sqrt{\\frac{\\sum (X_i - \\mu)^2}{N}}\n",
    "            $$\n",
    "            * **Standard Deviation (Sample)**:\n",
    "\n",
    "            $$\n",
    "            s = \\sqrt{\\frac{\\sum (X_i - \\bar{X})^2}{n-1}}\n",
    "            $$\n",
    "\n",
    "        3. **Units**:\n",
    "\n",
    "            * **Variance**: Since variance involves squaring the differences from the mean, its units are the square of the original data units. For example, if the data is in meters, the variance will be in square meters.\n",
    "            * **Standard Deviation**: Standard deviation is in the same units as the original data, making it easier to interpret. For example, if the data is in meters, the standard deviation will also be in meters.\n",
    "\n",
    "        4. **Interpretation**:\n",
    "\n",
    "            * **Variance**: Variance is a more abstract measure because it involves squared values. While it provides a precise numerical measure of dispersion, its units are not directly interpretable in the context of the original data.\n",
    "            * **Standard Deviation**: Standard deviation is more intuitive because it is in the same units as the data. It is easier to understand and more commonly used in practice to describe the spread of data.\n",
    "\n",
    "        5. **Usefulness**:\n",
    "\n",
    "            * **Variance**: Variance is useful in statistical analyses and is the basis for calculating other measures like the **coefficient of variation**. It is also crucial for many inferential statistics techniques, such as analysis of variance (ANOVA).\n",
    "            * **Standard Deviation**: Standard deviation is more commonly used in practice, especially in fields like finance, quality control, and social sciences, because it provides a more understandable measure of data spread.\n",
    "\n"
   ]
  },
  {
   "cell_type": "markdown",
   "id": "b876119e",
   "metadata": {},
   "source": [
    "18. What is skewness in a dataset ?\n",
    "\n",
    "    - **Skewness** refers to the measure of the asymmetry or lack of symmetry in the distribution of a dataset. It indicates whether the data points are distributed evenly around the mean or whether they are skewed to one side. A dataset can be **positively skewed**, **negatively skewed**, or **symmetrical**.\n",
    "\n",
    "        **Types of Skewness**:\n",
    "\n",
    "        1. **Positive Skew (Right Skew)**:\n",
    "        - In a positively skewed distribution, the right tail (larger values) is longer than the left tail (smaller values).\n",
    "        - The majority of the data points are concentrated on the left side of the distribution, while a few larger values stretch the right tail.\n",
    "        - **Mean > Median > Mode** (i.e., the mean is pulled in the direction of the tail).\n",
    "        - Example: Income distribution, where most people earn average to low income, but a few earn very high incomes.\n",
    "\n",
    "        2. **Negative Skew (Left Skew)**:\n",
    "        - In a negatively skewed distribution, the left tail (smaller values) is longer than the right tail (larger values).\n",
    "        - The majority of the data points are concentrated on the right side of the distribution, with a few smaller values stretching the left tail.\n",
    "        - **Mean < Median < Mode** (i.e., the mean is pulled to the left by the lower values).\n",
    "        - Example: Age at retirement, where most people retire in their 60s, but some may retire early.\n",
    "\n",
    "        3. **No Skew (Symmetrical Distribution)**:\n",
    "        - In a symmetrical distribution, the data points are evenly distributed around the mean, and the left and right sides of the distribution are mirror images.\n",
    "        - **Mean = Median = Mode**.\n",
    "        - Example: Heights of adults in a population (approximately normally distributed).\n",
    "\n",
    "        **Interpretation of Skewness**:\n",
    "        - **Skewness = 0**: The distribution is perfectly symmetrical.\n",
    "        - **Skewness > 0**: Positive skew (right-skewed).\n",
    "        - **Skewness < 0**: Negative skew (left-skewed).\n",
    "        - **Skewness between -0.5 and 0.5**: The distribution is approximately symmetrical.\n",
    "        - **Skewness between -1 and -0.5 or between 0.5 and 1**: Moderately skewed.\n",
    "        - **Skewness < -1 or > 1**: Highly skewed.\n"
   ]
  },
  {
   "cell_type": "markdown",
   "id": "2afc326a",
   "metadata": {},
   "source": [
    "19. What does it mean if a dataset is positively or negatively skewed ?\n",
    "\n",
    "    - When a dataset is **positively skewed** or **negatively skewed**, it means the data distribution is asymmetrical, with one tail (side) of the distribution being longer than the other. Here's what each type of skewness means:\n",
    "\n",
    "        1. **Positively Skewed (Right Skewed)**:\n",
    "\n",
    "            * **Definition**: In a **positively skewed** dataset, the right tail (larger values) is longer or more spread out than the left tail. This means there are a few very large values that stretch the distribution to the right.\n",
    "            * **Characteristics**:\n",
    "\n",
    "            * The **mean** is greater than the **median**, which is greater than the **mode** (i.e., **Mean > Median > Mode**).\n",
    "            * Most data points are concentrated on the left side of the distribution.\n",
    "            * The right tail (higher values) is stretched or skewed.\n",
    "            * **Interpretation**: The presence of a few high outliers or extreme values pulls the mean to the right, making the distribution right-skewed.\n",
    "            * **Example**: Income distribution—most people earn average to low income, but a few individuals earn very high incomes, which creates a long right tail.\n",
    "       \n",
    "        2. **Negatively Skewed (Left Skewed)**:\n",
    "\n",
    "            * **Definition**: In a **negatively skewed** dataset, the left tail (smaller values) is longer or more spread out than the right tail. This means there are a few very small values that stretch the distribution to the left.\n",
    "            * **Characteristics**:\n",
    "\n",
    "            * The **mean** is less than the **median**, which is less than the **mode** (i.e., **Mean < Median < Mode**).\n",
    "            * Most data points are concentrated on the right side of the distribution.\n",
    "            * The left tail (lower values) is stretched or skewed.\n",
    "            * **Interpretation**: The presence of a few very low outliers or extreme values pulls the mean to the left, creating a left-skewed distribution.\n",
    "            * **Example**: Age at retirement—most people retire in their 60s, but a few people retire much earlier, creating a long left tail.\n",
    "\n"
   ]
  },
  {
   "cell_type": "markdown",
   "id": "e00e64db",
   "metadata": {},
   "source": [
    "20. Define and explain kurtosis.\n",
    "\n",
    "    - **Kurtosis** is a statistical measure that describes the shape of the distribution of data, specifically focusing on the **tail thickness** and the **peakedness** of the distribution. It indicates how much data points are concentrated in the tails (extremes) and the peak of the distribution compared to a normal distribution.\n",
    "\n",
    "        **Kurtosis Formula**:\n",
    "\n",
    "        For a sample, the kurtosis is calculated as:\n",
    "\n",
    "        $$\n",
    "        Kurtosis = \\frac{n(n+1)}{(n-1)(n-2)(n-3)} \\sum \\left(\\frac{X_i - \\bar{X}}{s}\\right)^4 - \\frac{3(n-1)^2}{(n-2)(n-3)}\n",
    "        $$\n",
    "\n",
    "        Where:\n",
    "\n",
    "        * $X_i$ = individual data points,\n",
    "        * $\\bar{X}$ = mean of the sample,\n",
    "        * $s$ = standard deviation of the sample,\n",
    "        * $n$ = number of data points.\n",
    "\n",
    "        **Interpreting Kurtosis**:\n",
    "\n",
    "        * **Kurtosis > 3 (Leptokurtic)**: Data has more extreme values or outliers and is sharply peaked.\n",
    "        * **Kurtosis < 3 (Platykurtic)**: Data is more spread out and has fewer extreme values.\n",
    "        * **Kurtosis = 3 (Mesokurtic)**: Data follows a normal distribution with moderate peaks and tails.\n"
   ]
  },
  {
   "cell_type": "markdown",
   "id": "7c2176b0",
   "metadata": {},
   "source": [
    "21. What is the purpose of covariance ?\n",
    "\n",
    "    - **Covariance** is a statistical measure that helps in determining the relationship between two random variables. It shows whether the variables tend to move in the same direction (positive covariance), in opposite directions (negative covariance), or if there is no predictable relationship (zero covariance).\n",
    "\n",
    "        **Purpose of Covariance**:\n",
    "\n",
    "        1. **Measure of Relationship Between Two Variables**:\n",
    "\n",
    "        * Covariance helps to understand the **direction** of the linear relationship between two variables. Specifically, it indicates whether the variables are positively related, negatively related, or have no relationship.\n",
    "\n",
    "            * **Positive Covariance**: When one variable increases, the other variable also increases (e.g., height and weight).\n",
    "            * **Negative Covariance**: When one variable increases, the other decreases (e.g., the amount of exercise and body weight).\n",
    "            * **Zero Covariance**: There is no predictable linear relationship between the two variables.\n",
    "\n",
    "        2. **Identifying Patterns in Data**:\n",
    "\n",
    "        * Covariance provides an understanding of how two variables **move together** or **move in opposite directions**, which can be useful in various applications, such as finance, economics, and science.\n",
    "        * For example, in **finance**, covariance is used to understand how different asset returns (stocks, bonds) move relative to each other, which helps in building a diversified investment portfolio.\n",
    "\n",
    "        3. **Building Correlation**:\n",
    "\n",
    "        * Covariance is the foundation for calculating the **correlation coefficient**. While covariance provides the direction of the relationship, the correlation coefficient standardizes this value to provide a clearer understanding of the strength of the relationship.\n",
    "        * **Correlation** is calculated by dividing covariance by the product of the standard deviations of the two variables, making the value between -1 and 1.\n",
    "\n",
    "        4. **Modeling and Prediction**:\n",
    "\n",
    "        * Covariance is used in **regression analysis** and **machine learning models** to understand how independent variables (predictors) influence the dependent variable. This helps in developing models that can predict future outcomes based on the relationship between variables.\n",
    "        * It also plays a crucial role in **multivariate analysis**, where multiple variables are analyzed together.\n"
   ]
  },
  {
   "cell_type": "markdown",
   "id": "027251de",
   "metadata": {},
   "source": [
    "22.  What does correlation measure in statistics ?\n",
    "\n",
    "   - **Correlation** in statistics measures the **strength** and **direction** of the **linear relationship** between two variables. It quantifies how strongly two variables are related and whether they tend to move in the same direction, opposite directions, or show no relationship at all.\n",
    "\n",
    "   **Key Aspects of Correlation**:\n",
    "\n",
    "   1. **Direction of the Relationship**:\n",
    "\n",
    "      * **Positive Correlation**: If two variables tend to increase or decrease together, the correlation is **positive**. For example, as the temperature increases, the sales of ice cream might also increase.\n",
    "      * **Negative Correlation**: If one variable increases while the other decreases, the correlation is **negative**. For example, as the number of hours of sleep decreases, exam performance might decrease.\n",
    "      * **Zero or No Correlation**: If the two variables do not have any linear relationship, the correlation is close to **zero**. For example, the height of a person and their favorite color are likely to have zero correlation.\n",
    "\n",
    "   2. **Strength of the Relationship**:\n",
    "\n",
    "      * The **correlation coefficient** (often denoted by **r**) measures how strong the relationship is between the two variables.\n",
    "      * **r values range from -1 to +1**:\n",
    "\n",
    "      * **r = +1**: Perfect positive correlation (both variables move in the same direction perfectly).\n",
    "      * **r = -1**: Perfect negative correlation (one variable moves in the opposite direction of the other perfectly).\n",
    "      * **r = 0**: No correlation (the variables do not have any linear relationship).\n",
    "      * **r > 0** and **r < 0**: Positive and negative correlations, respectively, with values closer to +1 or -1 indicating a stronger relationship.\n",
    "\n",
    "   4. **Types of Correlation**:\n",
    "\n",
    "      * **Pearson’s Correlation**: Measures the linear relationship between two continuous variables.\n",
    "      * **Spearman’s Rank Correlation**: Measures the strength and direction of the relationship between two ranked variables or when the data is not normally distributed."
   ]
  },
  {
   "cell_type": "markdown",
   "id": "04372986",
   "metadata": {},
   "source": [
    "23. What is the difference between covariance and correlation ?\n",
    "\n",
    "  - **Covariance** and **correlation** are both statistical measures that indicate the relationship between two variables, but they differ in terms of scale and interpretation. Here's a detailed comparison:\n",
    "\n",
    "    1. **Definition**:\n",
    "\n",
    "    * **Covariance**:\n",
    "\n",
    "      * Measures the **direction** of the linear relationship between two variables.\n",
    "      * It tells you whether the variables **increase or decrease together** (positive covariance) or if one increases while the other decreases (negative covariance).\n",
    "    * **Correlation**:\n",
    "\n",
    "      * Measures the **strength** and **direction** of the linear relationship between two variables.\n",
    "      * It provides a standardized value (between -1 and +1) that tells you how strongly the two variables are related.\n",
    "\n",
    "    2. **Scale**:\n",
    "\n",
    "    * **Covariance**:\n",
    "\n",
    "      * The value of covariance depends on the **units** of the variables. It is not standardized, which means that it can be difficult to interpret, especially when comparing datasets with different units or scales.\n",
    "    * **Correlation**:\n",
    "\n",
    "      * The value of correlation is **standardized** and always lies between -1 and +1, regardless of the units of the variables. This makes it easier to compare relationships between different datasets.\n",
    "\n",
    "    3. **Formula**:\n",
    "\n",
    "    * **Covariance**:\n",
    "\n",
    "      $$\n",
    "      \\text{Cov}(X, Y) = \\frac{1}{n-1} \\sum_{i=1}^{n} \\left( X_i - \\bar{X} \\right) \\left( Y_i - \\bar{Y} \\right)\n",
    "      $$\n",
    "    * **Correlation**:\n",
    "\n",
    "      $$\n",
    "      r = \\frac{\\text{Cov}(X, Y)}{\\sigma_X \\sigma_Y}\n",
    "      $$\n",
    "\n",
    "      Where:\n",
    "\n",
    "      * $\\sigma_X$ and $\\sigma_Y$ are the standard deviations of the variables $X$ and $Y$.\n",
    "      * The correlation coefficient is derived by dividing the covariance by the product of the standard deviations of the two variables, which standardizes it.\n",
    "\n",
    "    4. **Interpretation**:\n",
    "\n",
    "    * **Covariance**:\n",
    "\n",
    "      * If the covariance is **positive**, the variables tend to increase together. If the covariance is **negative**, one variable increases as the other decreases. If the covariance is **zero**, there is no linear relationship.\n",
    "    * **Correlation**:\n",
    "\n",
    "      * **r = +1**: Perfect positive correlation (variables move in the same direction perfectly).\n",
    "      * **r = -1**: Perfect negative correlation (variables move in opposite directions perfectly).\n",
    "      * **r = 0**: No linear correlation (variables do not move in a linear relationship).\n",
    "      * The **strength** of the relationship is indicated by how far the correlation value is from zero.\n",
    "\n",
    "    5. **Units**:\n",
    "\n",
    "    * **Covariance**: Has **units** that are the product of the units of the two variables. For example, if one variable is in meters and the other is in seconds, the covariance will be in meter-seconds.\n",
    "    * **Correlation**: Is **unitless** because it is a normalized measure. It makes interpretation and comparison easier since it does not depend on the scale of the data.\n",
    "      "
   ]
  },
  {
   "cell_type": "markdown",
   "id": "b0ce3c71",
   "metadata": {},
   "source": [
    "24. What are some real-world applications of statistics ?\n",
    "\n",
    "    - Statistics plays a crucial role in various fields, providing insights that help in decision-making, analysis, and predictions. Here are some **real-world applications of statistics**:\n",
    "\n",
    "        1. **Healthcare and Medicine**:\n",
    "\n",
    "        * **Clinical Trials**: Statistics are used to analyze the effectiveness of new drugs, treatments, or therapies by comparing the outcomes between groups (e.g., treatment vs. placebo).\n",
    "        * **Epidemiology**: Helps track disease outbreaks, identify risk factors, and assess public health policies. For example, statistical models were essential in analyzing COVID-19 data.\n",
    "        * **Medical Imaging**: Statistical techniques help in analyzing and improving the quality of images from MRI scans, X-rays, and CT scans, allowing better diagnostics.\n",
    "\n",
    "        2. **Technology and Data Science**:\n",
    "\n",
    "        * **Machine Learning and AI**: Statistical methods form the foundation of machine learning algorithms, helping in tasks like classification, regression, and clustering.\n",
    "        * **Data Mining**: Statistics is essential for extracting meaningful patterns and insights from large datasets, which can be used for business intelligence, marketing strategies, and decision-making.\n",
    "        * **Recommendation Systems**: Online platforms like Amazon, Netflix, and YouTube use statistical models to recommend products, movies, or content based on users' past behavior.\n",
    "\n",
    "        3. **Transportation and Logistics**:\n",
    "\n",
    "        * **Traffic Analysis**: Statistics help in analyzing traffic patterns, accidents, and congestion, providing data for improving transportation planning and infrastructure.\n",
    "        * **Supply Chain Management**: Companies use statistical models to optimize inventory levels, distribution routes, and demand forecasting, ensuring efficient delivery of goods.\n",
    "        * **Flight Scheduling and Optimization**: Airlines use statistical data to manage flight schedules, optimize routes, and improve on-time performance.\n"
   ]
  },
  {
   "cell_type": "markdown",
   "id": "13c23462",
   "metadata": {},
   "source": [
    "# Practical Questions"
   ]
  },
  {
   "cell_type": "code",
   "execution_count": 2,
   "id": "949890fc",
   "metadata": {},
   "outputs": [
    {
     "name": "stdout",
     "output_type": "stream",
     "text": [
      "Mean: 5\n",
      "Median: 5.0\n",
      "Mode: 5\n"
     ]
    }
   ],
   "source": [
    "# 1. How do you calculate the mean, median, and mode of a dataset ?\n",
    "\n",
    "dataset = [1, 2, 3, 4, 5, 5, 6, 7, 8, 9]\n",
    "import statistics\n",
    "mean = statistics.mean(dataset)\n",
    "median = statistics.median(dataset)\n",
    "mode = statistics.mode(dataset)\n",
    "print(f\"Mean: {mean}\")\n",
    "print(f\"Median: {median}\")\n",
    "print(f\"Mode: {mode}\")"
   ]
  },
  {
   "cell_type": "code",
   "execution_count": 4,
   "id": "6fcd7516",
   "metadata": {},
   "outputs": [
    {
     "name": "stdout",
     "output_type": "stream",
     "text": [
      "Variance: 6.666666666666667\n",
      "Standard Deviation: 2.581988897471611\n"
     ]
    }
   ],
   "source": [
    "# 2. Write a Python program to compute the variance and standard deviation of a dataset ?\n",
    "\n",
    "variance = statistics.variance(dataset)\n",
    "std_dev = statistics.stdev(dataset)\n",
    "print(f\"Variance: {variance}\")\n",
    "print(f\"Standard Deviation: {std_dev}\")"
   ]
  },
  {
   "cell_type": "code",
   "execution_count": 5,
   "id": "19983414",
   "metadata": {},
   "outputs": [
    {
     "name": "stdout",
     "output_type": "stream",
     "text": [
      "Dataset Classification:\n",
      "Nominal: ['red', 'blue', 'green']\n",
      "Ordinal: ['low', 'medium', 'high']\n",
      "Interval: [1, 2, 3, 4, 5]\n",
      "Ratio: [10, 20, 30, 40]\n"
     ]
    }
   ],
   "source": [
    "# 3.  Create a dataset and classify it into nominal, ordinal, interval, and ratio types.\n",
    "\n",
    "dataset = {\n",
    "    \"nominal\": [\"red\", \"blue\", \"green\"],\n",
    "    \"ordinal\": [\"low\", \"medium\", \"high\"],\n",
    "    \"interval\": [1, 2, 3, 4, 5],\n",
    "    \"ratio\": [10, 20, 30, 40]\n",
    "}\n",
    "print(\"Dataset Classification:\")\n",
    "for key, value in dataset.items():\n",
    "    print(f\"{key.capitalize()}: {value}\")"
   ]
  },
  {
   "cell_type": "code",
   "execution_count": 6,
   "id": "35f2ce17",
   "metadata": {},
   "outputs": [
    {
     "name": "stdout",
     "output_type": "stream",
     "text": [
      "Random Sample: [{'value': 4, 'stratum': 'B'}]\n",
      "Stratified Sample: [{'value': 2, 'stratum': 'A'}, {'value': 4, 'stratum': 'B'}, {'value': 5, 'stratum': 'C'}]\n"
     ]
    }
   ],
   "source": [
    "# 4. Implement sampling techniques like random sampling and stratified sampling.\n",
    "\n",
    "import random\n",
    "def random_sampling(data, sample_size):\n",
    "    return random.sample(data, sample_size)\n",
    "def stratified_sampling(data, strata, sample_size):\n",
    "    stratified_samples = []\n",
    "    for stratum in strata:\n",
    "        stratum_data = [item for item in data if item['stratum'] == stratum]\n",
    "        stratified_samples.extend(random.sample(stratum_data, sample_size))\n",
    "    return stratified_samples\n",
    "data = [\n",
    "    {'value': 1, 'stratum': 'A'},\n",
    "    {'value': 2, 'stratum': 'A'},\n",
    "    {'value': 3, 'stratum': 'B'},\n",
    "    {'value': 4, 'stratum': 'B'},\n",
    "    {'value': 5, 'stratum': 'C'},\n",
    "    {'value': 6, 'stratum': 'C'},\n",
    "]\n",
    "sample_size = 1\n",
    "random_sample = random_sampling(data, sample_size)\n",
    "strata = ['A', 'B', 'C']\n",
    "stratified_sample = stratified_sampling(data, strata, sample_size)\n",
    "print(f\"Random Sample: {random_sample}\")\n",
    "print(f\"Stratified Sample: {stratified_sample}\")"
   ]
  },
  {
   "cell_type": "code",
   "execution_count": 9,
   "id": "35dff184",
   "metadata": {},
   "outputs": [
    {
     "name": "stdout",
     "output_type": "stream",
     "text": [
      "Range of dataset: 4\n"
     ]
    }
   ],
   "source": [
    "# 5. Write a Python function to calculate the range of a dataset.\n",
    "\n",
    "def calculate_range(data):\n",
    "    return max(data) - min(data)\n",
    "data = [1, 2, 3, 4, 5]\n",
    "data_range = calculate_range(data)\n",
    "print(f\"Range of dataset: {data_range}\")"
   ]
  },
  {
   "cell_type": "code",
   "execution_count": 10,
   "id": "d59445cb",
   "metadata": {},
   "outputs": [
    {
     "data": {
      "image/png": "[encoded data removed]",
      "text/plain": [
       "<Figure size 640x480 with 1 Axes>"
      ]
     },
     "metadata": {},
     "output_type": "display_data"
    }
   ],
   "source": [
    "# 6. Create a dataset and plot its histogram to visualize skewness.\n",
    "\n",
    "import matplotlib.pyplot as plt\n",
    "import numpy as np\n",
    "data = np.random.normal(0, 1, 1000)\n",
    "plt.hist(data, bins=30, alpha=0.7, color='blue')\n",
    "plt.title('Histogram of Dataset')\n",
    "plt.xlabel('Value')\n",
    "plt.ylabel('Frequency')\n",
    "plt.grid(True)\n",
    "plt.show()"
   ]
  },
  {
   "cell_type": "code",
   "execution_count": 11,
   "id": "c49d32d6",
   "metadata": {},
   "outputs": [
    {
     "name": "stdout",
     "output_type": "stream",
     "text": [
      "Skewness: 0.0\n",
      "Kurtosis: -1.0333333333333334\n"
     ]
    }
   ],
   "source": [
    "# 7. Calculate skewness and kurtosis of a dataset using Python libraries.\n",
    "\n",
    "from scipy.stats import skew, kurtosis\n",
    "data = [1, 2, 3, 4, 5, 5, 6, 7, 8, 9]\n",
    "data_skewness = skew(data)\n",
    "data_kurtosis = kurtosis(data)\n",
    "print(f\"Skewness: {data_skewness}\")\n",
    "print(f\"Kurtosis: {data_kurtosis}\")"
   ]
  },
  {
   "cell_type": "code",
   "execution_count": 12,
   "id": "42d6fb59",
   "metadata": {},
   "outputs": [
    {
     "data": {
      "image/png": "[encoded data removed]",
      "text/plain": [
       "<Figure size 1200x600 with 2 Axes>"
      ]
     },
     "metadata": {},
     "output_type": "display_data"
    }
   ],
   "source": [
    "# 8. Generate a dataset and demonstrate positive and negative skewness.\n",
    "\n",
    "data_positive_skew = np.random.exponential(scale=2, size=1000)\n",
    "data_negative_skew = np.random.normal(loc=0, scale=1, size=1000)\n",
    "plt.figure(figsize=(12, 6))\n",
    "plt.subplot(1, 2, 1)\n",
    "plt.hist(data_positive_skew, bins=30, alpha=0.7, color='green')\n",
    "plt.title('Positive Skewness')\n",
    "plt.xlabel('Value')\n",
    "plt.ylabel('Frequency')\n",
    "plt.subplot(1, 2, 2)\n",
    "plt.hist(data_negative_skew, bins=30, alpha=0.7, color='red')\n",
    "plt.title('Negative Skewness')\n",
    "plt.xlabel('Value')\n",
    "plt.ylabel('Frequency')\n",
    "plt.tight_layout()\n",
    "plt.show()"
   ]
  },
  {
   "cell_type": "code",
   "execution_count": 13,
   "id": "ced60644",
   "metadata": {},
   "outputs": [
    {
     "name": "stdout",
     "output_type": "stream",
     "text": [
      "Covariance: -2.0\n"
     ]
    }
   ],
   "source": [
    "# 9. Write a Python script to calculate covariance between two datasets.\n",
    "\n",
    "def calculate_covariance(data1, data2):\n",
    "    if len(data1) != len(data2):\n",
    "        raise ValueError(\"Datasets must be of the same length\")\n",
    "    mean1 = statistics.mean(data1)\n",
    "    mean2 = statistics.mean(data2)\n",
    "    covariance = sum((x - mean1) * (y - mean2) for x, y in zip(data1, data2)) / len(data1)\n",
    "    return covariance\n",
    "data1 = [1, 2, 3, 4, 5]\n",
    "data2 = [5, 4, 3, 2, 1]\n",
    "covariance = calculate_covariance(data1, data2)\n",
    "print(f\"Covariance: {covariance}\")"
   ]
  },
  {
   "cell_type": "code",
   "execution_count": 14,
   "id": "392ae3c8",
   "metadata": {},
   "outputs": [
    {
     "name": "stdout",
     "output_type": "stream",
     "text": [
      "Correlation Coefficient: -0.7999999999999998\n"
     ]
    }
   ],
   "source": [
    "# 10. Write a Python script to calculate the correlation coefficient between two datasets.\n",
    "\n",
    "def calculate_correlation(data1, data2):\n",
    "    if len(data1) != len(data2):\n",
    "        raise ValueError(\"Datasets must be of the same length\")\n",
    "    mean1 = statistics.mean(data1)\n",
    "    mean2 = statistics.mean(data2)\n",
    "    covariance = calculate_covariance(data1, data2)\n",
    "    std_dev1 = statistics.stdev(data1)\n",
    "    std_dev2 = statistics.stdev(data2)\n",
    "    correlation = covariance / (std_dev1 * std_dev2)\n",
    "    return correlation\n",
    "data1 = [1, 2, 3, 4, 5]\n",
    "data2 = [5, 4, 3, 2, 1]\n",
    "correlation = calculate_correlation(data1, data2)\n",
    "print(f\"Correlation Coefficient: {correlation}\")"
   ]
  },
  {
   "cell_type": "code",
   "execution_count": 15,
   "id": "f7704ad6",
   "metadata": {},
   "outputs": [
    {
     "data": {
      "image/png": "[encoded data removed]",
      "text/plain": [
       "<Figure size 640x480 with 1 Axes>"
      ]
     },
     "metadata": {},
     "output_type": "display_data"
    }
   ],
   "source": [
    "# 11. Create a scatter plot to visualize the relationship between two variables.\n",
    "\n",
    "x = np.random.rand(100)\n",
    "y = np.random.rand(100)\n",
    "plt.scatter(x, y, alpha=0.5)\n",
    "plt.title('Scatter Plot of Two Variables')\n",
    "plt.xlabel('Variable X')\n",
    "plt.ylabel('Variable Y')\n",
    "plt.grid(True)\n",
    "plt.show()"
   ]
  },
  {
   "cell_type": "code",
   "execution_count": 16,
   "id": "8217aeb9",
   "metadata": {},
   "outputs": [
    {
     "name": "stdout",
     "output_type": "stream",
     "text": [
      "Random Sample: [7, 3, 9, 1, 4]\n",
      "Systematic Sample: [1, 3, 5, 7, 9]\n"
     ]
    }
   ],
   "source": [
    "# 12. Implement and compare simple random sampling and systematic sampling.\n",
    "\n",
    "def systematic_sampling(data, k):\n",
    "    return data[::k]\n",
    "data = [1, 2, 3, 4, 5, 6, 7, 8, 9, 10]\n",
    "k = 2\n",
    "random_sample = random_sampling(data, 5)\n",
    "systematic_sample = systematic_sampling(data, k)\n",
    "print(f\"Random Sample: {random_sample}\")\n",
    "print(f\"Systematic Sample: {systematic_sample}\")"
   ]
  },
  {
   "cell_type": "code",
   "execution_count": 17,
   "id": "57bd336d",
   "metadata": {},
   "outputs": [
    {
     "name": "stdout",
     "output_type": "stream",
     "text": [
      "Grouped Data - Mean: 2.7857142857142856, Median: 3, Mode: 3\n"
     ]
    }
   ],
   "source": [
    "# 13. Calculate the mean, median, and mode of grouped data.\n",
    "\n",
    "def grouped_data_statistics(data):\n",
    "    total_frequency = sum(data.values())\n",
    "    mean = sum(value * frequency for value, frequency in data.items()) / total_frequency\n",
    "    median = None\n",
    "    cumulative_frequency = 0\n",
    "    for value, frequency in sorted(data.items()):\n",
    "        cumulative_frequency += frequency\n",
    "        if cumulative_frequency >= total_frequency / 2:\n",
    "            median = value\n",
    "            break\n",
    "    mode = max(data, key=data.get)\n",
    "    return mean, median, mode\n",
    "grouped_data = {1: 2, 2: 3, 3: 5, 4: 4}\n",
    "mean, median, mode = grouped_data_statistics(grouped_data)\n",
    "print(f\"Grouped Data - Mean: {mean}, Median: {median}, Mode: {mode}\")"
   ]
  },
  {
   "cell_type": "code",
   "execution_count": 18,
   "id": "1671ecba",
   "metadata": {},
   "outputs": [
    {
     "name": "stdout",
     "output_type": "stream",
     "text": [
      "Simulated Data - Mean: 0.058689917179451885, Median: 0.07683945312451282, Standard Deviation: 0.9476272723236977\n"
     ]
    }
   ],
   "source": [
    "# 14. Simulate data using Python and calculate its central tendency and dispersion.\n",
    "\n",
    "def simulate_data(size):\n",
    "    return np.random.normal(loc=0, scale=1, size=size)\n",
    "data = simulate_data(1000)\n",
    "mean = np.mean(data)\n",
    "median = np.median(data)\n",
    "std_dev = np.std(data)\n",
    "print(f\"Simulated Data - Mean: {mean}, Median: {median}, Standard Deviation: {std_dev}\")"
   ]
  },
  {
   "cell_type": "code",
   "execution_count": 19,
   "id": "eb86b46c",
   "metadata": {},
   "outputs": [
    {
     "name": "stdout",
     "output_type": "stream",
     "text": [
      "Descriptive Statistics Summary:\n",
      "                A           B           C\n",
      "count  100.000000  100.000000  100.000000\n",
      "mean     0.455155    0.507207    0.515860\n",
      "std      0.281387    0.291286    0.296289\n",
      "min      0.020314    0.012968    0.018027\n",
      "25%      0.202150    0.259727    0.291734\n",
      "50%      0.432828    0.479040    0.511945\n",
      "75%      0.669698    0.801532    0.777112\n",
      "max      0.995714    0.993822    0.997713\n"
     ]
    }
   ],
   "source": [
    "# 15 Use NumPy or pandas to summarize a dataset’s descriptive statistics.\n",
    "\n",
    "import pandas as pd\n",
    "data = pd.DataFrame({\n",
    "    'A': np.random.rand(100),\n",
    "    'B': np.random.rand(100),\n",
    "    'C': np.random.rand(100)\n",
    "})\n",
    "summary = data.describe()\n",
    "print(\"Descriptive Statistics Summary:\")\n",
    "print(summary)"
   ]
  },
  {
   "cell_type": "code",
   "execution_count": 20,
   "id": "24a7a745",
   "metadata": {},
   "outputs": [
    {
     "data": {
      "image/png": "[encoded data removed]",
      "text/plain": [
       "<Figure size 800x600 with 1 Axes>"
      ]
     },
     "metadata": {},
     "output_type": "display_data"
    }
   ],
   "source": [
    "# 16. Plot a boxplot to understand the spread and identify outliers.\n",
    "\n",
    "import seaborn as sns\n",
    "data = np.random.normal(size=100)\n",
    "plt.figure(figsize=(8, 6))\n",
    "sns.boxplot(data=data)\n",
    "plt.title('Boxplot of Dataset')\n",
    "plt.xlabel('Value')\n",
    "plt.grid(True)\n",
    "plt.show()"
   ]
  },
  {
   "cell_type": "code",
   "execution_count": 21,
   "id": "57e4b6e8",
   "metadata": {},
   "outputs": [
    {
     "name": "stdout",
     "output_type": "stream",
     "text": [
      "Interquartile Range (IQR): 4.0\n"
     ]
    }
   ],
   "source": [
    "# 17. Calculate the interquartile range (IQR) of a dataset.\n",
    "\n",
    "def calculate_iqr(data):\n",
    "    q1 = np.percentile(data, 25)\n",
    "    q3 = np.percentile(data, 75)\n",
    "    iqr = q3 - q1\n",
    "    return iqr\n",
    "data = [1, 2, 3, 4, 5, 6, 7, 8, 9]\n",
    "iqr = calculate_iqr(data)\n",
    "print(f\"Interquartile Range (IQR): {iqr}\")"
   ]
  },
  {
   "cell_type": "code",
   "execution_count": 22,
   "id": "a6f7bfbe",
   "metadata": {},
   "outputs": [
    {
     "name": "stdout",
     "output_type": "stream",
     "text": [
      "Z-score Normalized Data: [-1.414213562373095, -0.7071067811865475, 0.0, 0.7071067811865475, 1.414213562373095]\n"
     ]
    }
   ],
   "source": [
    "# 18. Implement Z-score normalization and explain its significance.\n",
    "\n",
    "def z_score_normalization(data):\n",
    "    mean = np.mean(data)\n",
    "    std_dev = np.std(data)\n",
    "    return [(x - mean) / std_dev for x in data]\n",
    "data = [1, 2, 3, 4, 5]\n",
    "normalized_data = z_score_normalization(data)\n",
    "print(f\"Z-score Normalized Data: {normalized_data}\")"
   ]
  },
  {
   "cell_type": "code",
   "execution_count": 23,
   "id": "d384ad75",
   "metadata": {},
   "outputs": [
    {
     "name": "stdout",
     "output_type": "stream",
     "text": [
      "Standard Deviation of Data1: 1.4142135623730951\n",
      "Standard Deviation of Data2: 1.4142135623730951\n"
     ]
    }
   ],
   "source": [
    "# 19. Compare two datasets using their standard deviations.\n",
    "\n",
    "def compare_standard_deviations(data1, data2):\n",
    "    std_dev1 = np.std(data1)\n",
    "    std_dev2 = np.std(data2)\n",
    "    return std_dev1, std_dev2\n",
    "data1 = [1, 2, 3, 4, 5]\n",
    "data2 = [5, 6, 7, 8, 9]\n",
    "std_dev1, std_dev2 = compare_standard_deviations(data1, data2)\n",
    "print(f\"Standard Deviation of Data1: {std_dev1}\")\n",
    "print(f\"Standard Deviation of Data2: {std_dev2}\")"
   ]
  },
  {
   "cell_type": "code",
   "execution_count": 26,
   "id": "d886e52f",
   "metadata": {},
   "outputs": [
    {
     "data": {
      "image/png": "[encoded data removed]",
      "text/plain": [
       "<Figure size 800x600 with 2 Axes>"
      ]
     },
     "metadata": {},
     "output_type": "display_data"
    }
   ],
   "source": [
    "# 20. Write a Python program to visualize covariance using a heatmap.\n",
    "\n",
    "import seaborn as sns\n",
    "import matplotlib.pyplot as plt\n",
    "data = pd.DataFrame({\n",
    "    'A': np.random.rand(100),\n",
    "    'B': np.random.rand(100),\n",
    "    'C': np.random.rand(100)\n",
    "})\n",
    "correlation_matrix = data.corr()\n",
    "plt.figure(figsize=(8, 6))\n",
    "sns.heatmap(correlation_matrix, annot=True, cmap='coolwarm', fmt=\".2f\")\n",
    "plt.title('Covariance Heatmap')\n",
    "plt.show()"
   ]
  },
  {
   "cell_type": "code",
   "execution_count": 27,
   "id": "addb32cb",
   "metadata": {},
   "outputs": [
    {
     "data": {
      "image/png": "[encoded data removed]",
      "text/plain": [
       "<Figure size 800x600 with 2 Axes>"
      ]
     },
     "metadata": {},
     "output_type": "display_data"
    }
   ],
   "source": [
    "# 21. Use seaborn to create a correlation matrix for a dataset\n",
    "\n",
    "import seaborn as sns\n",
    "import matplotlib.pyplot as plt\n",
    "import pandas as pd\n",
    "import numpy as np\n",
    "data = pd.DataFrame({\n",
    "    'A': np.random.rand(100),\n",
    "    'B': np.random.rand(100),\n",
    "    'C': np.random.rand(100)\n",
    "})\n",
    "correlation_matrix = data.corr()\n",
    "plt.figure(figsize=(8, 6))\n",
    "sns.heatmap(correlation_matrix, annot=True, cmap='coolwarm', fmt=\".2f\")\n",
    "plt.title('Correlation Matrix')\n",
    "plt.show()"
   ]
  },
  {
   "cell_type": "code",
   "execution_count": 29,
   "id": "7a43d7fd",
   "metadata": {},
   "outputs": [
    {
     "name": "stdout",
     "output_type": "stream",
     "text": [
      "Variance: 0.0872634544473196\n",
      "Standard Deviation: 0.2954038836022973\n"
     ]
    }
   ],
   "source": [
    "# 22. Generate a dataset and implement both variance and standard deviation computations.\n",
    "\n",
    "import numpy as np\n",
    "data = np.random.rand(100)\n",
    "variance = np.var(data)\n",
    "std_dev = np.std(data)\n",
    "print(f\"Variance: {variance}\")\n",
    "print(f\"Standard Deviation: {std_dev}\")"
   ]
  },
  {
   "cell_type": "code",
   "execution_count": 30,
   "id": "31968b4d",
   "metadata": {},
   "outputs": [
    {
     "data": {
      "image/png": "[encoded data removed]",
      "text/plain": [
       "<Figure size 1200x600 with 2 Axes>"
      ]
     },
     "metadata": {},
     "output_type": "display_data"
    }
   ],
   "source": [
    "# 23. Visualize skewness and kurtosis using Python libraries like matplotlib or seaborn.\n",
    "\n",
    "import seaborn as sns\n",
    "import matplotlib.pyplot as plt\n",
    "import numpy as np\n",
    "data = np.random.normal(loc=0, scale=1, size=1000)\n",
    "plt.figure(figsize=(12, 6))\n",
    "plt.subplot(1, 2, 1)\n",
    "sns.histplot(data, kde=True)\n",
    "plt.title('Histogram with KDE')\n",
    "plt.subplot(1, 2, 2)\n",
    "sns.boxplot(data=data)\n",
    "plt.title('Boxplot')\n",
    "plt.tight_layout()\n",
    "plt.show()"
   ]
  },
  {
   "cell_type": "code",
   "execution_count": 31,
   "id": "e2a7aad5",
   "metadata": {},
   "outputs": [
    {
     "name": "stdout",
     "output_type": "stream",
     "text": [
      "Pearson Correlation Coefficient: -0.09762546079703424\n",
      "Spearman Correlation Coefficient: -0.12154815481548153\n"
     ]
    }
   ],
   "source": [
    "# 24. Implement the Pearson and Spearman correlation coefficients for a dataset.\n",
    "\n",
    "from scipy.stats import pearsonr, spearmanr\n",
    "data1 = np.random.rand(100)\n",
    "data2 = np.random.rand(100)\n",
    "pearson_corr, _ = pearsonr(data1, data2)\n",
    "spearman_corr, _ = spearmanr(data1, data2)\n",
    "print(f\"Pearson Correlation Coefficient: {pearson_corr}\")\n",
    "print(f\"Spearman Correlation Coefficient: {spearman_corr}\")"
   ]
  }
 ],
 "metadata": {
  "kernelspec": {
   "display_name": "base",
   "language": "python",
   "name": "python3"
  },
  "language_info": {
   "codemirror_mode": {
    "name": "ipython",
    "version": 3
   },
   "file_extension": ".py",
   "mimetype": "text/x-python",
   "name": "python",
   "nbconvert_exporter": "python",
   "pygments_lexer": "ipython3",
   "version": "3.12.7"
  }
 },
 "nbformat": 4,
 "nbformat_minor": 5
}
